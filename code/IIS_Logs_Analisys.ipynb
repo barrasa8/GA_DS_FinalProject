{
 "cells": [
  {
   "cell_type": "code",
   "execution_count": 2,
   "metadata": {},
   "outputs": [],
   "source": [
    "import pandas as pd\n",
    "import statsmodels.api as sm\n",
    "import numpy as np\n",
    "import seaborn as sns\n",
    "import matplotlib.pyplot as plt\n",
    "import geoip2.database\n",
    "import myLogReader as mlr\n",
    "import re\n",
    "import os\n",
    "import sys\n",
    "import datetime as dt\n",
    "\n",
    "%matplotlib inline"
   ]
  },
  {
   "cell_type": "markdown",
   "metadata": {},
   "source": [
    "## Automate - Read and Prep log data into DF"
   ]
  },
  {
   "cell_type": "code",
   "execution_count": 14,
   "metadata": {},
   "outputs": [],
   "source": [
    "logsPath = '../data/logs'\n",
    "geoLiteIPDBPath = '../data/GeoLite2-City_20181009/GeoLite2-City.mmdb'\n",
    "\n",
    "#Create a myLogReader object\n",
    "myLogReader = mlr.log()\n",
    "#Open Reader\n",
    "myLogReader.openReader(geoLiteIPDBPath)"
   ]
  },
  {
   "cell_type": "code",
   "execution_count": 16,
   "metadata": {},
   "outputs": [
    {
     "name": "stdout",
     "output_type": "stream",
     "text": [
      "AggregatedData_week_2.csv\n",
      "../data/logs\\u_ex171230.log\n",
      "../data/logs\\u_ex171231.log\n",
      "../data/logs\\u_ex180101.log\n",
      "../data/logs\\u_ex180102.log\n",
      "../data/logs\\u_ex180103.log\n",
      "../data/logs\\u_ex180104.log\n",
      "../data/logs\\u_ex180105.log\n",
      "AggregatedData_week_3.csv\n",
      "../data/logs\\u_ex180106.log\n",
      "../data/logs\\u_ex180107.log\n",
      "../data/logs\\u_ex180108.log\n",
      "../data/logs\\u_ex180109.log\n",
      "../data/logs\\u_ex180110.log\n",
      "../data/logs\\u_ex180111.log\n",
      "../data/logs\\u_ex180112.log\n"
     ]
    }
   ],
   "source": [
    "for i in range(2,4):\n",
    "    print ('AggregatedData_week_%d.csv' % i)\n",
    "    df =  myLogReader.readLogs(logsPath,7)\n",
    "    df.to_csv('../data/AggregatedData_week_%d.csv' % i)"
   ]
  },
  {
   "cell_type": "code",
   "execution_count": 4,
   "metadata": {},
   "outputs": [],
   "source": [
    "#Close Reader\n",
    "myLogReader.closeReader()"
   ]
  },
  {
   "cell_type": "code",
   "execution_count": 8,
   "metadata": {},
   "outputs": [
    {
     "data": {
      "text/html": [
       "<div>\n",
       "<style scoped>\n",
       "    .dataframe tbody tr th:only-of-type {\n",
       "        vertical-align: middle;\n",
       "    }\n",
       "\n",
       "    .dataframe tbody tr th {\n",
       "        vertical-align: top;\n",
       "    }\n",
       "\n",
       "    .dataframe thead th {\n",
       "        text-align: right;\n",
       "    }\n",
       "</style>\n",
       "<table border=\"1\" class=\"dataframe\">\n",
       "  <thead>\n",
       "    <tr style=\"text-align: right;\">\n",
       "      <th></th>\n",
       "      <th>client-ip-unique-count</th>\n",
       "      <th>cs-username-unique-count</th>\n",
       "      <th>client-connections-count</th>\n",
       "      <th>time-taken(ms)-sum</th>\n",
       "      <th>Chrome-count</th>\n",
       "      <th>Firefox-count</th>\n",
       "      <th>Other-count</th>\n",
       "      <th>Safari-count</th>\n",
       "      <th>Desktop-count</th>\n",
       "      <th>Mobile-count</th>\n",
       "    </tr>\n",
       "    <tr>\n",
       "      <th>calendar-year-week</th>\n",
       "      <th></th>\n",
       "      <th></th>\n",
       "      <th></th>\n",
       "      <th></th>\n",
       "      <th></th>\n",
       "      <th></th>\n",
       "      <th></th>\n",
       "      <th></th>\n",
       "      <th></th>\n",
       "      <th></th>\n",
       "    </tr>\n",
       "  </thead>\n",
       "  <tbody>\n",
       "    <tr>\n",
       "      <th>2017-50</th>\n",
       "      <td>925</td>\n",
       "      <td>415</td>\n",
       "      <td>89497</td>\n",
       "      <td>52520170.0</td>\n",
       "      <td>38500</td>\n",
       "      <td>7784</td>\n",
       "      <td>27741</td>\n",
       "      <td>15472</td>\n",
       "      <td>80440</td>\n",
       "      <td>9057</td>\n",
       "    </tr>\n",
       "    <tr>\n",
       "      <th>2017-51</th>\n",
       "      <td>866</td>\n",
       "      <td>386</td>\n",
       "      <td>81378</td>\n",
       "      <td>44703569.0</td>\n",
       "      <td>39664</td>\n",
       "      <td>6585</td>\n",
       "      <td>21274</td>\n",
       "      <td>13855</td>\n",
       "      <td>72925</td>\n",
       "      <td>8453</td>\n",
       "    </tr>\n",
       "    <tr>\n",
       "      <th>2017-52</th>\n",
       "      <td>475</td>\n",
       "      <td>179</td>\n",
       "      <td>30843</td>\n",
       "      <td>14199684.0</td>\n",
       "      <td>9978</td>\n",
       "      <td>553</td>\n",
       "      <td>14279</td>\n",
       "      <td>6033</td>\n",
       "      <td>27735</td>\n",
       "      <td>3108</td>\n",
       "    </tr>\n",
       "    <tr>\n",
       "      <th>2018-1</th>\n",
       "      <td>769</td>\n",
       "      <td>354</td>\n",
       "      <td>71528</td>\n",
       "      <td>42663674.0</td>\n",
       "      <td>31666</td>\n",
       "      <td>8049</td>\n",
       "      <td>19512</td>\n",
       "      <td>12301</td>\n",
       "      <td>64710</td>\n",
       "      <td>6818</td>\n",
       "    </tr>\n",
       "    <tr>\n",
       "      <th>2018-2</th>\n",
       "      <td>920</td>\n",
       "      <td>441</td>\n",
       "      <td>90093</td>\n",
       "      <td>63904084.0</td>\n",
       "      <td>38238</td>\n",
       "      <td>6166</td>\n",
       "      <td>23249</td>\n",
       "      <td>22440</td>\n",
       "      <td>79099</td>\n",
       "      <td>10994</td>\n",
       "    </tr>\n",
       "  </tbody>\n",
       "</table>\n",
       "</div>"
      ],
      "text/plain": [
       "                    client-ip-unique-count  cs-username-unique-count  \\\n",
       "calendar-year-week                                                     \n",
       "2017-50                                925                       415   \n",
       "2017-51                                866                       386   \n",
       "2017-52                                475                       179   \n",
       "2018-1                                 769                       354   \n",
       "2018-2                                 920                       441   \n",
       "\n",
       "                    client-connections-count  time-taken(ms)-sum  \\\n",
       "calendar-year-week                                                 \n",
       "2017-50                                89497          52520170.0   \n",
       "2017-51                                81378          44703569.0   \n",
       "2017-52                                30843          14199684.0   \n",
       "2018-1                                 71528          42663674.0   \n",
       "2018-2                                 90093          63904084.0   \n",
       "\n",
       "                    Chrome-count  Firefox-count  Other-count  Safari-count  \\\n",
       "calendar-year-week                                                           \n",
       "2017-50                    38500           7784        27741         15472   \n",
       "2017-51                    39664           6585        21274         13855   \n",
       "2017-52                     9978            553        14279          6033   \n",
       "2018-1                     31666           8049        19512         12301   \n",
       "2018-2                     38238           6166        23249         22440   \n",
       "\n",
       "                    Desktop-count  Mobile-count  \n",
       "calendar-year-week                               \n",
       "2017-50                     80440          9057  \n",
       "2017-51                     72925          8453  \n",
       "2017-52                     27735          3108  \n",
       "2018-1                      64710          6818  \n",
       "2018-2                      79099         10994  "
      ]
     },
     "execution_count": 8,
     "metadata": {},
     "output_type": "execute_result"
    }
   ],
   "source": [
    "df.head()"
   ]
  },
  {
   "cell_type": "markdown",
   "metadata": {},
   "source": [
    "## 2- Load PlacementSummary and Logs Data aggregated per week"
   ]
  },
  {
   "cell_type": "code",
   "execution_count": 49,
   "metadata": {},
   "outputs": [],
   "source": [
    "log_aggregated_per_week_df = pd.read_csv('../data/LogsAggregatedData_per_week.csv')\n",
    "log_aggregated_per_week_df.set_index('calendar-year-week',inplace=True)"
   ]
  },
  {
   "cell_type": "code",
   "execution_count": 27,
   "metadata": {},
   "outputs": [
    {
     "data": {
      "text/html": [
       "<div>\n",
       "<style scoped>\n",
       "    .dataframe tbody tr th:only-of-type {\n",
       "        vertical-align: middle;\n",
       "    }\n",
       "\n",
       "    .dataframe tbody tr th {\n",
       "        vertical-align: top;\n",
       "    }\n",
       "\n",
       "    .dataframe thead th {\n",
       "        text-align: right;\n",
       "    }\n",
       "</style>\n",
       "<table border=\"1\" class=\"dataframe\">\n",
       "  <thead>\n",
       "    <tr style=\"text-align: right;\">\n",
       "      <th></th>\n",
       "      <th>client-ip-unique-count</th>\n",
       "      <th>cs-username-unique-count</th>\n",
       "      <th>client-connections-count</th>\n",
       "      <th>time-taken(ms)-sum</th>\n",
       "      <th>Chrome-count</th>\n",
       "      <th>Firefox-count</th>\n",
       "      <th>Other-count</th>\n",
       "      <th>Safari-count</th>\n",
       "      <th>Desktop-count</th>\n",
       "      <th>Mobile-count</th>\n",
       "    </tr>\n",
       "    <tr>\n",
       "      <th>calendar-year-week</th>\n",
       "      <th></th>\n",
       "      <th></th>\n",
       "      <th></th>\n",
       "      <th></th>\n",
       "      <th></th>\n",
       "      <th></th>\n",
       "      <th></th>\n",
       "      <th></th>\n",
       "      <th></th>\n",
       "      <th></th>\n",
       "    </tr>\n",
       "  </thead>\n",
       "  <tbody>\n",
       "    <tr>\n",
       "      <th>2017-50</th>\n",
       "      <td>925</td>\n",
       "      <td>415</td>\n",
       "      <td>89497</td>\n",
       "      <td>52520170.0</td>\n",
       "      <td>38500</td>\n",
       "      <td>7784</td>\n",
       "      <td>27741</td>\n",
       "      <td>15472</td>\n",
       "      <td>80440</td>\n",
       "      <td>9057</td>\n",
       "    </tr>\n",
       "    <tr>\n",
       "      <th>2017-51</th>\n",
       "      <td>866</td>\n",
       "      <td>386</td>\n",
       "      <td>81378</td>\n",
       "      <td>44703569.0</td>\n",
       "      <td>39664</td>\n",
       "      <td>6585</td>\n",
       "      <td>21274</td>\n",
       "      <td>13855</td>\n",
       "      <td>72925</td>\n",
       "      <td>8453</td>\n",
       "    </tr>\n",
       "    <tr>\n",
       "      <th>2017-52</th>\n",
       "      <td>475</td>\n",
       "      <td>179</td>\n",
       "      <td>30843</td>\n",
       "      <td>14199684.0</td>\n",
       "      <td>9978</td>\n",
       "      <td>553</td>\n",
       "      <td>14279</td>\n",
       "      <td>6033</td>\n",
       "      <td>27735</td>\n",
       "      <td>3108</td>\n",
       "    </tr>\n",
       "    <tr>\n",
       "      <th>2018-01</th>\n",
       "      <td>769</td>\n",
       "      <td>354</td>\n",
       "      <td>71528</td>\n",
       "      <td>42663674.0</td>\n",
       "      <td>31666</td>\n",
       "      <td>8049</td>\n",
       "      <td>19512</td>\n",
       "      <td>12301</td>\n",
       "      <td>64710</td>\n",
       "      <td>6818</td>\n",
       "    </tr>\n",
       "    <tr>\n",
       "      <th>2018-02</th>\n",
       "      <td>920</td>\n",
       "      <td>441</td>\n",
       "      <td>90093</td>\n",
       "      <td>63904084.0</td>\n",
       "      <td>38238</td>\n",
       "      <td>6166</td>\n",
       "      <td>23249</td>\n",
       "      <td>22440</td>\n",
       "      <td>79099</td>\n",
       "      <td>10994</td>\n",
       "    </tr>\n",
       "  </tbody>\n",
       "</table>\n",
       "</div>"
      ],
      "text/plain": [
       "                    client-ip-unique-count  cs-username-unique-count  \\\n",
       "calendar-year-week                                                     \n",
       "2017-50                                925                       415   \n",
       "2017-51                                866                       386   \n",
       "2017-52                                475                       179   \n",
       "2018-01                                769                       354   \n",
       "2018-02                                920                       441   \n",
       "\n",
       "                    client-connections-count  time-taken(ms)-sum  \\\n",
       "calendar-year-week                                                 \n",
       "2017-50                                89497          52520170.0   \n",
       "2017-51                                81378          44703569.0   \n",
       "2017-52                                30843          14199684.0   \n",
       "2018-01                                71528          42663674.0   \n",
       "2018-02                                90093          63904084.0   \n",
       "\n",
       "                    Chrome-count  Firefox-count  Other-count  Safari-count  \\\n",
       "calendar-year-week                                                           \n",
       "2017-50                    38500           7784        27741         15472   \n",
       "2017-51                    39664           6585        21274         13855   \n",
       "2017-52                     9978            553        14279          6033   \n",
       "2018-01                    31666           8049        19512         12301   \n",
       "2018-02                    38238           6166        23249         22440   \n",
       "\n",
       "                    Desktop-count  Mobile-count  \n",
       "calendar-year-week                               \n",
       "2017-50                     80440          9057  \n",
       "2017-51                     72925          8453  \n",
       "2017-52                     27735          3108  \n",
       "2018-01                     64710          6818  \n",
       "2018-02                     79099         10994  "
      ]
     },
     "execution_count": 27,
     "metadata": {},
     "output_type": "execute_result"
    }
   ],
   "source": [
    "log_aggregated_per_week_df.head()"
   ]
  },
  {
   "cell_type": "code",
   "execution_count": 50,
   "metadata": {},
   "outputs": [],
   "source": [
    "placement_summary_df = pd.read_csv('../data/PlacementSummary.csv')\n",
    "placement_summary_df.set_index('YearWeek',inplace=True)"
   ]
  },
  {
   "cell_type": "code",
   "execution_count": 30,
   "metadata": {},
   "outputs": [
    {
     "data": {
      "text/html": [
       "<div>\n",
       "<style scoped>\n",
       "    .dataframe tbody tr th:only-of-type {\n",
       "        vertical-align: middle;\n",
       "    }\n",
       "\n",
       "    .dataframe tbody tr th {\n",
       "        vertical-align: top;\n",
       "    }\n",
       "\n",
       "    .dataframe thead th {\n",
       "        text-align: right;\n",
       "    }\n",
       "</style>\n",
       "<table border=\"1\" class=\"dataframe\">\n",
       "  <thead>\n",
       "    <tr style=\"text-align: right;\">\n",
       "      <th></th>\n",
       "      <th>PlacementCount</th>\n",
       "      <th>PlacementCompletedCount</th>\n",
       "      <th>PlacementAllocatedInProgressCount</th>\n",
       "      <th>PlacementAllocatedCount</th>\n",
       "      <th>PlacementNotAllocatedCount</th>\n",
       "    </tr>\n",
       "    <tr>\n",
       "      <th>YearWeek</th>\n",
       "      <th></th>\n",
       "      <th></th>\n",
       "      <th></th>\n",
       "      <th></th>\n",
       "      <th></th>\n",
       "    </tr>\n",
       "  </thead>\n",
       "  <tbody>\n",
       "    <tr>\n",
       "      <th>2017-50</th>\n",
       "      <td>246</td>\n",
       "      <td>48</td>\n",
       "      <td>234</td>\n",
       "      <td>238</td>\n",
       "      <td>8</td>\n",
       "    </tr>\n",
       "    <tr>\n",
       "      <th>2017-51</th>\n",
       "      <td>198</td>\n",
       "      <td>77</td>\n",
       "      <td>196</td>\n",
       "      <td>197</td>\n",
       "      <td>1</td>\n",
       "    </tr>\n",
       "    <tr>\n",
       "      <th>2017-52</th>\n",
       "      <td>116</td>\n",
       "      <td>3</td>\n",
       "      <td>115</td>\n",
       "      <td>116</td>\n",
       "      <td>0</td>\n",
       "    </tr>\n",
       "    <tr>\n",
       "      <th>2017-53</th>\n",
       "      <td>113</td>\n",
       "      <td>17</td>\n",
       "      <td>96</td>\n",
       "      <td>113</td>\n",
       "      <td>0</td>\n",
       "    </tr>\n",
       "    <tr>\n",
       "      <th>2018-01</th>\n",
       "      <td>113</td>\n",
       "      <td>4</td>\n",
       "      <td>111</td>\n",
       "      <td>113</td>\n",
       "      <td>0</td>\n",
       "    </tr>\n",
       "  </tbody>\n",
       "</table>\n",
       "</div>"
      ],
      "text/plain": [
       "          PlacementCount  PlacementCompletedCount  \\\n",
       "YearWeek                                            \n",
       "2017-50              246                       48   \n",
       "2017-51              198                       77   \n",
       "2017-52              116                        3   \n",
       "2017-53              113                       17   \n",
       "2018-01              113                        4   \n",
       "\n",
       "          PlacementAllocatedInProgressCount  PlacementAllocatedCount  \\\n",
       "YearWeek                                                               \n",
       "2017-50                                 234                      238   \n",
       "2017-51                                 196                      197   \n",
       "2017-52                                 115                      116   \n",
       "2017-53                                  96                      113   \n",
       "2018-01                                 111                      113   \n",
       "\n",
       "          PlacementNotAllocatedCount  \n",
       "YearWeek                              \n",
       "2017-50                            8  \n",
       "2017-51                            1  \n",
       "2017-52                            0  \n",
       "2017-53                            0  \n",
       "2018-01                            0  "
      ]
     },
     "execution_count": 30,
     "metadata": {},
     "output_type": "execute_result"
    }
   ],
   "source": [
    "placement_summary_df.head()"
   ]
  },
  {
   "cell_type": "code",
   "execution_count": 51,
   "metadata": {},
   "outputs": [
    {
     "data": {
      "text/html": [
       "<div>\n",
       "<style scoped>\n",
       "    .dataframe tbody tr th:only-of-type {\n",
       "        vertical-align: middle;\n",
       "    }\n",
       "\n",
       "    .dataframe tbody tr th {\n",
       "        vertical-align: top;\n",
       "    }\n",
       "\n",
       "    .dataframe thead th {\n",
       "        text-align: right;\n",
       "    }\n",
       "</style>\n",
       "<table border=\"1\" class=\"dataframe\">\n",
       "  <thead>\n",
       "    <tr style=\"text-align: right;\">\n",
       "      <th></th>\n",
       "      <th>client-ip-unique-count</th>\n",
       "      <th>cs-username-unique-count</th>\n",
       "      <th>client-connections-count</th>\n",
       "      <th>time-taken(ms)-sum</th>\n",
       "      <th>Chrome-count</th>\n",
       "      <th>Firefox-count</th>\n",
       "      <th>Other-count</th>\n",
       "      <th>Safari-count</th>\n",
       "      <th>Desktop-count</th>\n",
       "      <th>Mobile-count</th>\n",
       "      <th>PlacementCount</th>\n",
       "      <th>PlacementCompletedCount</th>\n",
       "      <th>PlacementAllocatedInProgressCount</th>\n",
       "      <th>PlacementAllocatedCount</th>\n",
       "      <th>PlacementNotAllocatedCount</th>\n",
       "    </tr>\n",
       "    <tr>\n",
       "      <th>calendar-year-week</th>\n",
       "      <th></th>\n",
       "      <th></th>\n",
       "      <th></th>\n",
       "      <th></th>\n",
       "      <th></th>\n",
       "      <th></th>\n",
       "      <th></th>\n",
       "      <th></th>\n",
       "      <th></th>\n",
       "      <th></th>\n",
       "      <th></th>\n",
       "      <th></th>\n",
       "      <th></th>\n",
       "      <th></th>\n",
       "      <th></th>\n",
       "    </tr>\n",
       "  </thead>\n",
       "  <tbody>\n",
       "    <tr>\n",
       "      <th>2017-50</th>\n",
       "      <td>925</td>\n",
       "      <td>415</td>\n",
       "      <td>89497</td>\n",
       "      <td>52520170.0</td>\n",
       "      <td>38500</td>\n",
       "      <td>7784</td>\n",
       "      <td>27741</td>\n",
       "      <td>15472</td>\n",
       "      <td>80440</td>\n",
       "      <td>9057</td>\n",
       "      <td>246</td>\n",
       "      <td>48</td>\n",
       "      <td>234</td>\n",
       "      <td>238</td>\n",
       "      <td>8</td>\n",
       "    </tr>\n",
       "    <tr>\n",
       "      <th>2017-51</th>\n",
       "      <td>866</td>\n",
       "      <td>386</td>\n",
       "      <td>81378</td>\n",
       "      <td>44703569.0</td>\n",
       "      <td>39664</td>\n",
       "      <td>6585</td>\n",
       "      <td>21274</td>\n",
       "      <td>13855</td>\n",
       "      <td>72925</td>\n",
       "      <td>8453</td>\n",
       "      <td>198</td>\n",
       "      <td>77</td>\n",
       "      <td>196</td>\n",
       "      <td>197</td>\n",
       "      <td>1</td>\n",
       "    </tr>\n",
       "    <tr>\n",
       "      <th>2017-52</th>\n",
       "      <td>475</td>\n",
       "      <td>179</td>\n",
       "      <td>30843</td>\n",
       "      <td>14199684.0</td>\n",
       "      <td>9978</td>\n",
       "      <td>553</td>\n",
       "      <td>14279</td>\n",
       "      <td>6033</td>\n",
       "      <td>27735</td>\n",
       "      <td>3108</td>\n",
       "      <td>116</td>\n",
       "      <td>3</td>\n",
       "      <td>115</td>\n",
       "      <td>116</td>\n",
       "      <td>0</td>\n",
       "    </tr>\n",
       "    <tr>\n",
       "      <th>2018-01</th>\n",
       "      <td>769</td>\n",
       "      <td>354</td>\n",
       "      <td>71528</td>\n",
       "      <td>42663674.0</td>\n",
       "      <td>31666</td>\n",
       "      <td>8049</td>\n",
       "      <td>19512</td>\n",
       "      <td>12301</td>\n",
       "      <td>64710</td>\n",
       "      <td>6818</td>\n",
       "      <td>113</td>\n",
       "      <td>4</td>\n",
       "      <td>111</td>\n",
       "      <td>113</td>\n",
       "      <td>0</td>\n",
       "    </tr>\n",
       "    <tr>\n",
       "      <th>2018-02</th>\n",
       "      <td>920</td>\n",
       "      <td>441</td>\n",
       "      <td>90093</td>\n",
       "      <td>63904084.0</td>\n",
       "      <td>38238</td>\n",
       "      <td>6166</td>\n",
       "      <td>23249</td>\n",
       "      <td>22440</td>\n",
       "      <td>79099</td>\n",
       "      <td>10994</td>\n",
       "      <td>159</td>\n",
       "      <td>7</td>\n",
       "      <td>159</td>\n",
       "      <td>159</td>\n",
       "      <td>0</td>\n",
       "    </tr>\n",
       "  </tbody>\n",
       "</table>\n",
       "</div>"
      ],
      "text/plain": [
       "                    client-ip-unique-count  cs-username-unique-count  \\\n",
       "calendar-year-week                                                     \n",
       "2017-50                                925                       415   \n",
       "2017-51                                866                       386   \n",
       "2017-52                                475                       179   \n",
       "2018-01                                769                       354   \n",
       "2018-02                                920                       441   \n",
       "\n",
       "                    client-connections-count  time-taken(ms)-sum  \\\n",
       "calendar-year-week                                                 \n",
       "2017-50                                89497          52520170.0   \n",
       "2017-51                                81378          44703569.0   \n",
       "2017-52                                30843          14199684.0   \n",
       "2018-01                                71528          42663674.0   \n",
       "2018-02                                90093          63904084.0   \n",
       "\n",
       "                    Chrome-count  Firefox-count  Other-count  Safari-count  \\\n",
       "calendar-year-week                                                           \n",
       "2017-50                    38500           7784        27741         15472   \n",
       "2017-51                    39664           6585        21274         13855   \n",
       "2017-52                     9978            553        14279          6033   \n",
       "2018-01                    31666           8049        19512         12301   \n",
       "2018-02                    38238           6166        23249         22440   \n",
       "\n",
       "                    Desktop-count  Mobile-count  PlacementCount  \\\n",
       "calendar-year-week                                                \n",
       "2017-50                     80440          9057             246   \n",
       "2017-51                     72925          8453             198   \n",
       "2017-52                     27735          3108             116   \n",
       "2018-01                     64710          6818             113   \n",
       "2018-02                     79099         10994             159   \n",
       "\n",
       "                    PlacementCompletedCount  \\\n",
       "calendar-year-week                            \n",
       "2017-50                                  48   \n",
       "2017-51                                  77   \n",
       "2017-52                                   3   \n",
       "2018-01                                   4   \n",
       "2018-02                                   7   \n",
       "\n",
       "                    PlacementAllocatedInProgressCount  \\\n",
       "calendar-year-week                                      \n",
       "2017-50                                           234   \n",
       "2017-51                                           196   \n",
       "2017-52                                           115   \n",
       "2018-01                                           111   \n",
       "2018-02                                           159   \n",
       "\n",
       "                    PlacementAllocatedCount  PlacementNotAllocatedCount  \n",
       "calendar-year-week                                                       \n",
       "2017-50                                 238                           8  \n",
       "2017-51                                 197                           1  \n",
       "2017-52                                 116                           0  \n",
       "2018-01                                 113                           0  \n",
       "2018-02                                 159                           0  "
      ]
     },
     "execution_count": 51,
     "metadata": {},
     "output_type": "execute_result"
    }
   ],
   "source": [
    "log_and_placements_aggregated_per_week_df = log_aggregated_per_week_df.join(placement_summary_df)\n",
    "log_and_placements_aggregated_per_week_df.head()"
   ]
  },
  {
   "cell_type": "code",
   "execution_count": 48,
   "metadata": {},
   "outputs": [
    {
     "data": {
      "text/plain": [
       "client-ip-unique-count               0\n",
       "cs-username-unique-count             0\n",
       "client-connections-count             0\n",
       "time-taken(ms)-sum                   0\n",
       "Chrome-count                         0\n",
       "Firefox-count                        0\n",
       "Other-count                          0\n",
       "Safari-count                         0\n",
       "Desktop-count                        0\n",
       "Mobile-count                         0\n",
       "PlacementCount                       0\n",
       "PlacementCompletedCount              0\n",
       "PlacementAllocatedInProgressCount    0\n",
       "PlacementAllocatedCount              0\n",
       "PlacementNotAllocatedCount           0\n",
       "dtype: int64"
      ]
     },
     "execution_count": 48,
     "metadata": {},
     "output_type": "execute_result"
    }
   ],
   "source": [
    "log_and_placements_aggregated_per_week_df.isna().sum()"
   ]
  },
  {
   "cell_type": "code",
   "execution_count": 54,
   "metadata": {},
   "outputs": [
    {
     "name": "stdout",
     "output_type": "stream",
     "text": [
      "<class 'pandas.core.frame.DataFrame'>\n",
      "Index: 43 entries, 2017-50 to 2018-40\n",
      "Data columns (total 15 columns):\n",
      "client-ip-unique-count               43 non-null int64\n",
      "cs-username-unique-count             43 non-null int64\n",
      "client-connections-count             43 non-null int64\n",
      "time-taken(ms)-sum                   43 non-null float64\n",
      "Chrome-count                         43 non-null int64\n",
      "Firefox-count                        43 non-null int64\n",
      "Other-count                          43 non-null int64\n",
      "Safari-count                         43 non-null int64\n",
      "Desktop-count                        43 non-null int64\n",
      "Mobile-count                         43 non-null int64\n",
      "PlacementCount                       43 non-null int64\n",
      "PlacementCompletedCount              43 non-null int64\n",
      "PlacementAllocatedInProgressCount    43 non-null int64\n",
      "PlacementAllocatedCount              43 non-null int64\n",
      "PlacementNotAllocatedCount           43 non-null int64\n",
      "dtypes: float64(1), int64(14)\n",
      "memory usage: 6.6+ KB\n"
     ]
    }
   ],
   "source": [
    "log_and_placements_aggregated_per_week_df.info()"
   ]
  },
  {
   "cell_type": "code",
   "execution_count": 65,
   "metadata": {},
   "outputs": [
    {
     "data": {
      "text/plain": [
       "[<matplotlib.lines.Line2D at 0x257521d7e48>]"
      ]
     },
     "execution_count": 65,
     "metadata": {},
     "output_type": "execute_result"
    },
    {
     "data": {
      "image/png": "[encoded data removed]",
      "text/plain": [
       "<Figure size 432x288 with 1 Axes>"
      ]
     },
     "metadata": {},
     "output_type": "display_data"
    }
   ],
   "source": [
    "plt.plot(log_and_placements_aggregated_per_week_df.index,log_and_placements_aggregated_per_week_df['client-ip-unique-count'])\n",
    "plt.plot(log_and_placements_aggregated_per_week_df.index,log_and_placements_aggregated_per_week_df['PlacementAllocatedInProgressCount'])\n",
    "plt.plot(log_and_placements_aggregated_per_week_df.index,log_and_placements_aggregated_per_week_df['PlacementCount'])\n"
   ]
  },
  {
   "cell_type": "code",
   "execution_count": 58,
   "metadata": {},
   "outputs": [
    {
     "data": {
      "text/plain": [
       "Index(['client-ip-unique-count', 'cs-username-unique-count',\n",
       "       'client-connections-count', 'time-taken(ms)-sum', 'Chrome-count',\n",
       "       'Firefox-count', 'Other-count', 'Safari-count', 'Desktop-count',\n",
       "       'Mobile-count', 'PlacementCount', 'PlacementCompletedCount',\n",
       "       'PlacementAllocatedInProgressCount', 'PlacementAllocatedCount',\n",
       "       'PlacementNotAllocatedCount'],\n",
       "      dtype='object')"
      ]
     },
     "execution_count": 58,
     "metadata": {},
     "output_type": "execute_result"
    }
   ],
   "source": [
    "log_and_placements_aggregated_per_week_df.columns"
   ]
  },
  {
   "cell_type": "code",
   "execution_count": 67,
   "metadata": {},
   "outputs": [
    {
     "data": {
      "text/plain": [
       "<seaborn.axisgrid.PairGrid at 0x25752d82358>"
      ]
     },
     "execution_count": 67,
     "metadata": {},
     "output_type": "execute_result"
    },
    {
     "data": {
      "image/png": "[encoded data removed]",
      "text/plain": [
       "<Figure size 720x720 with 20 Axes>"
      ]
     },
     "metadata": {},
     "output_type": "display_data"
    }
   ],
   "source": [
    "sns.pairplot(data=log_and_placements_aggregated_per_week_df,vars=['client-ip-unique-count',\n",
    "        'PlacementCount', 'PlacementCompletedCount',\n",
    "       'PlacementAllocatedInProgressCount'])"
   ]
  },
  {
   "cell_type": "markdown",
   "metadata": {},
   "source": [
    "## OTHER stuff\n"
   ]
  },
  {
   "cell_type": "code",
   "execution_count": 6,
   "metadata": {},
   "outputs": [],
   "source": [
    "df.to_csv('../data/AggregatedData_112_days.csv')"
   ]
  },
  {
   "cell_type": "code",
   "execution_count": null,
   "metadata": {},
   "outputs": [],
   "source": [
    "pd.concat([df_devicecount,df_browsercount,df_totalconnections_timetaken,df_uniqueUsername,df_uniqueIP],axis=1)"
   ]
  },
  {
   "cell_type": "code",
   "execution_count": null,
   "metadata": {},
   "outputs": [],
   "source": [
    "df.info()"
   ]
  },
  {
   "cell_type": "code",
   "execution_count": null,
   "metadata": {},
   "outputs": [],
   "source": [
    "df['client-ip'].describe()"
   ]
  },
  {
   "cell_type": "code",
   "execution_count": null,
   "metadata": {},
   "outputs": [],
   "source": [
    "df.loc[:, df.dtypes == object].describe()"
   ]
  },
  {
   "cell_type": "code",
   "execution_count": null,
   "metadata": {},
   "outputs": [],
   "source": [
    "df.isna().sum()"
   ]
  },
  {
   "cell_type": "code",
   "execution_count": null,
   "metadata": {},
   "outputs": [],
   "source": [
    "test_df =  myLogReader.readLog('../data/logs/u_ex180131.log')\n",
    "\n",
    "myLogReader.deriveClientCountry(test_df)"
   ]
  },
  {
   "cell_type": "code",
   "execution_count": null,
   "metadata": {},
   "outputs": [],
   "source": [
    "#df_ip = groupbyCalendarYearWeek_ClientIp(df)\n",
    "df_ip"
   ]
  },
  {
   "cell_type": "code",
   "execution_count": null,
   "metadata": {},
   "outputs": [],
   "source": []
  }
 ],
 "metadata": {
  "kernelspec": {
   "display_name": "Python 3",
   "language": "python",
   "name": "python3"
  },
  "language_info": {
   "codemirror_mode": {
    "name": "ipython",
    "version": 3
   },
   "file_extension": ".py",
   "mimetype": "text/x-python",
   "name": "python",
   "nbconvert_exporter": "python",
   "pygments_lexer": "ipython3",
   "version": "3.6.5"
  }
 },
 "nbformat": 4,
 "nbformat_minor": 2
}
