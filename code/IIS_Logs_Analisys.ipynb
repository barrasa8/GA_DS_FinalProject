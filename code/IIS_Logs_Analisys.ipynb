{
 "cells": [
  {
   "cell_type": "code",
   "execution_count": 1,
   "metadata": {},
   "outputs": [],
   "source": [
    "import pandas as pd\n",
    "import statsmodels.api as sm\n",
    "import numpy as np\n",
    "import seaborn as sns\n",
    "import matplotlib.pyplot as plt\n",
    "import geoip2.database\n",
    "import myLogReader as mlr\n",
    "import re\n",
    "import os\n",
    "import sys\n",
    "import datetime as dt\n",
    "\n",
    "%matplotlib inline"
   ]
  },
  {
   "cell_type": "markdown",
   "metadata": {},
   "source": [
    "## Automate - Read and Prep log data into DF"
   ]
  },
  {
   "cell_type": "code",
   "execution_count": 2,
   "metadata": {},
   "outputs": [],
   "source": [
    "logsPath = '../data/logs'\n",
    "geoLiteIPDBPath = '../data/GeoLite2-City_20181009/GeoLite2-City.mmdb'\n",
    "\n",
    "#Create a myLogReader object\n",
    "myLogReader = mlr.log()\n",
    "#Open Reader\n",
    "myLogReader.openReader(geoLiteIPDBPath)"
   ]
  },
  {
   "cell_type": "code",
   "execution_count": 3,
   "metadata": {},
   "outputs": [
    {
     "name": "stdout",
     "output_type": "stream",
     "text": [
      "../data/logs\\u_ex171225.log\n"
     ]
    }
   ],
   "source": [
    "df =  myLogReader.readLogs(logsPath,1)"
   ]
  },
  {
   "cell_type": "code",
   "execution_count": 4,
   "metadata": {},
   "outputs": [],
   "source": [
    "#Close Reader\n",
    "myLogReader.closeReader()"
   ]
  },
  {
   "cell_type": "code",
   "execution_count": 5,
   "metadata": {},
   "outputs": [
    {
     "data": {
      "text/html": [
       "<div>\n",
       "<style scoped>\n",
       "    .dataframe tbody tr th:only-of-type {\n",
       "        vertical-align: middle;\n",
       "    }\n",
       "\n",
       "    .dataframe tbody tr th {\n",
       "        vertical-align: top;\n",
       "    }\n",
       "\n",
       "    .dataframe thead th {\n",
       "        text-align: right;\n",
       "    }\n",
       "</style>\n",
       "<table border=\"1\" class=\"dataframe\">\n",
       "  <thead>\n",
       "    <tr style=\"text-align: right;\">\n",
       "      <th></th>\n",
       "      <th>date</th>\n",
       "      <th>time</th>\n",
       "      <th>server-ip</th>\n",
       "      <th>cs-uri-query</th>\n",
       "      <th>server-port</th>\n",
       "      <th>cs-username</th>\n",
       "      <th>client-ip</th>\n",
       "      <th>cs(User-Agent)</th>\n",
       "      <th>cs(Referer)</th>\n",
       "      <th>sc-status</th>\n",
       "      <th>sc-substatus</th>\n",
       "      <th>time-taken(ms)</th>\n",
       "      <th>client-device</th>\n",
       "      <th>client-browser</th>\n",
       "      <th>client-webPage</th>\n",
       "      <th>client-city</th>\n",
       "      <th>client-country</th>\n",
       "      <th>date-IsWeekday</th>\n",
       "      <th>date-calendar-week</th>\n",
       "      <th>date-year</th>\n",
       "    </tr>\n",
       "  </thead>\n",
       "  <tbody>\n",
       "    <tr>\n",
       "      <th>0</th>\n",
       "      <td>2017-12-25</td>\n",
       "      <td>00:00:23</td>\n",
       "      <td>192.168.2.210</td>\n",
       "      <td>NaN</td>\n",
       "      <td>443</td>\n",
       "      <td>NaN</td>\n",
       "      <td>54.251.34.67</td>\n",
       "      <td>NewRelicPinger/1.0+(745671)</td>\n",
       "      <td>NaN</td>\n",
       "      <td>200</td>\n",
       "      <td>0</td>\n",
       "      <td>250</td>\n",
       "      <td>Desktop</td>\n",
       "      <td>Other</td>\n",
       "      <td>NaN</td>\n",
       "      <td>Singapore</td>\n",
       "      <td>Singapore</td>\n",
       "      <td>1</td>\n",
       "      <td>52</td>\n",
       "      <td>2017</td>\n",
       "    </tr>\n",
       "    <tr>\n",
       "      <th>1</th>\n",
       "      <td>2017-12-25</td>\n",
       "      <td>00:00:27</td>\n",
       "      <td>192.168.2.210</td>\n",
       "      <td>NaN</td>\n",
       "      <td>443</td>\n",
       "      <td>NaN</td>\n",
       "      <td>144.139.133.243</td>\n",
       "      <td>NaN</td>\n",
       "      <td>NaN</td>\n",
       "      <td>200</td>\n",
       "      <td>0</td>\n",
       "      <td>31</td>\n",
       "      <td>Desktop</td>\n",
       "      <td>Other</td>\n",
       "      <td>NaN</td>\n",
       "      <td>Melbourne</td>\n",
       "      <td>Australia</td>\n",
       "      <td>1</td>\n",
       "      <td>52</td>\n",
       "      <td>2017</td>\n",
       "    </tr>\n",
       "    <tr>\n",
       "      <th>2</th>\n",
       "      <td>2017-12-25</td>\n",
       "      <td>00:00:28</td>\n",
       "      <td>192.168.2.210</td>\n",
       "      <td>NaN</td>\n",
       "      <td>443</td>\n",
       "      <td>NaN</td>\n",
       "      <td>144.139.133.243</td>\n",
       "      <td>NaN</td>\n",
       "      <td>NaN</td>\n",
       "      <td>200</td>\n",
       "      <td>0</td>\n",
       "      <td>31</td>\n",
       "      <td>Desktop</td>\n",
       "      <td>Other</td>\n",
       "      <td>NaN</td>\n",
       "      <td>Melbourne</td>\n",
       "      <td>Australia</td>\n",
       "      <td>1</td>\n",
       "      <td>52</td>\n",
       "      <td>2017</td>\n",
       "    </tr>\n",
       "    <tr>\n",
       "      <th>3</th>\n",
       "      <td>2017-12-25</td>\n",
       "      <td>00:00:28</td>\n",
       "      <td>192.168.2.210</td>\n",
       "      <td>NaN</td>\n",
       "      <td>443</td>\n",
       "      <td>NaN</td>\n",
       "      <td>144.139.133.243</td>\n",
       "      <td>NaN</td>\n",
       "      <td>NaN</td>\n",
       "      <td>200</td>\n",
       "      <td>0</td>\n",
       "      <td>46</td>\n",
       "      <td>Desktop</td>\n",
       "      <td>Other</td>\n",
       "      <td>NaN</td>\n",
       "      <td>Melbourne</td>\n",
       "      <td>Australia</td>\n",
       "      <td>1</td>\n",
       "      <td>52</td>\n",
       "      <td>2017</td>\n",
       "    </tr>\n",
       "    <tr>\n",
       "      <th>4</th>\n",
       "      <td>2017-12-25</td>\n",
       "      <td>00:00:28</td>\n",
       "      <td>192.168.2.210</td>\n",
       "      <td>NaN</td>\n",
       "      <td>443</td>\n",
       "      <td>NaN</td>\n",
       "      <td>144.139.133.243</td>\n",
       "      <td>NaN</td>\n",
       "      <td>NaN</td>\n",
       "      <td>200</td>\n",
       "      <td>0</td>\n",
       "      <td>78</td>\n",
       "      <td>Desktop</td>\n",
       "      <td>Other</td>\n",
       "      <td>NaN</td>\n",
       "      <td>Melbourne</td>\n",
       "      <td>Australia</td>\n",
       "      <td>1</td>\n",
       "      <td>52</td>\n",
       "      <td>2017</td>\n",
       "    </tr>\n",
       "  </tbody>\n",
       "</table>\n",
       "</div>"
      ],
      "text/plain": [
       "         date      time      server-ip cs-uri-query  server-port cs-username  \\\n",
       "0  2017-12-25  00:00:23  192.168.2.210          NaN          443         NaN   \n",
       "1  2017-12-25  00:00:27  192.168.2.210          NaN          443         NaN   \n",
       "2  2017-12-25  00:00:28  192.168.2.210          NaN          443         NaN   \n",
       "3  2017-12-25  00:00:28  192.168.2.210          NaN          443         NaN   \n",
       "4  2017-12-25  00:00:28  192.168.2.210          NaN          443         NaN   \n",
       "\n",
       "         client-ip               cs(User-Agent) cs(Referer)  sc-status  \\\n",
       "0     54.251.34.67  NewRelicPinger/1.0+(745671)         NaN        200   \n",
       "1  144.139.133.243                          NaN         NaN        200   \n",
       "2  144.139.133.243                          NaN         NaN        200   \n",
       "3  144.139.133.243                          NaN         NaN        200   \n",
       "4  144.139.133.243                          NaN         NaN        200   \n",
       "\n",
       "   sc-substatus  time-taken(ms) client-device client-browser client-webPage  \\\n",
       "0             0             250       Desktop          Other            NaN   \n",
       "1             0              31       Desktop          Other            NaN   \n",
       "2             0              31       Desktop          Other            NaN   \n",
       "3             0              46       Desktop          Other            NaN   \n",
       "4             0              78       Desktop          Other            NaN   \n",
       "\n",
       "  client-city client-country  date-IsWeekday  date-calendar-week  date-year  \n",
       "0   Singapore      Singapore               1                  52       2017  \n",
       "1   Melbourne      Australia               1                  52       2017  \n",
       "2   Melbourne      Australia               1                  52       2017  \n",
       "3   Melbourne      Australia               1                  52       2017  \n",
       "4   Melbourne      Australia               1                  52       2017  "
      ]
     },
     "execution_count": 5,
     "metadata": {},
     "output_type": "execute_result"
    }
   ],
   "source": [
    "df.head()"
   ]
  },
  {
   "cell_type": "markdown",
   "metadata": {},
   "source": [
    "#### 2- Automate load logs and aggregate data"
   ]
  },
  {
   "cell_type": "code",
   "execution_count": null,
   "metadata": {},
   "outputs": [],
   "source": [
    "#df.to_csv('test.csv')"
   ]
  },
  {
   "cell_type": "code",
   "execution_count": null,
   "metadata": {},
   "outputs": [],
   "source": [
    "client_browser_df = (df.groupby(by=['date','client-browser'])['client-browser']\n",
    "                        .count()\n",
    "                        .reset_index(level=1,name='Count')\n",
    "                        .pivot(columns='client-browser',values='Count'))\n",
    "\n",
    "client_city_df = (df.groupby(by=['date','client-city'])['client-city']\n",
    "            .count()\n",
    "            .reset_index(level=1,name='Count')\n",
    "            .pivot(columns='client-city',values='Count'))\n",
    "\n",
    "client_country_df = (df.groupby(by=['date','client-country'])['client-country']\n",
    "            .count()\n",
    "            .reset_index(level=1,name='Count')\n",
    "            .pivot(columns='client-country',values='Count'))\n",
    "\n",
    "client_device_df = (df.groupby(by=['date','client-device'])['client-device']\n",
    "            .count()\n",
    "            .reset_index(level=1,name='Count')\n",
    "            .pivot(columns='client-device',values='Count'))\n",
    "\n",
    "client_webPage_df = (df.groupby(by=['date','client-webPage'])['client-webPage']\n",
    "            .count()\n",
    "            .reset_index(level=1,name='Count')\n",
    "            .pivot(columns='client-webPage',values='Count'))\n",
    "\n",
    "(df.groupby(by=['date','client-ip'])['client-ip']\n",
    "            .count()\n",
    "            .reset_index(level=1,name='Count')\n",
    "            .pivot(columns='client-ip',values='Count'))"
   ]
  },
  {
   "cell_type": "code",
   "execution_count": null,
   "metadata": {},
   "outputs": [],
   "source": [
    "df.iloc[10:20,[0,5,6,11,12,13,14,15,16]]"
   ]
  },
  {
   "cell_type": "code",
   "execution_count": null,
   "metadata": {},
   "outputs": [],
   "source": [
    "df.info()"
   ]
  },
  {
   "cell_type": "code",
   "execution_count": null,
   "metadata": {},
   "outputs": [],
   "source": [
    "df.head()"
   ]
  },
  {
   "cell_type": "code",
   "execution_count": null,
   "metadata": {},
   "outputs": [],
   "source": [
    "df.info()"
   ]
  },
  {
   "cell_type": "code",
   "execution_count": null,
   "metadata": {},
   "outputs": [],
   "source": [
    "df.describe()"
   ]
  },
  {
   "cell_type": "code",
   "execution_count": null,
   "metadata": {},
   "outputs": [],
   "source": [
    "df[\"server-port\"].describe()"
   ]
  },
  {
   "cell_type": "code",
   "execution_count": null,
   "metadata": {},
   "outputs": [],
   "source": [
    "df.info()"
   ]
  },
  {
   "cell_type": "markdown",
   "metadata": {},
   "source": [
    "## Derive Calendar Week, year after aggregating the data"
   ]
  },
  {
   "cell_type": "code",
   "execution_count": null,
   "metadata": {},
   "outputs": [],
   "source": [
    "df['date-weekday']   = df['date'].apply(lambda x: 'Weekday' if np.int8(str(dt.datetime.strptime(x,'%Y-%m-%d').weekday())) < 5 else 'Weekend')\n",
    "df['date-calendar-week']   = df['date'].apply(lambda x: np.int8(str(dt.datetime.strptime(x,'%Y-%m-%d').isocalendar()[1])))\n",
    "df['date-year']   = df['date'].apply(lambda x: dt.datetime.strptime(x,'%Y-%m-%d').year)"
   ]
  },
  {
   "cell_type": "code",
   "execution_count": null,
   "metadata": {},
   "outputs": [],
   "source": [
    "df['date-weekday']   = df['date'].apply(lambda x: 1 if np.int8(str(dt.datetime.strptime(x,'%Y-%m-%d').weekday())) < 5 else 0)"
   ]
  },
  {
   "cell_type": "code",
   "execution_count": null,
   "metadata": {},
   "outputs": [],
   "source": [
    "df.head()"
   ]
  },
  {
   "cell_type": "code",
   "execution_count": null,
   "metadata": {},
   "outputs": [],
   "source": [
    "df.loc[:, df.dtypes == object].describe()"
   ]
  },
  {
   "cell_type": "code",
   "execution_count": null,
   "metadata": {},
   "outputs": [],
   "source": [
    "import datetime as dt\n",
    "d =dt.datetime.strptime(df.date.loc[1],'%Y-%m-%d')\n",
    "d =dt.datetime.strptime('2018-12-28','%Y-%m-%d')\n",
    "d.year\n",
    "#np.int8(str(d.year))\n",
    "\n",
    "#iis_logs_df.date.loc[1]"
   ]
  },
  {
   "cell_type": "code",
   "execution_count": null,
   "metadata": {},
   "outputs": [],
   "source": [
    "df.isna().sum()"
   ]
  }
 ],
 "metadata": {
  "kernelspec": {
   "display_name": "Python 3",
   "language": "python",
   "name": "python3"
  },
  "language_info": {
   "codemirror_mode": {
    "name": "ipython",
    "version": 3
   },
   "file_extension": ".py",
   "mimetype": "text/x-python",
   "name": "python",
   "nbconvert_exporter": "python",
   "pygments_lexer": "ipython3",
   "version": "3.6.5"
  }
 },
 "nbformat": 4,
 "nbformat_minor": 2
}
