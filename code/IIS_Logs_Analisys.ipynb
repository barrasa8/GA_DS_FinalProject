{
 "cells": [
  {
   "cell_type": "code",
   "execution_count": null,
   "metadata": {},
   "outputs": [],
   "source": [
    "import pandas as pd\n",
    "import statsmodels.api as sm\n",
    "import numpy as np\n",
    "import seaborn as sns\n",
    "import matplotlib.pyplot as plt\n",
    "import geoip2.database\n",
    "import myLogReader as mlr\n",
    "import re\n",
    "import os\n",
    "import sys\n",
    "import datetime as dt\n",
    "\n",
    "%matplotlib inline"
   ]
  },
  {
   "cell_type": "markdown",
   "metadata": {},
   "source": [
    "## Automate - Read and Prep log data into DF"
   ]
  },
  {
   "cell_type": "code",
   "execution_count": 2,
   "metadata": {},
   "outputs": [],
   "source": [
    "logsPath = '../data/logs'\n",
    "geoLiteIPDBPath = '../data/GeoLite2-City_20181009/GeoLite2-City.mmdb'\n",
    "\n",
    "#Create a myLogReader object\n",
    "myLogReader = mlr.log()\n",
    "#Open Reader\n",
    "myLogReader.openReader(geoLiteIPDBPath)"
   ]
  },
  {
   "cell_type": "code",
   "execution_count": 3,
   "metadata": {},
   "outputs": [
    {
     "name": "stdout",
     "output_type": "stream",
     "text": [
      "../data/logs\\u_ex171212.log\n"
     ]
    }
   ],
   "source": [
    "df =  myLogReader.readLogs(logsPath,1)"
   ]
  },
  {
   "cell_type": "code",
   "execution_count": 4,
   "metadata": {},
   "outputs": [],
   "source": [
    "#Close Reader\n",
    "myLogReader.closeReader()"
   ]
  },
  {
   "cell_type": "code",
   "execution_count": 5,
   "metadata": {},
   "outputs": [
    {
     "data": {
      "text/html": [
       "<div>\n",
       "<style scoped>\n",
       "    .dataframe tbody tr th:only-of-type {\n",
       "        vertical-align: middle;\n",
       "    }\n",
       "\n",
       "    .dataframe tbody tr th {\n",
       "        vertical-align: top;\n",
       "    }\n",
       "\n",
       "    .dataframe thead th {\n",
       "        text-align: right;\n",
       "    }\n",
       "</style>\n",
       "<table border=\"1\" class=\"dataframe\">\n",
       "  <thead>\n",
       "    <tr style=\"text-align: right;\">\n",
       "      <th></th>\n",
       "      <th>date</th>\n",
       "      <th>cs-username</th>\n",
       "      <th>client-ip</th>\n",
       "      <th>time-taken(ms)</th>\n",
       "      <th>client-device</th>\n",
       "      <th>client-browser</th>\n",
       "      <th>client-webPage</th>\n",
       "      <th>client-city</th>\n",
       "      <th>client-country</th>\n",
       "      <th>date-IsWeekday</th>\n",
       "      <th>date-calendar-week</th>\n",
       "      <th>date-year</th>\n",
       "      <th>calendar-year-week</th>\n",
       "    </tr>\n",
       "  </thead>\n",
       "  <tbody>\n",
       "    <tr>\n",
       "      <th>0</th>\n",
       "      <td>2017-12-12</td>\n",
       "      <td>u3154795</td>\n",
       "      <td>137.92.194.247</td>\n",
       "      <td>546</td>\n",
       "      <td>Mobile</td>\n",
       "      <td>Safari</td>\n",
       "      <td>Mobile</td>\n",
       "      <td>Belconnen</td>\n",
       "      <td>Australia</td>\n",
       "      <td>1</td>\n",
       "      <td>50</td>\n",
       "      <td>2017</td>\n",
       "      <td>2017-50</td>\n",
       "    </tr>\n",
       "    <tr>\n",
       "      <th>1</th>\n",
       "      <td>2017-12-12</td>\n",
       "      <td>u3154795</td>\n",
       "      <td>137.92.194.247</td>\n",
       "      <td>218</td>\n",
       "      <td>Mobile</td>\n",
       "      <td>Safari</td>\n",
       "      <td>Mobile</td>\n",
       "      <td>Belconnen</td>\n",
       "      <td>Australia</td>\n",
       "      <td>1</td>\n",
       "      <td>50</td>\n",
       "      <td>2017</td>\n",
       "      <td>2017-50</td>\n",
       "    </tr>\n",
       "    <tr>\n",
       "      <th>2</th>\n",
       "      <td>2017-12-12</td>\n",
       "      <td>u3154795</td>\n",
       "      <td>137.92.194.247</td>\n",
       "      <td>140</td>\n",
       "      <td>Mobile</td>\n",
       "      <td>Safari</td>\n",
       "      <td>Mobile</td>\n",
       "      <td>Belconnen</td>\n",
       "      <td>Australia</td>\n",
       "      <td>1</td>\n",
       "      <td>50</td>\n",
       "      <td>2017</td>\n",
       "      <td>2017-50</td>\n",
       "    </tr>\n",
       "    <tr>\n",
       "      <th>3</th>\n",
       "      <td>2017-12-12</td>\n",
       "      <td>u3154795</td>\n",
       "      <td>137.92.194.247</td>\n",
       "      <td>2546</td>\n",
       "      <td>Mobile</td>\n",
       "      <td>Safari</td>\n",
       "      <td>Mobile</td>\n",
       "      <td>Belconnen</td>\n",
       "      <td>Australia</td>\n",
       "      <td>1</td>\n",
       "      <td>50</td>\n",
       "      <td>2017</td>\n",
       "      <td>2017-50</td>\n",
       "    </tr>\n",
       "    <tr>\n",
       "      <th>4</th>\n",
       "      <td>2017-12-12</td>\n",
       "      <td>u3154795</td>\n",
       "      <td>137.92.194.247</td>\n",
       "      <td>156</td>\n",
       "      <td>Mobile</td>\n",
       "      <td>Safari</td>\n",
       "      <td>Shared</td>\n",
       "      <td>Belconnen</td>\n",
       "      <td>Australia</td>\n",
       "      <td>1</td>\n",
       "      <td>50</td>\n",
       "      <td>2017</td>\n",
       "      <td>2017-50</td>\n",
       "    </tr>\n",
       "  </tbody>\n",
       "</table>\n",
       "</div>"
      ],
      "text/plain": [
       "         date cs-username       client-ip  time-taken(ms) client-device  \\\n",
       "0  2017-12-12    u3154795  137.92.194.247             546        Mobile   \n",
       "1  2017-12-12    u3154795  137.92.194.247             218        Mobile   \n",
       "2  2017-12-12    u3154795  137.92.194.247             140        Mobile   \n",
       "3  2017-12-12    u3154795  137.92.194.247            2546        Mobile   \n",
       "4  2017-12-12    u3154795  137.92.194.247             156        Mobile   \n",
       "\n",
       "  client-browser client-webPage client-city client-country  date-IsWeekday  \\\n",
       "0         Safari         Mobile   Belconnen      Australia               1   \n",
       "1         Safari         Mobile   Belconnen      Australia               1   \n",
       "2         Safari         Mobile   Belconnen      Australia               1   \n",
       "3         Safari         Mobile   Belconnen      Australia               1   \n",
       "4         Safari         Shared   Belconnen      Australia               1   \n",
       "\n",
       "   date-calendar-week  date-year calendar-year-week  \n",
       "0                  50       2017            2017-50  \n",
       "1                  50       2017            2017-50  \n",
       "2                  50       2017            2017-50  \n",
       "3                  50       2017            2017-50  \n",
       "4                  50       2017            2017-50  "
      ]
     },
     "execution_count": 5,
     "metadata": {},
     "output_type": "execute_result"
    }
   ],
   "source": [
    "df.head()"
   ]
  },
  {
   "cell_type": "markdown",
   "metadata": {},
   "source": [
    "#### 2- Automate load logs and aggregate data"
   ]
  },
  {
   "cell_type": "code",
   "execution_count": null,
   "metadata": {},
   "outputs": [],
   "source": [
    "#df.to_csv('test.csv')"
   ]
  },
  {
   "cell_type": "code",
   "execution_count": null,
   "metadata": {},
   "outputs": [],
   "source": [
    "(df.groupby(by=['calendar-year-week'])\n",
    "            .agg({'client-ip': pd.Series.nunique})\n",
    "            .rename(columns = {'client-ip':'client-ip-unique-count'}))\n",
    "\n",
    "(df.groupby(by=['calendar-year-week'])\n",
    "            .agg({'cs-username': pd.Series.nunique})\n",
    "            .rename(columns = {'cs-username':'cs-username-unique-count'}))\n",
    "\n",
    "(df.groupby(by=['calendar-year-week'])\n",
    "            .agg({'client-ip': pd.Series.count,'time-taken(ms)' : pd.Series.sum})\n",
    "            .rename(columns = {'client-ip':'client-ip-unique-count','time-taken(ms)' :'time-taken(ms)-sum' }))\n",
    "\n",
    "\n",
    "(df.groupby(by=['calendar-year-week','client-browser'])\n",
    "            .agg({'client-browser': pd.Series.count})\n",
    "            .rename(columns = {'client-browser':'client-browser-count'})      \n",
    "            .reset_index(level=1)\n",
    "            .pivot(columns='client-browser',values='client-browser-count')\n",
    "            .rename(columns = {'Chrome':'Chrome-count'\n",
    "                              ,'Firefox':'Firefox-count'\n",
    "                              ,'Other':'Other-count'\n",
    "                              ,'Safari':'Safari-count'}))\n",
    "\n",
    "\n",
    "\n",
    "(df.groupby(by=['calendar-year-week','client-device'])\n",
    "            .agg({'client-device': pd.Series.count})  \n",
    "            .rename(columns = {'client-device':'client-device-count'})      \n",
    "            .reset_index(level=1)\n",
    "            .pivot(columns='client-device',values='client-device-count')\n",
    "            .rename(columns = {'Desktop':'Desktop-count'\n",
    "                              ,'Mobile':'Mobile-count'}))"
   ]
  },
  {
   "cell_type": "code",
   "execution_count": null,
   "metadata": {},
   "outputs": [],
   "source": [
    "\n",
    "(df.groupby(by=['calendar-year-week','client-browser'])\n",
    "            .agg({'client-browser': pd.Series.count})\n",
    "            .rename(columns = {'client-browser':'client-browser-count'})      \n",
    "            .reset_index(level=1)\n",
    "            .pivot(columns='client-browser',values='client-browser-count')\n",
    ")\n",
    "#df.head()"
   ]
  },
  {
   "cell_type": "code",
   "execution_count": null,
   "metadata": {},
   "outputs": [],
   "source": [
    "df.info()"
   ]
  },
  {
   "cell_type": "code",
   "execution_count": null,
   "metadata": {},
   "outputs": [],
   "source": [
    "df['client-ip'].describe()"
   ]
  },
  {
   "cell_type": "code",
   "execution_count": null,
   "metadata": {},
   "outputs": [],
   "source": [
    "df.loc[:, df.dtypes == object].describe()"
   ]
  },
  {
   "cell_type": "code",
   "execution_count": null,
   "metadata": {},
   "outputs": [],
   "source": [
    "df.isna().sum()"
   ]
  },
  {
   "cell_type": "code",
   "execution_count": null,
   "metadata": {},
   "outputs": [],
   "source": []
  }
 ],
 "metadata": {
  "kernelspec": {
   "display_name": "Python 3",
   "language": "python",
   "name": "python3"
  },
  "language_info": {
   "codemirror_mode": {
    "name": "ipython",
    "version": 3
   },
   "file_extension": ".py",
   "mimetype": "text/x-python",
   "name": "python",
   "nbconvert_exporter": "python",
   "pygments_lexer": "ipython3",
   "version": "3.6.5"
  }
 },
 "nbformat": 4,
 "nbformat_minor": 2
}
