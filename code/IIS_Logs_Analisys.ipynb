{
 "cells": [
  {
   "cell_type": "code",
   "execution_count": 1,
   "metadata": {},
   "outputs": [],
   "source": [
    "import pandas as pd\n",
    "import statsmodels.api as sm\n",
    "import numpy as np\n",
    "import seaborn as sns\n",
    "import matplotlib.pyplot as plt\n",
    "import geoip2.database\n",
    "\n",
    "%matplotlib inline"
   ]
  },
  {
   "cell_type": "code",
   "execution_count": 12,
   "metadata": {},
   "outputs": [],
   "source": [
    "reader = geoip2.database.Reader('../data/GeoLite2-City_20181009/GeoLite2-City.mmdb')\n",
    "\n",
    "response = reader.city(ip_address='137.92.20.94')\n",
    "\n",
    "#reader.close()\n"
   ]
  },
  {
   "cell_type": "code",
   "execution_count": 13,
   "metadata": {},
   "outputs": [
    {
     "data": {
      "text/plain": [
       "geoip2.records.Postal(code='2600', confidence=None)"
      ]
     },
     "execution_count": 13,
     "metadata": {},
     "output_type": "execute_result"
    }
   ],
   "source": [
    "response.postal"
   ]
  },
  {
   "cell_type": "code",
   "execution_count": 14,
   "metadata": {},
   "outputs": [],
   "source": [
    "iis_logs_df = pd.read_csv(\"../data/logs/u_ex181010.log\"\n",
    "            #,skiprows=[0,1,2,3]\n",
    "            , comment='#'\n",
    "            , sep=' ' \n",
    "            , usecols=[0,1, 2, 5, 6, 7, 8, 9, 10,11,12,14]\n",
    "            , na_values='-'\n",
    "            , names=['date'\n",
    "                    ,'time'\n",
    "                    ,'server-ip'\n",
    "                    ,'cs-uri-query'\n",
    "                    ,'server-port'\n",
    "                    ,'cs-username'\n",
    "                    ,'client-ip'\n",
    "                    ,'cs(User-Agent)'\n",
    "                    ,'cs(Referer)'\n",
    "                    ,'sc-status'\n",
    "                    ,'sc-substatus'\n",
    "                   ,'time-taken(ms)'])"
   ]
  },
  {
   "cell_type": "code",
   "execution_count": 15,
   "metadata": {},
   "outputs": [
    {
     "data": {
      "text/html": [
       "<div>\n",
       "<style scoped>\n",
       "    .dataframe tbody tr th:only-of-type {\n",
       "        vertical-align: middle;\n",
       "    }\n",
       "\n",
       "    .dataframe tbody tr th {\n",
       "        vertical-align: top;\n",
       "    }\n",
       "\n",
       "    .dataframe thead th {\n",
       "        text-align: right;\n",
       "    }\n",
       "</style>\n",
       "<table border=\"1\" class=\"dataframe\">\n",
       "  <thead>\n",
       "    <tr style=\"text-align: right;\">\n",
       "      <th></th>\n",
       "      <th>date</th>\n",
       "      <th>time</th>\n",
       "      <th>server-ip</th>\n",
       "      <th>cs-uri-query</th>\n",
       "      <th>server-port</th>\n",
       "      <th>cs-username</th>\n",
       "      <th>client-ip</th>\n",
       "      <th>cs(User-Agent)</th>\n",
       "      <th>cs(Referer)</th>\n",
       "      <th>sc-status</th>\n",
       "      <th>sc-substatus</th>\n",
       "      <th>time-taken(ms)</th>\n",
       "    </tr>\n",
       "  </thead>\n",
       "  <tbody>\n",
       "    <tr>\n",
       "      <th>0</th>\n",
       "      <td>2018-10-10</td>\n",
       "      <td>00:00:19</td>\n",
       "      <td>192.168.2.210</td>\n",
       "      <td>NaN</td>\n",
       "      <td>80</td>\n",
       "      <td>NaN</td>\n",
       "      <td>58.167.88.59</td>\n",
       "      <td>Mozilla/5.0+(Windows+NT+10.0;+Win64;+x64)+Appl...</td>\n",
       "      <td>NaN</td>\n",
       "      <td>301</td>\n",
       "      <td>0</td>\n",
       "      <td>93</td>\n",
       "    </tr>\n",
       "    <tr>\n",
       "      <th>1</th>\n",
       "      <td>2018-10-10</td>\n",
       "      <td>00:00:19</td>\n",
       "      <td>192.168.2.210</td>\n",
       "      <td>NaN</td>\n",
       "      <td>443</td>\n",
       "      <td>NaN</td>\n",
       "      <td>58.167.88.59</td>\n",
       "      <td>Mozilla/5.0+(Windows+NT+10.0;+Win64;+x64)+Appl...</td>\n",
       "      <td>NaN</td>\n",
       "      <td>302</td>\n",
       "      <td>0</td>\n",
       "      <td>93</td>\n",
       "    </tr>\n",
       "    <tr>\n",
       "      <th>2</th>\n",
       "      <td>2018-10-10</td>\n",
       "      <td>00:00:19</td>\n",
       "      <td>192.168.2.210</td>\n",
       "      <td>ReturnUrl=%2f</td>\n",
       "      <td>443</td>\n",
       "      <td>NaN</td>\n",
       "      <td>58.167.88.59</td>\n",
       "      <td>Mozilla/5.0+(Windows+NT+10.0;+Win64;+x64)+Appl...</td>\n",
       "      <td>NaN</td>\n",
       "      <td>302</td>\n",
       "      <td>0</td>\n",
       "      <td>93</td>\n",
       "    </tr>\n",
       "    <tr>\n",
       "      <th>3</th>\n",
       "      <td>2018-10-10</td>\n",
       "      <td>00:00:19</td>\n",
       "      <td>192.168.2.210</td>\n",
       "      <td>ReturnUrl=%2f</td>\n",
       "      <td>443</td>\n",
       "      <td>NaN</td>\n",
       "      <td>58.167.88.59</td>\n",
       "      <td>Mozilla/5.0+(Windows+NT+10.0;+Win64;+x64)+Appl...</td>\n",
       "      <td>NaN</td>\n",
       "      <td>200</td>\n",
       "      <td>0</td>\n",
       "      <td>171</td>\n",
       "    </tr>\n",
       "    <tr>\n",
       "      <th>4</th>\n",
       "      <td>2018-10-10</td>\n",
       "      <td>00:00:20</td>\n",
       "      <td>192.168.2.210</td>\n",
       "      <td>v=pIhLJRZ-i9xD3brYZ6I5pZD6973WqBDt6kYnAg5j20E1</td>\n",
       "      <td>443</td>\n",
       "      <td>NaN</td>\n",
       "      <td>58.167.88.59</td>\n",
       "      <td>Mozilla/5.0+(Windows+NT+10.0;+Win64;+x64)+Appl...</td>\n",
       "      <td>https://inplace.canberra.edu.au/Security/Accou...</td>\n",
       "      <td>200</td>\n",
       "      <td>0</td>\n",
       "      <td>265</td>\n",
       "    </tr>\n",
       "  </tbody>\n",
       "</table>\n",
       "</div>"
      ],
      "text/plain": [
       "         date      time      server-ip  \\\n",
       "0  2018-10-10  00:00:19  192.168.2.210   \n",
       "1  2018-10-10  00:00:19  192.168.2.210   \n",
       "2  2018-10-10  00:00:19  192.168.2.210   \n",
       "3  2018-10-10  00:00:19  192.168.2.210   \n",
       "4  2018-10-10  00:00:20  192.168.2.210   \n",
       "\n",
       "                                     cs-uri-query  server-port cs-username  \\\n",
       "0                                             NaN           80         NaN   \n",
       "1                                             NaN          443         NaN   \n",
       "2                                   ReturnUrl=%2f          443         NaN   \n",
       "3                                   ReturnUrl=%2f          443         NaN   \n",
       "4  v=pIhLJRZ-i9xD3brYZ6I5pZD6973WqBDt6kYnAg5j20E1          443         NaN   \n",
       "\n",
       "      client-ip                                     cs(User-Agent)  \\\n",
       "0  58.167.88.59  Mozilla/5.0+(Windows+NT+10.0;+Win64;+x64)+Appl...   \n",
       "1  58.167.88.59  Mozilla/5.0+(Windows+NT+10.0;+Win64;+x64)+Appl...   \n",
       "2  58.167.88.59  Mozilla/5.0+(Windows+NT+10.0;+Win64;+x64)+Appl...   \n",
       "3  58.167.88.59  Mozilla/5.0+(Windows+NT+10.0;+Win64;+x64)+Appl...   \n",
       "4  58.167.88.59  Mozilla/5.0+(Windows+NT+10.0;+Win64;+x64)+Appl...   \n",
       "\n",
       "                                         cs(Referer)  sc-status  sc-substatus  \\\n",
       "0                                                NaN        301             0   \n",
       "1                                                NaN        302             0   \n",
       "2                                                NaN        302             0   \n",
       "3                                                NaN        200             0   \n",
       "4  https://inplace.canberra.edu.au/Security/Accou...        200             0   \n",
       "\n",
       "   time-taken(ms)  \n",
       "0              93  \n",
       "1              93  \n",
       "2              93  \n",
       "3             171  \n",
       "4             265  "
      ]
     },
     "execution_count": 15,
     "metadata": {},
     "output_type": "execute_result"
    }
   ],
   "source": [
    "iis_logs_df.head()"
   ]
  },
  {
   "cell_type": "code",
   "execution_count": 16,
   "metadata": {},
   "outputs": [
    {
     "name": "stdout",
     "output_type": "stream",
     "text": [
      "<class 'pandas.core.frame.DataFrame'>\n",
      "RangeIndex: 12334 entries, 0 to 12333\n",
      "Data columns (total 12 columns):\n",
      "date              12334 non-null object\n",
      "time              12334 non-null object\n",
      "server-ip         12334 non-null object\n",
      "cs-uri-query      5510 non-null object\n",
      "server-port       12334 non-null int64\n",
      "cs-username       7275 non-null object\n",
      "client-ip         12334 non-null object\n",
      "cs(User-Agent)    12138 non-null object\n",
      "cs(Referer)       9206 non-null object\n",
      "sc-status         12334 non-null int64\n",
      "sc-substatus      12334 non-null int64\n",
      "time-taken(ms)    12334 non-null int64\n",
      "dtypes: int64(4), object(8)\n",
      "memory usage: 1.1+ MB\n"
     ]
    }
   ],
   "source": [
    "iis_logs_df.info()"
   ]
  },
  {
   "cell_type": "code",
   "execution_count": 17,
   "metadata": {},
   "outputs": [
    {
     "data": {
      "text/html": [
       "<div>\n",
       "<style scoped>\n",
       "    .dataframe tbody tr th:only-of-type {\n",
       "        vertical-align: middle;\n",
       "    }\n",
       "\n",
       "    .dataframe tbody tr th {\n",
       "        vertical-align: top;\n",
       "    }\n",
       "\n",
       "    .dataframe thead th {\n",
       "        text-align: right;\n",
       "    }\n",
       "</style>\n",
       "<table border=\"1\" class=\"dataframe\">\n",
       "  <thead>\n",
       "    <tr style=\"text-align: right;\">\n",
       "      <th></th>\n",
       "      <th>server-port</th>\n",
       "      <th>sc-status</th>\n",
       "      <th>sc-substatus</th>\n",
       "      <th>time-taken(ms)</th>\n",
       "    </tr>\n",
       "  </thead>\n",
       "  <tbody>\n",
       "    <tr>\n",
       "      <th>count</th>\n",
       "      <td>12334.000000</td>\n",
       "      <td>12334.000000</td>\n",
       "      <td>12334.0</td>\n",
       "      <td>12334.000000</td>\n",
       "    </tr>\n",
       "    <tr>\n",
       "      <th>mean</th>\n",
       "      <td>442.323091</td>\n",
       "      <td>215.232447</td>\n",
       "      <td>0.0</td>\n",
       "      <td>532.415518</td>\n",
       "    </tr>\n",
       "    <tr>\n",
       "      <th>std</th>\n",
       "      <td>15.661410</td>\n",
       "      <td>38.194092</td>\n",
       "      <td>0.0</td>\n",
       "      <td>2264.506444</td>\n",
       "    </tr>\n",
       "    <tr>\n",
       "      <th>min</th>\n",
       "      <td>80.000000</td>\n",
       "      <td>200.000000</td>\n",
       "      <td>0.0</td>\n",
       "      <td>0.000000</td>\n",
       "    </tr>\n",
       "    <tr>\n",
       "      <th>25%</th>\n",
       "      <td>443.000000</td>\n",
       "      <td>200.000000</td>\n",
       "      <td>0.0</td>\n",
       "      <td>62.000000</td>\n",
       "    </tr>\n",
       "    <tr>\n",
       "      <th>50%</th>\n",
       "      <td>443.000000</td>\n",
       "      <td>200.000000</td>\n",
       "      <td>0.0</td>\n",
       "      <td>187.000000</td>\n",
       "    </tr>\n",
       "    <tr>\n",
       "      <th>75%</th>\n",
       "      <td>443.000000</td>\n",
       "      <td>200.000000</td>\n",
       "      <td>0.0</td>\n",
       "      <td>330.000000</td>\n",
       "    </tr>\n",
       "    <tr>\n",
       "      <th>max</th>\n",
       "      <td>443.000000</td>\n",
       "      <td>404.000000</td>\n",
       "      <td>0.0</td>\n",
       "      <td>82662.000000</td>\n",
       "    </tr>\n",
       "  </tbody>\n",
       "</table>\n",
       "</div>"
      ],
      "text/plain": [
       "        server-port     sc-status  sc-substatus  time-taken(ms)\n",
       "count  12334.000000  12334.000000       12334.0    12334.000000\n",
       "mean     442.323091    215.232447           0.0      532.415518\n",
       "std       15.661410     38.194092           0.0     2264.506444\n",
       "min       80.000000    200.000000           0.0        0.000000\n",
       "25%      443.000000    200.000000           0.0       62.000000\n",
       "50%      443.000000    200.000000           0.0      187.000000\n",
       "75%      443.000000    200.000000           0.0      330.000000\n",
       "max      443.000000    404.000000           0.0    82662.000000"
      ]
     },
     "execution_count": 17,
     "metadata": {},
     "output_type": "execute_result"
    }
   ],
   "source": [
    "iis_logs_df.describe()"
   ]
  },
  {
   "cell_type": "code",
   "execution_count": 18,
   "metadata": {},
   "outputs": [
    {
     "data": {
      "text/plain": [
       "count    12334.000000\n",
       "mean       442.323091\n",
       "std         15.661410\n",
       "min         80.000000\n",
       "25%        443.000000\n",
       "50%        443.000000\n",
       "75%        443.000000\n",
       "max        443.000000\n",
       "Name: server-port, dtype: float64"
      ]
     },
     "execution_count": 18,
     "metadata": {},
     "output_type": "execute_result"
    }
   ],
   "source": [
    "iis_logs_df[\"server-port\"].describe()"
   ]
  },
  {
   "cell_type": "code",
   "execution_count": 19,
   "metadata": {},
   "outputs": [
    {
     "data": {
      "text/plain": [
       "443    12311\n",
       "80        23\n",
       "Name: server-port, dtype: int64"
      ]
     },
     "execution_count": 19,
     "metadata": {},
     "output_type": "execute_result"
    }
   ],
   "source": [
    "iis_logs_df[\"server-port\"].value_counts()"
   ]
  },
  {
   "cell_type": "code",
   "execution_count": 20,
   "metadata": {},
   "outputs": [
    {
     "data": {
      "text/plain": [
       "0    58.167.88.59\n",
       "1    58.167.88.59\n",
       "2    58.167.88.59\n",
       "3    58.167.88.59\n",
       "4    58.167.88.59\n",
       "Name: client-ip, dtype: object"
      ]
     },
     "execution_count": 20,
     "metadata": {},
     "output_type": "execute_result"
    }
   ],
   "source": [
    "iis_logs_df['client-ip'].head()"
   ]
  },
  {
   "cell_type": "code",
   "execution_count": 61,
   "metadata": {},
   "outputs": [
    {
     "data": {
      "text/plain": [
       "geoip2.records.Continent(_locales=['en'], names={'de': 'Asien', 'en': 'Asia', 'es': 'Asia', 'fr': 'Asie', 'ja': 'アジア', 'pt-BR': 'Ásia', 'ru': 'Азия', 'zh-CN': '亚洲'}, code='AS', geoname_id=6255147)"
      ]
     },
     "execution_count": 61,
     "metadata": {},
     "output_type": "execute_result"
    }
   ],
   "source": [
    "iis_logs_df['client-ip'].apply(lambda x: reader.city(ip_address=x))[55].continent"
   ]
  },
  {
   "cell_type": "code",
   "execution_count": 55,
   "metadata": {},
   "outputs": [
    {
     "data": {
      "text/plain": [
       "'Parramatta'"
      ]
     },
     "execution_count": 55,
     "metadata": {},
     "output_type": "execute_result"
    }
   ],
   "source": [
    "iis_logs_df['client-ip'].apply(lambda x: reader.city(ip_address=x))[0].city.names[\"en\"]\n"
   ]
  },
  {
   "cell_type": "code",
   "execution_count": 62,
   "metadata": {},
   "outputs": [],
   "source": [
    "x=iis_logs_df['client-ip'].apply(lambda x: reader.city(ip_address=x))[55]"
   ]
  },
  {
   "cell_type": "code",
   "execution_count": 82,
   "metadata": {},
   "outputs": [
    {
     "data": {
      "text/plain": [
       "dict_keys([])"
      ]
     },
     "execution_count": 82,
     "metadata": {},
     "output_type": "execute_result"
    }
   ],
   "source": [
    "x.city.names.keys()"
   ]
  },
  {
   "cell_type": "code",
   "execution_count": null,
   "metadata": {},
   "outputs": [],
   "source": []
  }
 ],
 "metadata": {
  "kernelspec": {
   "display_name": "Python 3",
   "language": "python",
   "name": "python3"
  },
  "language_info": {
   "codemirror_mode": {
    "name": "ipython",
    "version": 3
   },
   "file_extension": ".py",
   "mimetype": "text/x-python",
   "name": "python",
   "nbconvert_exporter": "python",
   "pygments_lexer": "ipython3",
   "version": "3.6.5"
  }
 },
 "nbformat": 4,
 "nbformat_minor": 2
}
