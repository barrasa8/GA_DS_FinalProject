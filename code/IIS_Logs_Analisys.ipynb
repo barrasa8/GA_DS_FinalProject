{
 "cells": [
  {
   "cell_type": "code",
   "execution_count": 1,
   "metadata": {},
   "outputs": [],
   "source": [
    "import pandas as pd\n",
    "import statsmodels.api as sm\n",
    "import numpy as np\n",
    "import seaborn as sns\n",
    "import matplotlib.pyplot as plt\n",
    "import geoip2.database\n",
    "import myLogReader as mlr\n",
    "import pythonClassExample as pce\n",
    "import re\n",
    "import os\n",
    "import datetime as dt\n",
    "\n",
    "%matplotlib inline"
   ]
  },
  {
   "cell_type": "markdown",
   "metadata": {},
   "source": [
    "## Automate - Read and Prep log data into DF"
   ]
  },
  {
   "cell_type": "code",
   "execution_count": 9,
   "metadata": {},
   "outputs": [
    {
     "name": "stdout",
     "output_type": "stream",
     "text": [
      "../data/logs\\u_ex180913.log\n",
      "../data/logs\\u_ex180914.log\n",
      "../data/logs\\u_ex180915.log\n",
      "../data/logs\\u_ex180916.log\n",
      "../data/logs\\u_ex180917.log\n",
      "../data/logs\\u_ex180918.log\n",
      "../data/logs\\u_ex180919.log\n",
      "../data/logs\\u_ex180920.log\n",
      "../data/logs\\u_ex180921.log\n",
      "../data/logs\\u_ex180922.log\n",
      "../data/logs\\u_ex180923.log\n",
      "../data/logs\\u_ex180924.log\n",
      "../data/logs\\u_ex180925.log\n",
      "../data/logs\\u_ex180926.log\n",
      "../data/logs\\u_ex180927.log\n",
      "../data/logs\\u_ex180928.log\n",
      "../data/logs\\u_ex180929.log\n",
      "../data/logs\\u_ex180930.log\n",
      "../data/logs\\u_ex181001.log\n",
      "../data/logs\\u_ex181002.log\n",
      "../data/logs\\u_ex181003.log\n",
      "../data/logs\\u_ex181004.log\n",
      "../data/logs\\u_ex181005.log\n",
      "../data/logs\\u_ex181006.log\n",
      "../data/logs\\u_ex181007.log\n",
      "../data/logs\\u_ex181008.log\n",
      "../data/logs\\u_ex181009.log\n",
      "../data/logs\\u_ex181010.log\n"
     ]
    }
   ],
   "source": [
    "logsPath = '../data/logs'\n",
    "geoLiteIPDBPath = '../data/GeoLite2-City_20181009/GeoLite2-City.mmdb'\n",
    "\n",
    "#Create a myLogReader object\n",
    "myLogReader = mlr.log()\n",
    "\n",
    "df =  myLogReader.readLogs(logsPath)"
   ]
  },
  {
   "cell_type": "markdown",
   "metadata": {},
   "source": [
    "#### 2- Automate load logs and aggregate data"
   ]
  },
  {
   "cell_type": "code",
   "execution_count": null,
   "metadata": {},
   "outputs": [],
   "source": [
    "#df.to_csv('test.csv')"
   ]
  },
  {
   "cell_type": "code",
   "execution_count": null,
   "metadata": {},
   "outputs": [],
   "source": [
    "client_browser_df = (df.groupby(by=['date','client-browser'])['client-browser']\n",
    "                        .count()\n",
    "                        .reset_index(level=1,name='Count')\n",
    "                        .pivot(columns='client-browser',values='Count'))\n",
    "\n",
    "client_city_df = (df.groupby(by=['date','client-city'])['client-city']\n",
    "            .count()\n",
    "            .reset_index(level=1,name='Count')\n",
    "            .pivot(columns='client-city',values='Count'))\n",
    "\n",
    "client_country_df = (df.groupby(by=['date','client-country'])['client-country']\n",
    "            .count()\n",
    "            .reset_index(level=1,name='Count')\n",
    "            .pivot(columns='client-country',values='Count'))\n",
    "\n",
    "client_device_df = (df.groupby(by=['date','client-device'])['client-device']\n",
    "            .count()\n",
    "            .reset_index(level=1,name='Count')\n",
    "            .pivot(columns='client-device',values='Count'))\n",
    "\n",
    "client_webPage_df = (df.groupby(by=['date','client-webPage'])['client-webPage']\n",
    "            .count()\n",
    "            .reset_index(level=1,name='Count')\n",
    "            .pivot(columns='client-webPage',values='Count'))\n",
    "\n",
    "(df.groupby(by=['date','client-ip'])['client\n",
    "                                     -ip']\n",
    "            .count()\n",
    "            .reset_index(level=1,name='Count')\n",
    "            .pivot(columns='client-ip',values='Count'))"
   ]
  },
  {
   "cell_type": "code",
   "execution_count": null,
   "metadata": {},
   "outputs": [],
   "source": [
    "df.iloc[10:20,[0,5,6,11,12,13,14,15,16]]"
   ]
  },
  {
   "cell_type": "code",
   "execution_count": null,
   "metadata": {},
   "outputs": [],
   "source": [
    "df.info()"
   ]
  },
  {
   "cell_type": "code",
   "execution_count": null,
   "metadata": {},
   "outputs": [],
   "source": [
    "df.head()"
   ]
  },
  {
   "cell_type": "code",
   "execution_count": null,
   "metadata": {},
   "outputs": [],
   "source": [
    "df.info()"
   ]
  },
  {
   "cell_type": "code",
   "execution_count": null,
   "metadata": {},
   "outputs": [],
   "source": [
    "df.describe()"
   ]
  },
  {
   "cell_type": "code",
   "execution_count": null,
   "metadata": {},
   "outputs": [],
   "source": [
    "df[\"server-port\"].describe()"
   ]
  },
  {
   "cell_type": "code",
   "execution_count": null,
   "metadata": {},
   "outputs": [],
   "source": [
    "df.info()"
   ]
  },
  {
   "cell_type": "markdown",
   "metadata": {},
   "source": [
    "## Derive Calendar Week, year after aggregating the data"
   ]
  },
  {
   "cell_type": "code",
   "execution_count": null,
   "metadata": {},
   "outputs": [],
   "source": [
    "df['date-weekday']   = df['date'].apply(lambda x: 'Weekday' if np.int8(str(dt.datetime.strptime(x,'%Y-%m-%d').weekday())) < 5 else 'Weekend')\n",
    "df['date-calendar-week']   = df['date'].apply(lambda x: np.int8(str(dt.datetime.strptime(x,'%Y-%m-%d').isocalendar()[1])))\n",
    "df['date-year']   = df['date'].apply(lambda x: dt.datetime.strptime(x,'%Y-%m-%d').year)"
   ]
  },
  {
   "cell_type": "code",
   "execution_count": null,
   "metadata": {},
   "outputs": [],
   "source": [
    "df.loc[:, df.dtypes == object].describe()"
   ]
  },
  {
   "cell_type": "code",
   "execution_count": null,
   "metadata": {},
   "outputs": [],
   "source": [
    "import datetime as dt\n",
    "d =dt.datetime.strptime(df.date.loc[1],'%Y-%m-%d')\n",
    "d =dt.datetime.strptime('2018-12-28','%Y-%m-%d')\n",
    "d.year\n",
    "#np.int8(str(d.year))\n",
    "\n",
    "#iis_logs_df.date.loc[1]"
   ]
  },
  {
   "cell_type": "code",
   "execution_count": null,
   "metadata": {},
   "outputs": [],
   "source": [
    "df.isna().sum()"
   ]
  }
 ],
 "metadata": {
  "kernelspec": {
   "display_name": "Python 3",
   "language": "python",
   "name": "python3"
  },
  "language_info": {
   "codemirror_mode": {
    "name": "ipython",
    "version": 3
   },
   "file_extension": ".py",
   "mimetype": "text/x-python",
   "name": "python",
   "nbconvert_exporter": "python",
   "pygments_lexer": "ipython3",
   "version": "3.7.0"
  }
 },
 "nbformat": 4,
 "nbformat_minor": 2
}
