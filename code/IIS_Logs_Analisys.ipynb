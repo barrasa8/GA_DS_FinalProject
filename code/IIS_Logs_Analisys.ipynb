{
 "cells": [
  {
   "cell_type": "code",
   "execution_count": 13,
   "metadata": {},
   "outputs": [],
   "source": [
    "import pandas as pd\n",
    "import statsmodels.api as sm\n",
    "import numpy as np\n",
    "import seaborn as sns\n",
    "import matplotlib.pyplot as plt\n",
    "import geoip2.database\n",
    "import myLogReader as mlr\n",
    "import re\n",
    "import os\n",
    "import sys\n",
    "import datetime as dt\n",
    "\n",
    "%matplotlib inline"
   ]
  },
  {
   "cell_type": "markdown",
   "metadata": {},
   "source": [
    "## Automate - Read and Prep log data into DF"
   ]
  },
  {
   "cell_type": "code",
   "execution_count": 14,
   "metadata": {},
   "outputs": [],
   "source": [
    "logsPath = '../data/logs'\n",
    "geoLiteIPDBPath = '../data/GeoLite2-City_20181009/GeoLite2-City.mmdb'\n",
    "\n",
    "#Create a myLogReader object\n",
    "myLogReader = mlr.log()\n",
    "#Open Reader\n",
    "myLogReader.openReader(geoLiteIPDBPath)"
   ]
  },
  {
   "cell_type": "code",
   "execution_count": 16,
   "metadata": {},
   "outputs": [
    {
     "name": "stdout",
     "output_type": "stream",
     "text": [
      "AggregatedData_week_2.csv\n",
      "../data/logs\\u_ex171230.log\n",
      "../data/logs\\u_ex171231.log\n",
      "../data/logs\\u_ex180101.log\n",
      "../data/logs\\u_ex180102.log\n",
      "../data/logs\\u_ex180103.log\n",
      "../data/logs\\u_ex180104.log\n",
      "../data/logs\\u_ex180105.log\n",
      "AggregatedData_week_3.csv\n",
      "../data/logs\\u_ex180106.log\n",
      "../data/logs\\u_ex180107.log\n",
      "../data/logs\\u_ex180108.log\n",
      "../data/logs\\u_ex180109.log\n",
      "../data/logs\\u_ex180110.log\n",
      "../data/logs\\u_ex180111.log\n",
      "../data/logs\\u_ex180112.log\n"
     ]
    }
   ],
   "source": [
    "for i in range(2,4):\n",
    "    print ('AggregatedData_week_%d.csv' % i)\n",
    "    df =  myLogReader.readLogs(logsPath,7)\n",
    "    df.to_csv('../data/AggregatedData_week_%d.csv' % i)"
   ]
  },
  {
   "cell_type": "code",
   "execution_count": 4,
   "metadata": {},
   "outputs": [
    {
     "ename": "NameError",
     "evalue": "name 'myLogReader' is not defined",
     "output_type": "error",
     "traceback": [
      "\u001b[1;31m---------------------------------------------------------------------------\u001b[0m",
      "\u001b[1;31mNameError\u001b[0m                                 Traceback (most recent call last)",
      "\u001b[1;32m<ipython-input-4-801856ea362b>\u001b[0m in \u001b[0;36m<module>\u001b[1;34m()\u001b[0m\n\u001b[1;32m----> 1\u001b[1;33m \u001b[0mdf\u001b[0m \u001b[1;33m=\u001b[0m  \u001b[0mmyLogReader\u001b[0m\u001b[1;33m.\u001b[0m\u001b[0mreadLogs\u001b[0m\u001b[1;33m(\u001b[0m\u001b[0mlogsPath\u001b[0m\u001b[1;33m,\u001b[0m\u001b[1;36m112\u001b[0m\u001b[1;33m)\u001b[0m\u001b[1;33m\u001b[0m\u001b[0m\n\u001b[0m",
      "\u001b[1;31mNameError\u001b[0m: name 'myLogReader' is not defined"
     ]
    }
   ],
   "source": [
    "df =  myLogReader.readLogs(logsPath,112)"
   ]
  },
  {
   "cell_type": "code",
   "execution_count": 4,
   "metadata": {},
   "outputs": [],
   "source": [
    "#Close Reader\n",
    "myLogReader.closeReader()"
   ]
  },
  {
   "cell_type": "code",
   "execution_count": 8,
   "metadata": {},
   "outputs": [
    {
     "data": {
      "text/html": [
       "<div>\n",
       "<style scoped>\n",
       "    .dataframe tbody tr th:only-of-type {\n",
       "        vertical-align: middle;\n",
       "    }\n",
       "\n",
       "    .dataframe tbody tr th {\n",
       "        vertical-align: top;\n",
       "    }\n",
       "\n",
       "    .dataframe thead th {\n",
       "        text-align: right;\n",
       "    }\n",
       "</style>\n",
       "<table border=\"1\" class=\"dataframe\">\n",
       "  <thead>\n",
       "    <tr style=\"text-align: right;\">\n",
       "      <th></th>\n",
       "      <th>client-ip-unique-count</th>\n",
       "      <th>cs-username-unique-count</th>\n",
       "      <th>client-connections-count</th>\n",
       "      <th>time-taken(ms)-sum</th>\n",
       "      <th>Chrome-count</th>\n",
       "      <th>Firefox-count</th>\n",
       "      <th>Other-count</th>\n",
       "      <th>Safari-count</th>\n",
       "      <th>Desktop-count</th>\n",
       "      <th>Mobile-count</th>\n",
       "    </tr>\n",
       "    <tr>\n",
       "      <th>calendar-year-week</th>\n",
       "      <th></th>\n",
       "      <th></th>\n",
       "      <th></th>\n",
       "      <th></th>\n",
       "      <th></th>\n",
       "      <th></th>\n",
       "      <th></th>\n",
       "      <th></th>\n",
       "      <th></th>\n",
       "      <th></th>\n",
       "    </tr>\n",
       "  </thead>\n",
       "  <tbody>\n",
       "    <tr>\n",
       "      <th>2017-50</th>\n",
       "      <td>925</td>\n",
       "      <td>415</td>\n",
       "      <td>89497</td>\n",
       "      <td>52520170.0</td>\n",
       "      <td>38500</td>\n",
       "      <td>7784</td>\n",
       "      <td>27741</td>\n",
       "      <td>15472</td>\n",
       "      <td>80440</td>\n",
       "      <td>9057</td>\n",
       "    </tr>\n",
       "    <tr>\n",
       "      <th>2017-51</th>\n",
       "      <td>866</td>\n",
       "      <td>386</td>\n",
       "      <td>81378</td>\n",
       "      <td>44703569.0</td>\n",
       "      <td>39664</td>\n",
       "      <td>6585</td>\n",
       "      <td>21274</td>\n",
       "      <td>13855</td>\n",
       "      <td>72925</td>\n",
       "      <td>8453</td>\n",
       "    </tr>\n",
       "    <tr>\n",
       "      <th>2017-52</th>\n",
       "      <td>475</td>\n",
       "      <td>179</td>\n",
       "      <td>30843</td>\n",
       "      <td>14199684.0</td>\n",
       "      <td>9978</td>\n",
       "      <td>553</td>\n",
       "      <td>14279</td>\n",
       "      <td>6033</td>\n",
       "      <td>27735</td>\n",
       "      <td>3108</td>\n",
       "    </tr>\n",
       "    <tr>\n",
       "      <th>2018-1</th>\n",
       "      <td>769</td>\n",
       "      <td>354</td>\n",
       "      <td>71528</td>\n",
       "      <td>42663674.0</td>\n",
       "      <td>31666</td>\n",
       "      <td>8049</td>\n",
       "      <td>19512</td>\n",
       "      <td>12301</td>\n",
       "      <td>64710</td>\n",
       "      <td>6818</td>\n",
       "    </tr>\n",
       "    <tr>\n",
       "      <th>2018-2</th>\n",
       "      <td>920</td>\n",
       "      <td>441</td>\n",
       "      <td>90093</td>\n",
       "      <td>63904084.0</td>\n",
       "      <td>38238</td>\n",
       "      <td>6166</td>\n",
       "      <td>23249</td>\n",
       "      <td>22440</td>\n",
       "      <td>79099</td>\n",
       "      <td>10994</td>\n",
       "    </tr>\n",
       "  </tbody>\n",
       "</table>\n",
       "</div>"
      ],
      "text/plain": [
       "                    client-ip-unique-count  cs-username-unique-count  \\\n",
       "calendar-year-week                                                     \n",
       "2017-50                                925                       415   \n",
       "2017-51                                866                       386   \n",
       "2017-52                                475                       179   \n",
       "2018-1                                 769                       354   \n",
       "2018-2                                 920                       441   \n",
       "\n",
       "                    client-connections-count  time-taken(ms)-sum  \\\n",
       "calendar-year-week                                                 \n",
       "2017-50                                89497          52520170.0   \n",
       "2017-51                                81378          44703569.0   \n",
       "2017-52                                30843          14199684.0   \n",
       "2018-1                                 71528          42663674.0   \n",
       "2018-2                                 90093          63904084.0   \n",
       "\n",
       "                    Chrome-count  Firefox-count  Other-count  Safari-count  \\\n",
       "calendar-year-week                                                           \n",
       "2017-50                    38500           7784        27741         15472   \n",
       "2017-51                    39664           6585        21274         13855   \n",
       "2017-52                     9978            553        14279          6033   \n",
       "2018-1                     31666           8049        19512         12301   \n",
       "2018-2                     38238           6166        23249         22440   \n",
       "\n",
       "                    Desktop-count  Mobile-count  \n",
       "calendar-year-week                               \n",
       "2017-50                     80440          9057  \n",
       "2017-51                     72925          8453  \n",
       "2017-52                     27735          3108  \n",
       "2018-1                      64710          6818  \n",
       "2018-2                      79099         10994  "
      ]
     },
     "execution_count": 8,
     "metadata": {},
     "output_type": "execute_result"
    }
   ],
   "source": [
    "df.head()"
   ]
  },
  {
   "cell_type": "markdown",
   "metadata": {},
   "source": [
    "#### 2- Automate load logs and aggregate data"
   ]
  },
  {
   "cell_type": "code",
   "execution_count": 6,
   "metadata": {},
   "outputs": [],
   "source": [
    "df.to_csv('../data/AggregatedData_112_days.csv')"
   ]
  },
  {
   "cell_type": "code",
   "execution_count": null,
   "metadata": {},
   "outputs": [],
   "source": [
    "pd.concat([df_devicecount,df_browsercount,df_totalconnections_timetaken,df_uniqueUsername,df_uniqueIP],axis=1)"
   ]
  },
  {
   "cell_type": "code",
   "execution_count": null,
   "metadata": {},
   "outputs": [],
   "source": [
    "df.info()"
   ]
  },
  {
   "cell_type": "code",
   "execution_count": null,
   "metadata": {},
   "outputs": [],
   "source": [
    "df['client-ip'].describe()"
   ]
  },
  {
   "cell_type": "code",
   "execution_count": null,
   "metadata": {},
   "outputs": [],
   "source": [
    "df.loc[:, df.dtypes == object].describe()"
   ]
  },
  {
   "cell_type": "code",
   "execution_count": null,
   "metadata": {},
   "outputs": [],
   "source": [
    "df.isna().sum()"
   ]
  },
  {
   "cell_type": "code",
   "execution_count": null,
   "metadata": {},
   "outputs": [],
   "source": [
    "test_df =  myLogReader.readLog('../data/logs/u_ex180131.log')\n",
    "\n",
    "myLogReader.deriveClientCountry(test_df)"
   ]
  },
  {
   "cell_type": "code",
   "execution_count": null,
   "metadata": {},
   "outputs": [],
   "source": [
    "#df_ip = groupbyCalendarYearWeek_ClientIp(df)\n",
    "df_ip"
   ]
  },
  {
   "cell_type": "code",
   "execution_count": null,
   "metadata": {},
   "outputs": [],
   "source": []
  }
 ],
 "metadata": {
  "kernelspec": {
   "display_name": "Python 3",
   "language": "python",
   "name": "python3"
  },
  "language_info": {
   "codemirror_mode": {
    "name": "ipython",
    "version": 3
   },
   "file_extension": ".py",
   "mimetype": "text/x-python",
   "name": "python",
   "nbconvert_exporter": "python",
   "pygments_lexer": "ipython3",
   "version": "3.6.5"
  }
 },
 "nbformat": 4,
 "nbformat_minor": 2
}
