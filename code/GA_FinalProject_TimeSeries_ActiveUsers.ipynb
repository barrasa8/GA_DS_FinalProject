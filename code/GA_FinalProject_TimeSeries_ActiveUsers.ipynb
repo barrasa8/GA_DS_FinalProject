{
 "cells": [
  {
   "cell_type": "markdown",
   "metadata": {},
   "source": [
    "# Time Series - Active Users "
   ]
  },
  {
   "cell_type": "markdown",
   "metadata": {},
   "source": [
    "## Project problem\n",
    "\n",
    "A web-based application, is used by University's staff members, students and  agencies. At the moment there we keep track on How many active users are connected every month, but there is no forecasting model in place to predict active users in the following weeks. \n",
    "\n",
    "**Goal:** The intention of this notebook is to, using time series, create a model that can predict the active users in the following week.\n",
    "\n",
    "**Impact:** Since the web application is deployed in the cloud, being able to predict active users, could have an impact in how effectively cloud services are provisioned and adjusted to the demand. It could potentially save some money for the company. \n",
    "\n",
    "**Hypothesis:** Based on University placements created, a seasonality component and the number of active users in the previous period, we could predict a higher or lower number of active users."
   ]
  },
  {
   "cell_type": "markdown",
   "metadata": {},
   "source": [
    "## Dataset\n",
    "\n",
    "The dataset is a set of **IIS logs** from a client in Canberra **from 2017-12-07 to 2018-10-10**.\n",
    "\n",
    "Variable | Description | type of variable \n",
    "---|---|---\n",
    " date          | Date of the event logged|continuous\n",
    " time          | Time of the event logged|continuous\n",
    " server-ip     | IP of the server|categorical\n",
    " cs-uri-query  | Part of the URL access by the client|categorical\n",
    " server-port   | Server port used for serving the page|categorical\n",
    " cs-username   | Client user. High percentage of requests are missing the user|categorical \n",
    " client-ip     | IP of the client|categorical\n",
    " cs(User-Agent)| Http response part with information about the browser used and the type of device|categorical\n",
    " cs(Referer)   | Http reponse part with the URL accessed |categorical\n",
    " sc-status     | Http response status|categorical\n",
    " sc-substatus  | Http response sub-status|categorical\n",
    " time-taken(ms)| time taken in ms, to repond|continuous\n",
    " client-city   | City from which the client connected. Derived from the IP|categorical\n",
    " client-country| Country from which the client.Derived from the IP |categorical\n",
    " client-device | Type of deviced used to access the website by the client (Desktop or Mobile). |categorical\n",
    " client-browser| Browser used to access the website by the client. Derived from cs(User-Agent)|categorical\n",
    " client-webPage| Web page accessed by the client, Derived from cs(User-Agent)|categorical\n",
    " \n",
    " **Need to include Placements with students, placement with no students , agreggate per week - also include data related to users if possible, to predict based on type of user, agency, staff, student**"
   ]
  },
  {
   "cell_type": "markdown",
   "metadata": {},
   "source": [
    "## Domain Knowledge\n",
    "\n",
    "This is a new area for me, as I have not being actively involved in the development of this product. But when asking around other collegues from work, the conclusion was that as of now, there is no existing process to forecast active users.\n",
    "\n",
    "There are already tools in the market like google analytics , that will give you insights based on the IIS logs, but I have not seen a tool that out from the box would provide a forecast on active users from the IIS logs."
   ]
  },
  {
   "cell_type": "markdown",
   "metadata": {},
   "source": [
    "## Project concerns\n",
    "**Risks:** \n",
    "\n",
    "1) cs-username is missing in a lot of the observations. It might not be good enough to identify what type of user is connection to the website (staff, agency, student). If that is the case, we will just forecast active users as a whole.\n",
    "\n",
    "2) The features and the model having a very low accuracy, below 60%. \n"
   ]
  },
  {
   "cell_type": "markdown",
   "metadata": {},
   "source": [
    "## Outcomes\n",
    "For the project to be a success , the prediction accuraty should be at least 60%. If the project fail, I will try other features or timeseries models , with the goal to improve the accuracy to at least 60%."
   ]
  },
  {
   "cell_type": "markdown",
   "metadata": {},
   "source": [
    "## EDA\n",
    "\n",
    "For the EDA, since we have one file for each day, the intention is to load all the files into a dataframe, enhance the data and aggregate it per week.To keep the notebook as tidy as possible, most logic to automate this process has been moved to a python class called **myLogReader.py**.\n",
    "\n",
    "Below is a summary of the automated steps:\n",
    "\n",
    "- List every log file in the local folder\n",
    "- For each file:\n",
    "    - Load the file in a df\n",
    "    - Enhance df, deriving city, country, device type, browser used, weekday, etc...\n",
    "    - **Default NaN** values for city, user name, webpage to **Unknown**\n",
    "    - For every week (7 log files) loaded, aggregate the data and calculate number of distinct connections, total number of connections, reponse time taken (ms), number of distinct user names, etc...\n",
    "    \n",
    "![title](../data/img/Aggregated_data.JPG)\n"
   ]
  },
  {
   "cell_type": "markdown",
   "metadata": {},
   "source": [
    "#### Load python libraries"
   ]
  },
  {
   "cell_type": "code",
   "execution_count": 2,
   "metadata": {},
   "outputs": [],
   "source": [
    "import pandas as pd\n",
    "import statsmodels.api as sm\n",
    "import numpy as np\n",
    "import seaborn as sns\n",
    "import matplotlib.pyplot as plt\n",
    "import geoip2.database\n",
    "import myLogReader as mlr\n",
    "import re\n",
    "import os\n",
    "import sys\n",
    "import datetime as dt\n",
    "\n",
    "%matplotlib inline"
   ]
  },
  {
   "cell_type": "markdown",
   "metadata": {},
   "source": [
    "#### Load and transform log files into a data frame"
   ]
  },
  {
   "cell_type": "code",
   "execution_count": 13,
   "metadata": {},
   "outputs": [],
   "source": [
    "logsPath = '../data/logs'\n",
    "geoLiteIPDBPath = '../data/GeoLite2-City_20181009/GeoLite2-City.mmdb'\n",
    "\n",
    "#Create a myLogReader object\n",
    "myLogReader = mlr.log()\n",
    "#Open Reader\n",
    "myLogReader.openReader(geoLiteIPDBPath)"
   ]
  },
  {
   "cell_type": "code",
   "execution_count": 11,
   "metadata": {},
   "outputs": [
    {
     "name": "stdout",
     "output_type": "stream",
     "text": [
      "../data/logs\\u_ex171216.log\n",
      "../data/logs\\u_ex171217.log\n",
      "../data/logs\\u_ex171218.log\n",
      "../data/logs\\u_ex171219.log\n",
      "../data/logs\\u_ex171220.log\n",
      "../data/logs\\u_ex171221.log\n",
      "../data/logs\\u_ex171222.log\n"
     ]
    }
   ],
   "source": [
    "df =  myLogReader.readLogs(logsPath,7)"
   ]
  },
  {
   "cell_type": "code",
   "execution_count": 5,
   "metadata": {},
   "outputs": [],
   "source": [
    "#Close Reader\n",
    "myLogReader.closeReader()"
   ]
  },
  {
   "cell_type": "code",
   "execution_count": 12,
   "metadata": {},
   "outputs": [
    {
     "data": {
      "text/html": [
       "<div>\n",
       "<style scoped>\n",
       "    .dataframe tbody tr th:only-of-type {\n",
       "        vertical-align: middle;\n",
       "    }\n",
       "\n",
       "    .dataframe tbody tr th {\n",
       "        vertical-align: top;\n",
       "    }\n",
       "\n",
       "    .dataframe thead th {\n",
       "        text-align: right;\n",
       "    }\n",
       "</style>\n",
       "<table border=\"1\" class=\"dataframe\">\n",
       "  <thead>\n",
       "    <tr style=\"text-align: right;\">\n",
       "      <th></th>\n",
       "      <th>client-ip-unique-count</th>\n",
       "      <th>cs-username-unique-count</th>\n",
       "      <th>client-connections-count</th>\n",
       "      <th>time-taken(ms)-sum</th>\n",
       "      <th>Chrome-count</th>\n",
       "      <th>Firefox-count</th>\n",
       "      <th>Other-count</th>\n",
       "      <th>Safari-count</th>\n",
       "      <th>Desktop-count</th>\n",
       "      <th>Mobile-count</th>\n",
       "    </tr>\n",
       "    <tr>\n",
       "      <th>calendar-year-week</th>\n",
       "      <th></th>\n",
       "      <th></th>\n",
       "      <th></th>\n",
       "      <th></th>\n",
       "      <th></th>\n",
       "      <th></th>\n",
       "      <th></th>\n",
       "      <th></th>\n",
       "      <th></th>\n",
       "      <th></th>\n",
       "    </tr>\n",
       "  </thead>\n",
       "  <tbody>\n",
       "    <tr>\n",
       "      <th>2017-50</th>\n",
       "      <td>225</td>\n",
       "      <td>91</td>\n",
       "      <td>13730</td>\n",
       "      <td>6799558.0</td>\n",
       "      <td>5098</td>\n",
       "      <td>289</td>\n",
       "      <td>5892</td>\n",
       "      <td>2451</td>\n",
       "      <td>12460</td>\n",
       "      <td>1270</td>\n",
       "    </tr>\n",
       "    <tr>\n",
       "      <th>2017-51</th>\n",
       "      <td>715</td>\n",
       "      <td>347</td>\n",
       "      <td>70252</td>\n",
       "      <td>38674394.0</td>\n",
       "      <td>36005</td>\n",
       "      <td>5803</td>\n",
       "      <td>16593</td>\n",
       "      <td>11851</td>\n",
       "      <td>63201</td>\n",
       "      <td>7051</td>\n",
       "    </tr>\n",
       "  </tbody>\n",
       "</table>\n",
       "</div>"
      ],
      "text/plain": [
       "                    client-ip-unique-count  cs-username-unique-count  \\\n",
       "calendar-year-week                                                     \n",
       "2017-50                                225                        91   \n",
       "2017-51                                715                       347   \n",
       "\n",
       "                    client-connections-count  time-taken(ms)-sum  \\\n",
       "calendar-year-week                                                 \n",
       "2017-50                                13730           6799558.0   \n",
       "2017-51                                70252          38674394.0   \n",
       "\n",
       "                    Chrome-count  Firefox-count  Other-count  Safari-count  \\\n",
       "calendar-year-week                                                           \n",
       "2017-50                     5098            289         5892          2451   \n",
       "2017-51                    36005           5803        16593         11851   \n",
       "\n",
       "                    Desktop-count  Mobile-count  \n",
       "calendar-year-week                               \n",
       "2017-50                     12460          1270  \n",
       "2017-51                     63201          7051  "
      ]
     },
     "execution_count": 12,
     "metadata": {},
     "output_type": "execute_result"
    }
   ],
   "source": [
    "df.head()"
   ]
  }
 ],
 "metadata": {
  "kernelspec": {
   "display_name": "Python 3",
   "language": "python",
   "name": "python3"
  },
  "language_info": {
   "codemirror_mode": {
    "name": "ipython",
    "version": 3
   },
   "file_extension": ".py",
   "mimetype": "text/x-python",
   "name": "python",
   "nbconvert_exporter": "python",
   "pygments_lexer": "ipython3",
   "version": "3.6.5"
  }
 },
 "nbformat": 4,
 "nbformat_minor": 2
}
