{
 "cells": [
  {
   "cell_type": "markdown",
   "metadata": {},
   "source": [
    "# Time Series - Active Users "
   ]
  },
  {
   "cell_type": "markdown",
   "metadata": {},
   "source": [
    "## Project problem\n",
    "\n",
    "A web-based application, is used by University's staff members, students and  agencies. At the moment there we keep track on How many active users are connected every month, but there is no forecasting model in place to predict active users in the following weeks. \n",
    "\n",
    "**Goal:** The intention of this notebook is to, using time series, create a model that can predict the active users in the following week.\n",
    "\n",
    "**Impact:** Since the web application is deployed in the cloud, being able to predict active users, could have an impact in how effectively cloud services are provisioned and adjusted to the demand. It could potentially save some money for the company. \n",
    "\n",
    "**Hypothesis:** Based on University placements created, a seasonality component and the number of active users in the previous period, we could predict a higher or lower number of active users."
   ]
  },
  {
   "cell_type": "markdown",
   "metadata": {},
   "source": [
    "## Dataset\n",
    "\n",
    "The dataset is a set of **IIS logs** from a client in Canberra **from 2017-12-07 to 2018-10-10**.\n",
    "\n",
    "Variable | Description | type of variable \n",
    "---|---|---\n",
    " date          | Date of the event logged|continuous\n",
    " time          | Time of the event logged|continuous\n",
    " server-ip     | IP of the server|categorical\n",
    " cs-uri-query  | Part of the URL access by the client|categorical\n",
    " server-port   | Server port used for serving the page|categorical\n",
    " cs-username   | Client user. High percentage of requests are missing the user|categorical \n",
    " client-ip     | IP of the client|categorical\n",
    " cs(User-Agent)| Http response part with information about the browser used and the type of device|categorical\n",
    " cs(Referer)   | Http reponse part with the URL accessed |categorical\n",
    " sc-status     | Http response status|categorical\n",
    " sc-substatus  | Http response sub-status|categorical\n",
    " time-taken(ms)| time taken in ms, to repond|continuous\n",
    " client-city   | City from which the client connected. Derived from the IP|categorical\n",
    " client-country| Country from which the client.Derived from the IP |categorical\n",
    " client-device | Type of deviced used to access the website by the client (Desktop or Mobile). |categorical\n",
    " client-browser| Browser used to access the website by the client. Derived from cs(User-Agent)|categorical\n",
    " client-webPage| Web page accessed by the client, Derived from cs(User-Agent)|categorical\n",
    " \n",
    " **Need to include Placements with students, placement with no students , agreggate per week - also include data related to users if possible, to predict based on type of user, agency, staff, student**"
   ]
  },
  {
   "cell_type": "markdown",
   "metadata": {},
   "source": [
    "## Domain Knowledge\n",
    "\n",
    "This is a new area for me, as I have not being actively involved in the development of this product. But when asking around other collegues from work, the conclusion was that as of now, there is no existing process to forecast active users.\n",
    "\n",
    "There are already tools in the market like google analytics , that will give you insights based on the IIS logs, but I have not seen a tool that out from the box would provide a forecast on active users from the IIS logs."
   ]
  },
  {
   "cell_type": "markdown",
   "metadata": {},
   "source": [
    "## Project concerns\n",
    "**Risks:** \n",
    "\n",
    "1) cs-username is missing in a lot of the observations. It might not be good enough to identify what type of user is connection to the website (staff, agency, student). If that is the case, we will just forecast active users as a whole.\n",
    "\n",
    "2) The features and the model having a very low accuracy, below 60%. \n"
   ]
  },
  {
   "cell_type": "markdown",
   "metadata": {},
   "source": [
    "## Outcomes\n",
    "For the project to be a success , the prediction accuraty should be at least 60%. If the project fail, I will try other features or timeseries models , with the goal to improve the accuracy to at least 60%."
   ]
  },
  {
   "cell_type": "markdown",
   "metadata": {},
   "source": [
    "## EDA\n",
    "\n",
    "For the EDA, since we have one file for each day, the intention is to load all the files into a dataframe, enhance the data and aggregate it per week.To keep the notebook as tidy as possible, most logic to automate this process has been moved to a python class called **myLogReader.py**.\n",
    "\n",
    "Below is a summary of the automated steps:\n",
    "\n",
    "- List every log file in the local folder\n",
    "- For each file:\n",
    "    - Load the file in a df\n",
    "    - Enhance df, deriving city, country, device type, browser used, weekday, etc...\n",
    "    - **Default NaN** values for city, user name, webpage to **Unknown**\n",
    "    - For every week (7 log files) loaded, aggregate the data and calculate number of distinct connections, total number of connections, reponse time taken (ms), number of distinct user names, etc...\n",
    "    \n",
    "![title](../data/img/Aggregated_data.JPG)\n"
   ]
  },
  {
   "cell_type": "markdown",
   "metadata": {},
   "source": [
    "#### Load python libraries"
   ]
  },
  {
   "cell_type": "code",
   "execution_count": 3,
   "metadata": {},
   "outputs": [],
   "source": [
    "import pandas as pd\n",
    "import statsmodels.api as sm\n",
    "import numpy as np\n",
    "import seaborn as sns\n",
    "import matplotlib.pyplot as plt\n",
    "import geoip2.database\n",
    "import myLogReader as mlr\n",
    "import re\n",
    "import os\n",
    "import sys\n",
    "import datetime as dt\n",
    "from pandas.tools.plotting import autocorrelation_plot\n",
    "from statsmodels.graphics.tsaplots import plot_acf\n",
    "from sklearn.metrics import mean_absolute_error\n",
    "\n",
    "%matplotlib inline"
   ]
  },
  {
   "cell_type": "markdown",
   "metadata": {},
   "source": [
    "#### Load and transform log files into a data frame"
   ]
  },
  {
   "cell_type": "code",
   "execution_count": null,
   "metadata": {},
   "outputs": [],
   "source": [
    "logsPath = '../data/logs'\n",
    "geoLiteIPDBPath = '../data/GeoLite2-City_20181009/GeoLite2-City.mmdb'\n",
    "\n",
    "#Create a myLogReader object\n",
    "myLogReader = mlr.log()\n",
    "#Open Reader\n",
    "myLogReader.openReader(geoLiteIPDBPath)"
   ]
  },
  {
   "cell_type": "code",
   "execution_count": null,
   "metadata": {},
   "outputs": [],
   "source": [
    "for i in range(1,304):\n",
    "    print ('AggregatedData_week_%d.csv' % i)\n",
    "    df =  myLogReader.readLogs(logsPath,7)\n",
    "    df.to_csv('../data/AggregatedData_week_%d.csv' % i)"
   ]
  },
  {
   "cell_type": "code",
   "execution_count": null,
   "metadata": {},
   "outputs": [],
   "source": [
    "#Close Reader\n",
    "myLogReader.closeReader()"
   ]
  },
  {
   "cell_type": "code",
   "execution_count": null,
   "metadata": {},
   "outputs": [],
   "source": [
    "df.head()"
   ]
  },
  {
   "cell_type": "markdown",
   "metadata": {},
   "source": [
    "#### Load PlacementSummary and Logs Data aggregated per week"
   ]
  },
  {
   "cell_type": "code",
   "execution_count": 4,
   "metadata": {},
   "outputs": [],
   "source": [
    "log_aggregated_per_week_df = pd.read_csv('../data/LogsAggregatedData_per_week.csv')\n",
    "log_aggregated_per_week_df.set_index('calendar-year-week',inplace=True)"
   ]
  },
  {
   "cell_type": "code",
   "execution_count": 5,
   "metadata": {},
   "outputs": [
    {
     "data": {
      "text/html": [
       "<div>\n",
       "<style scoped>\n",
       "    .dataframe tbody tr th:only-of-type {\n",
       "        vertical-align: middle;\n",
       "    }\n",
       "\n",
       "    .dataframe tbody tr th {\n",
       "        vertical-align: top;\n",
       "    }\n",
       "\n",
       "    .dataframe thead th {\n",
       "        text-align: right;\n",
       "    }\n",
       "</style>\n",
       "<table border=\"1\" class=\"dataframe\">\n",
       "  <thead>\n",
       "    <tr style=\"text-align: right;\">\n",
       "      <th></th>\n",
       "      <th>client-ip-unique-count</th>\n",
       "      <th>cs-username-unique-count</th>\n",
       "      <th>client-connections-count</th>\n",
       "      <th>time-taken(ms)-sum</th>\n",
       "      <th>Chrome-count</th>\n",
       "      <th>Firefox-count</th>\n",
       "      <th>Other-count</th>\n",
       "      <th>Safari-count</th>\n",
       "      <th>Desktop-count</th>\n",
       "      <th>Mobile-count</th>\n",
       "    </tr>\n",
       "    <tr>\n",
       "      <th>calendar-year-week</th>\n",
       "      <th></th>\n",
       "      <th></th>\n",
       "      <th></th>\n",
       "      <th></th>\n",
       "      <th></th>\n",
       "      <th></th>\n",
       "      <th></th>\n",
       "      <th></th>\n",
       "      <th></th>\n",
       "      <th></th>\n",
       "    </tr>\n",
       "  </thead>\n",
       "  <tbody>\n",
       "    <tr>\n",
       "      <th>2017-50</th>\n",
       "      <td>925</td>\n",
       "      <td>415</td>\n",
       "      <td>89497</td>\n",
       "      <td>52520170.0</td>\n",
       "      <td>38500</td>\n",
       "      <td>7784</td>\n",
       "      <td>27741</td>\n",
       "      <td>15472</td>\n",
       "      <td>80440</td>\n",
       "      <td>9057</td>\n",
       "    </tr>\n",
       "    <tr>\n",
       "      <th>2017-51</th>\n",
       "      <td>866</td>\n",
       "      <td>386</td>\n",
       "      <td>81378</td>\n",
       "      <td>44703569.0</td>\n",
       "      <td>39664</td>\n",
       "      <td>6585</td>\n",
       "      <td>21274</td>\n",
       "      <td>13855</td>\n",
       "      <td>72925</td>\n",
       "      <td>8453</td>\n",
       "    </tr>\n",
       "    <tr>\n",
       "      <th>2017-52</th>\n",
       "      <td>475</td>\n",
       "      <td>179</td>\n",
       "      <td>30843</td>\n",
       "      <td>14199684.0</td>\n",
       "      <td>9978</td>\n",
       "      <td>553</td>\n",
       "      <td>14279</td>\n",
       "      <td>6033</td>\n",
       "      <td>27735</td>\n",
       "      <td>3108</td>\n",
       "    </tr>\n",
       "    <tr>\n",
       "      <th>2018-01</th>\n",
       "      <td>769</td>\n",
       "      <td>354</td>\n",
       "      <td>71528</td>\n",
       "      <td>42663674.0</td>\n",
       "      <td>31666</td>\n",
       "      <td>8049</td>\n",
       "      <td>19512</td>\n",
       "      <td>12301</td>\n",
       "      <td>64710</td>\n",
       "      <td>6818</td>\n",
       "    </tr>\n",
       "    <tr>\n",
       "      <th>2018-02</th>\n",
       "      <td>920</td>\n",
       "      <td>441</td>\n",
       "      <td>90093</td>\n",
       "      <td>63904084.0</td>\n",
       "      <td>38238</td>\n",
       "      <td>6166</td>\n",
       "      <td>23249</td>\n",
       "      <td>22440</td>\n",
       "      <td>79099</td>\n",
       "      <td>10994</td>\n",
       "    </tr>\n",
       "  </tbody>\n",
       "</table>\n",
       "</div>"
      ],
      "text/plain": [
       "                    client-ip-unique-count  cs-username-unique-count  \\\n",
       "calendar-year-week                                                     \n",
       "2017-50                                925                       415   \n",
       "2017-51                                866                       386   \n",
       "2017-52                                475                       179   \n",
       "2018-01                                769                       354   \n",
       "2018-02                                920                       441   \n",
       "\n",
       "                    client-connections-count  time-taken(ms)-sum  \\\n",
       "calendar-year-week                                                 \n",
       "2017-50                                89497          52520170.0   \n",
       "2017-51                                81378          44703569.0   \n",
       "2017-52                                30843          14199684.0   \n",
       "2018-01                                71528          42663674.0   \n",
       "2018-02                                90093          63904084.0   \n",
       "\n",
       "                    Chrome-count  Firefox-count  Other-count  Safari-count  \\\n",
       "calendar-year-week                                                           \n",
       "2017-50                    38500           7784        27741         15472   \n",
       "2017-51                    39664           6585        21274         13855   \n",
       "2017-52                     9978            553        14279          6033   \n",
       "2018-01                    31666           8049        19512         12301   \n",
       "2018-02                    38238           6166        23249         22440   \n",
       "\n",
       "                    Desktop-count  Mobile-count  \n",
       "calendar-year-week                               \n",
       "2017-50                     80440          9057  \n",
       "2017-51                     72925          8453  \n",
       "2017-52                     27735          3108  \n",
       "2018-01                     64710          6818  \n",
       "2018-02                     79099         10994  "
      ]
     },
     "execution_count": 5,
     "metadata": {},
     "output_type": "execute_result"
    }
   ],
   "source": [
    "log_aggregated_per_week_df.head()"
   ]
  },
  {
   "cell_type": "code",
   "execution_count": 6,
   "metadata": {},
   "outputs": [],
   "source": [
    "placement_summary_df = pd.read_csv('../data/PlacementSummary.csv')\n",
    "placement_summary_df.set_index('YearWeek',inplace=True)"
   ]
  },
  {
   "cell_type": "code",
   "execution_count": 7,
   "metadata": {},
   "outputs": [
    {
     "data": {
      "text/html": [
       "<div>\n",
       "<style scoped>\n",
       "    .dataframe tbody tr th:only-of-type {\n",
       "        vertical-align: middle;\n",
       "    }\n",
       "\n",
       "    .dataframe tbody tr th {\n",
       "        vertical-align: top;\n",
       "    }\n",
       "\n",
       "    .dataframe thead th {\n",
       "        text-align: right;\n",
       "    }\n",
       "</style>\n",
       "<table border=\"1\" class=\"dataframe\">\n",
       "  <thead>\n",
       "    <tr style=\"text-align: right;\">\n",
       "      <th></th>\n",
       "      <th>PlacementCount</th>\n",
       "      <th>PlacementCompletedCount</th>\n",
       "      <th>PlacementAllocatedInProgressCount</th>\n",
       "      <th>PlacementAllocatedCount</th>\n",
       "      <th>PlacementNotAllocatedCount</th>\n",
       "    </tr>\n",
       "    <tr>\n",
       "      <th>YearWeek</th>\n",
       "      <th></th>\n",
       "      <th></th>\n",
       "      <th></th>\n",
       "      <th></th>\n",
       "      <th></th>\n",
       "    </tr>\n",
       "  </thead>\n",
       "  <tbody>\n",
       "    <tr>\n",
       "      <th>2017-50</th>\n",
       "      <td>246</td>\n",
       "      <td>48</td>\n",
       "      <td>234</td>\n",
       "      <td>238</td>\n",
       "      <td>8</td>\n",
       "    </tr>\n",
       "    <tr>\n",
       "      <th>2017-51</th>\n",
       "      <td>198</td>\n",
       "      <td>77</td>\n",
       "      <td>196</td>\n",
       "      <td>197</td>\n",
       "      <td>1</td>\n",
       "    </tr>\n",
       "    <tr>\n",
       "      <th>2017-52</th>\n",
       "      <td>116</td>\n",
       "      <td>3</td>\n",
       "      <td>115</td>\n",
       "      <td>116</td>\n",
       "      <td>0</td>\n",
       "    </tr>\n",
       "    <tr>\n",
       "      <th>2017-53</th>\n",
       "      <td>113</td>\n",
       "      <td>17</td>\n",
       "      <td>96</td>\n",
       "      <td>113</td>\n",
       "      <td>0</td>\n",
       "    </tr>\n",
       "    <tr>\n",
       "      <th>2018-01</th>\n",
       "      <td>113</td>\n",
       "      <td>4</td>\n",
       "      <td>111</td>\n",
       "      <td>113</td>\n",
       "      <td>0</td>\n",
       "    </tr>\n",
       "  </tbody>\n",
       "</table>\n",
       "</div>"
      ],
      "text/plain": [
       "          PlacementCount  PlacementCompletedCount  \\\n",
       "YearWeek                                            \n",
       "2017-50              246                       48   \n",
       "2017-51              198                       77   \n",
       "2017-52              116                        3   \n",
       "2017-53              113                       17   \n",
       "2018-01              113                        4   \n",
       "\n",
       "          PlacementAllocatedInProgressCount  PlacementAllocatedCount  \\\n",
       "YearWeek                                                               \n",
       "2017-50                                 234                      238   \n",
       "2017-51                                 196                      197   \n",
       "2017-52                                 115                      116   \n",
       "2017-53                                  96                      113   \n",
       "2018-01                                 111                      113   \n",
       "\n",
       "          PlacementNotAllocatedCount  \n",
       "YearWeek                              \n",
       "2017-50                            8  \n",
       "2017-51                            1  \n",
       "2017-52                            0  \n",
       "2017-53                            0  \n",
       "2018-01                            0  "
      ]
     },
     "execution_count": 7,
     "metadata": {},
     "output_type": "execute_result"
    }
   ],
   "source": [
    "placement_summary_df.head()"
   ]
  },
  {
   "cell_type": "markdown",
   "metadata": {},
   "source": [
    "##### JOIN Log data with Placement data"
   ]
  },
  {
   "cell_type": "code",
   "execution_count": 8,
   "metadata": {},
   "outputs": [
    {
     "data": {
      "text/html": [
       "<div>\n",
       "<style scoped>\n",
       "    .dataframe tbody tr th:only-of-type {\n",
       "        vertical-align: middle;\n",
       "    }\n",
       "\n",
       "    .dataframe tbody tr th {\n",
       "        vertical-align: top;\n",
       "    }\n",
       "\n",
       "    .dataframe thead th {\n",
       "        text-align: right;\n",
       "    }\n",
       "</style>\n",
       "<table border=\"1\" class=\"dataframe\">\n",
       "  <thead>\n",
       "    <tr style=\"text-align: right;\">\n",
       "      <th></th>\n",
       "      <th>client-ip-unique-count</th>\n",
       "      <th>cs-username-unique-count</th>\n",
       "      <th>client-connections-count</th>\n",
       "      <th>time-taken(ms)-sum</th>\n",
       "      <th>Chrome-count</th>\n",
       "      <th>Firefox-count</th>\n",
       "      <th>Other-count</th>\n",
       "      <th>Safari-count</th>\n",
       "      <th>Desktop-count</th>\n",
       "      <th>Mobile-count</th>\n",
       "      <th>PlacementCount</th>\n",
       "      <th>PlacementCompletedCount</th>\n",
       "      <th>PlacementAllocatedInProgressCount</th>\n",
       "      <th>PlacementAllocatedCount</th>\n",
       "      <th>PlacementNotAllocatedCount</th>\n",
       "    </tr>\n",
       "    <tr>\n",
       "      <th>calendar-year-week</th>\n",
       "      <th></th>\n",
       "      <th></th>\n",
       "      <th></th>\n",
       "      <th></th>\n",
       "      <th></th>\n",
       "      <th></th>\n",
       "      <th></th>\n",
       "      <th></th>\n",
       "      <th></th>\n",
       "      <th></th>\n",
       "      <th></th>\n",
       "      <th></th>\n",
       "      <th></th>\n",
       "      <th></th>\n",
       "      <th></th>\n",
       "    </tr>\n",
       "  </thead>\n",
       "  <tbody>\n",
       "    <tr>\n",
       "      <th>2017-50</th>\n",
       "      <td>925</td>\n",
       "      <td>415</td>\n",
       "      <td>89497</td>\n",
       "      <td>52520170.0</td>\n",
       "      <td>38500</td>\n",
       "      <td>7784</td>\n",
       "      <td>27741</td>\n",
       "      <td>15472</td>\n",
       "      <td>80440</td>\n",
       "      <td>9057</td>\n",
       "      <td>246</td>\n",
       "      <td>48</td>\n",
       "      <td>234</td>\n",
       "      <td>238</td>\n",
       "      <td>8</td>\n",
       "    </tr>\n",
       "    <tr>\n",
       "      <th>2017-51</th>\n",
       "      <td>866</td>\n",
       "      <td>386</td>\n",
       "      <td>81378</td>\n",
       "      <td>44703569.0</td>\n",
       "      <td>39664</td>\n",
       "      <td>6585</td>\n",
       "      <td>21274</td>\n",
       "      <td>13855</td>\n",
       "      <td>72925</td>\n",
       "      <td>8453</td>\n",
       "      <td>198</td>\n",
       "      <td>77</td>\n",
       "      <td>196</td>\n",
       "      <td>197</td>\n",
       "      <td>1</td>\n",
       "    </tr>\n",
       "    <tr>\n",
       "      <th>2017-52</th>\n",
       "      <td>475</td>\n",
       "      <td>179</td>\n",
       "      <td>30843</td>\n",
       "      <td>14199684.0</td>\n",
       "      <td>9978</td>\n",
       "      <td>553</td>\n",
       "      <td>14279</td>\n",
       "      <td>6033</td>\n",
       "      <td>27735</td>\n",
       "      <td>3108</td>\n",
       "      <td>116</td>\n",
       "      <td>3</td>\n",
       "      <td>115</td>\n",
       "      <td>116</td>\n",
       "      <td>0</td>\n",
       "    </tr>\n",
       "    <tr>\n",
       "      <th>2018-01</th>\n",
       "      <td>769</td>\n",
       "      <td>354</td>\n",
       "      <td>71528</td>\n",
       "      <td>42663674.0</td>\n",
       "      <td>31666</td>\n",
       "      <td>8049</td>\n",
       "      <td>19512</td>\n",
       "      <td>12301</td>\n",
       "      <td>64710</td>\n",
       "      <td>6818</td>\n",
       "      <td>113</td>\n",
       "      <td>4</td>\n",
       "      <td>111</td>\n",
       "      <td>113</td>\n",
       "      <td>0</td>\n",
       "    </tr>\n",
       "    <tr>\n",
       "      <th>2018-02</th>\n",
       "      <td>920</td>\n",
       "      <td>441</td>\n",
       "      <td>90093</td>\n",
       "      <td>63904084.0</td>\n",
       "      <td>38238</td>\n",
       "      <td>6166</td>\n",
       "      <td>23249</td>\n",
       "      <td>22440</td>\n",
       "      <td>79099</td>\n",
       "      <td>10994</td>\n",
       "      <td>159</td>\n",
       "      <td>7</td>\n",
       "      <td>159</td>\n",
       "      <td>159</td>\n",
       "      <td>0</td>\n",
       "    </tr>\n",
       "  </tbody>\n",
       "</table>\n",
       "</div>"
      ],
      "text/plain": [
       "                    client-ip-unique-count  cs-username-unique-count  \\\n",
       "calendar-year-week                                                     \n",
       "2017-50                                925                       415   \n",
       "2017-51                                866                       386   \n",
       "2017-52                                475                       179   \n",
       "2018-01                                769                       354   \n",
       "2018-02                                920                       441   \n",
       "\n",
       "                    client-connections-count  time-taken(ms)-sum  \\\n",
       "calendar-year-week                                                 \n",
       "2017-50                                89497          52520170.0   \n",
       "2017-51                                81378          44703569.0   \n",
       "2017-52                                30843          14199684.0   \n",
       "2018-01                                71528          42663674.0   \n",
       "2018-02                                90093          63904084.0   \n",
       "\n",
       "                    Chrome-count  Firefox-count  Other-count  Safari-count  \\\n",
       "calendar-year-week                                                           \n",
       "2017-50                    38500           7784        27741         15472   \n",
       "2017-51                    39664           6585        21274         13855   \n",
       "2017-52                     9978            553        14279          6033   \n",
       "2018-01                    31666           8049        19512         12301   \n",
       "2018-02                    38238           6166        23249         22440   \n",
       "\n",
       "                    Desktop-count  Mobile-count  PlacementCount  \\\n",
       "calendar-year-week                                                \n",
       "2017-50                     80440          9057             246   \n",
       "2017-51                     72925          8453             198   \n",
       "2017-52                     27735          3108             116   \n",
       "2018-01                     64710          6818             113   \n",
       "2018-02                     79099         10994             159   \n",
       "\n",
       "                    PlacementCompletedCount  \\\n",
       "calendar-year-week                            \n",
       "2017-50                                  48   \n",
       "2017-51                                  77   \n",
       "2017-52                                   3   \n",
       "2018-01                                   4   \n",
       "2018-02                                   7   \n",
       "\n",
       "                    PlacementAllocatedInProgressCount  \\\n",
       "calendar-year-week                                      \n",
       "2017-50                                           234   \n",
       "2017-51                                           196   \n",
       "2017-52                                           115   \n",
       "2018-01                                           111   \n",
       "2018-02                                           159   \n",
       "\n",
       "                    PlacementAllocatedCount  PlacementNotAllocatedCount  \n",
       "calendar-year-week                                                       \n",
       "2017-50                                 238                           8  \n",
       "2017-51                                 197                           1  \n",
       "2017-52                                 116                           0  \n",
       "2018-01                                 113                           0  \n",
       "2018-02                                 159                           0  "
      ]
     },
     "execution_count": 8,
     "metadata": {},
     "output_type": "execute_result"
    }
   ],
   "source": [
    "log_and_placements_aggregated_per_week_df = log_aggregated_per_week_df.join(placement_summary_df)\n",
    "log_and_placements_aggregated_per_week_df.head()"
   ]
  },
  {
   "cell_type": "code",
   "execution_count": 9,
   "metadata": {},
   "outputs": [
    {
     "data": {
      "text/plain": [
       "client-ip-unique-count               0\n",
       "cs-username-unique-count             0\n",
       "client-connections-count             0\n",
       "time-taken(ms)-sum                   0\n",
       "Chrome-count                         0\n",
       "Firefox-count                        0\n",
       "Other-count                          0\n",
       "Safari-count                         0\n",
       "Desktop-count                        0\n",
       "Mobile-count                         0\n",
       "PlacementCount                       0\n",
       "PlacementCompletedCount              0\n",
       "PlacementAllocatedInProgressCount    0\n",
       "PlacementAllocatedCount              0\n",
       "PlacementNotAllocatedCount           0\n",
       "dtype: int64"
      ]
     },
     "execution_count": 9,
     "metadata": {},
     "output_type": "execute_result"
    }
   ],
   "source": [
    "log_and_placements_aggregated_per_week_df.isna().sum()"
   ]
  },
  {
   "cell_type": "code",
   "execution_count": 10,
   "metadata": {},
   "outputs": [
    {
     "name": "stdout",
     "output_type": "stream",
     "text": [
      "<class 'pandas.core.frame.DataFrame'>\n",
      "Index: 43 entries, 2017-50 to 2018-40\n",
      "Data columns (total 15 columns):\n",
      "client-ip-unique-count               43 non-null int64\n",
      "cs-username-unique-count             43 non-null int64\n",
      "client-connections-count             43 non-null int64\n",
      "time-taken(ms)-sum                   43 non-null float64\n",
      "Chrome-count                         43 non-null int64\n",
      "Firefox-count                        43 non-null int64\n",
      "Other-count                          43 non-null int64\n",
      "Safari-count                         43 non-null int64\n",
      "Desktop-count                        43 non-null int64\n",
      "Mobile-count                         43 non-null int64\n",
      "PlacementCount                       43 non-null int64\n",
      "PlacementCompletedCount              43 non-null int64\n",
      "PlacementAllocatedInProgressCount    43 non-null int64\n",
      "PlacementAllocatedCount              43 non-null int64\n",
      "PlacementNotAllocatedCount           43 non-null int64\n",
      "dtypes: float64(1), int64(14)\n",
      "memory usage: 6.6+ KB\n"
     ]
    }
   ],
   "source": [
    "log_and_placements_aggregated_per_week_df.info()"
   ]
  },
  {
   "cell_type": "code",
   "execution_count": 11,
   "metadata": {},
   "outputs": [
    {
     "name": "stdout",
     "output_type": "stream",
     "text": [
      "Current size: [22, 7]\n"
     ]
    },
    {
     "data": {
      "text/plain": [
       "<matplotlib.legend.Legend at 0x2645d3c9588>"
      ]
     },
     "execution_count": 11,
     "metadata": {},
     "output_type": "execute_result"
    },
    {
     "data": {
      "image/png": "[encoded data removed]",
      "text/plain": [
       "<Figure size 1584x504 with 1 Axes>"
      ]
     },
     "metadata": {},
     "output_type": "display_data"
    }
   ],
   "source": [
    "fig_size= plt.rcParams[\"figure.figsize\"]\n",
    "\n",
    "# Set figure width to 12 and height to 9\n",
    "fig_size[0] = 22\n",
    "fig_size[1] = 7\n",
    "plt.rcParams[\"figure.figsize\"] = fig_size\n",
    "\n",
    "print (\"Current size:\",fig_size)\n",
    "\n",
    "plt.plot(log_and_placements_aggregated_per_week_df.index,log_and_placements_aggregated_per_week_df['client-ip-unique-count'],label=\"Unique IP\")\n",
    "plt.plot(log_and_placements_aggregated_per_week_df.index,log_and_placements_aggregated_per_week_df['PlacementAllocatedInProgressCount'],label=\"Placement in progress\")\n",
    "plt.plot(log_and_placements_aggregated_per_week_df.index,log_and_placements_aggregated_per_week_df['cs-username-unique-count'],label=\"Unique User\")\n",
    "plt.legend()"
   ]
  },
  {
   "cell_type": "markdown",
   "metadata": {},
   "source": [
    "The above plot shows what we could also see in the pairplot, the correlation between Unique IP count and Unique User Count, as it was expected"
   ]
  },
  {
   "cell_type": "code",
   "execution_count": 12,
   "metadata": {},
   "outputs": [
    {
     "data": {
      "text/plain": [
       "Index(['client-ip-unique-count', 'cs-username-unique-count',\n",
       "       'client-connections-count', 'time-taken(ms)-sum', 'Chrome-count',\n",
       "       'Firefox-count', 'Other-count', 'Safari-count', 'Desktop-count',\n",
       "       'Mobile-count', 'PlacementCount', 'PlacementCompletedCount',\n",
       "       'PlacementAllocatedInProgressCount', 'PlacementAllocatedCount',\n",
       "       'PlacementNotAllocatedCount'],\n",
       "      dtype='object')"
      ]
     },
     "execution_count": 12,
     "metadata": {},
     "output_type": "execute_result"
    }
   ],
   "source": [
    "log_and_placements_aggregated_per_week_df.columns"
   ]
  },
  {
   "cell_type": "code",
   "execution_count": 13,
   "metadata": {},
   "outputs": [
    {
     "data": {
      "text/plain": [
       "<seaborn.axisgrid.PairGrid at 0x2645d7a6978>"
      ]
     },
     "execution_count": 13,
     "metadata": {},
     "output_type": "execute_result"
    },
    {
     "data": {
      "image/png": "[encoded data removed]",
      "text/plain": [
       "<Figure size 900x900 with 30 Axes>"
      ]
     },
     "metadata": {},
     "output_type": "display_data"
    }
   ],
   "source": [
    "sns.pairplot(data=log_and_placements_aggregated_per_week_df\n",
    "             ,vars=['client-ip-unique-count','cs-username-unique-count',\n",
    "                    'PlacementCount', 'PlacementCompletedCount',\n",
    "                    'PlacementAllocatedInProgressCount'])"
   ]
  },
  {
   "cell_type": "markdown",
   "metadata": {},
   "source": [
    "#### Autocorrelation"
   ]
  },
  {
   "cell_type": "code",
   "execution_count": 17,
   "metadata": {},
   "outputs": [
    {
     "data": {
      "text/html": [
       "<div>\n",
       "<style scoped>\n",
       "    .dataframe tbody tr th:only-of-type {\n",
       "        vertical-align: middle;\n",
       "    }\n",
       "\n",
       "    .dataframe tbody tr th {\n",
       "        vertical-align: top;\n",
       "    }\n",
       "\n",
       "    .dataframe thead th {\n",
       "        text-align: right;\n",
       "    }\n",
       "</style>\n",
       "<table border=\"1\" class=\"dataframe\">\n",
       "  <thead>\n",
       "    <tr style=\"text-align: right;\">\n",
       "      <th></th>\n",
       "      <th>calendar-year-week</th>\n",
       "      <th>client-ip-unique-count</th>\n",
       "      <th>cs-username-unique-count</th>\n",
       "      <th>client-connections-count</th>\n",
       "      <th>time-taken(ms)-sum</th>\n",
       "      <th>Chrome-count</th>\n",
       "      <th>Firefox-count</th>\n",
       "      <th>Other-count</th>\n",
       "      <th>Safari-count</th>\n",
       "      <th>Desktop-count</th>\n",
       "      <th>Mobile-count</th>\n",
       "      <th>PlacementCount</th>\n",
       "      <th>PlacementCompletedCount</th>\n",
       "      <th>PlacementAllocatedInProgressCount</th>\n",
       "      <th>PlacementAllocatedCount</th>\n",
       "      <th>PlacementNotAllocatedCount</th>\n",
       "    </tr>\n",
       "  </thead>\n",
       "  <tbody>\n",
       "    <tr>\n",
       "      <th>0</th>\n",
       "      <td>2017-50</td>\n",
       "      <td>925</td>\n",
       "      <td>415</td>\n",
       "      <td>89497</td>\n",
       "      <td>52520170.0</td>\n",
       "      <td>38500</td>\n",
       "      <td>7784</td>\n",
       "      <td>27741</td>\n",
       "      <td>15472</td>\n",
       "      <td>80440</td>\n",
       "      <td>9057</td>\n",
       "      <td>246</td>\n",
       "      <td>48</td>\n",
       "      <td>234</td>\n",
       "      <td>238</td>\n",
       "      <td>8</td>\n",
       "    </tr>\n",
       "    <tr>\n",
       "      <th>1</th>\n",
       "      <td>2017-51</td>\n",
       "      <td>866</td>\n",
       "      <td>386</td>\n",
       "      <td>81378</td>\n",
       "      <td>44703569.0</td>\n",
       "      <td>39664</td>\n",
       "      <td>6585</td>\n",
       "      <td>21274</td>\n",
       "      <td>13855</td>\n",
       "      <td>72925</td>\n",
       "      <td>8453</td>\n",
       "      <td>198</td>\n",
       "      <td>77</td>\n",
       "      <td>196</td>\n",
       "      <td>197</td>\n",
       "      <td>1</td>\n",
       "    </tr>\n",
       "    <tr>\n",
       "      <th>2</th>\n",
       "      <td>2017-52</td>\n",
       "      <td>475</td>\n",
       "      <td>179</td>\n",
       "      <td>30843</td>\n",
       "      <td>14199684.0</td>\n",
       "      <td>9978</td>\n",
       "      <td>553</td>\n",
       "      <td>14279</td>\n",
       "      <td>6033</td>\n",
       "      <td>27735</td>\n",
       "      <td>3108</td>\n",
       "      <td>116</td>\n",
       "      <td>3</td>\n",
       "      <td>115</td>\n",
       "      <td>116</td>\n",
       "      <td>0</td>\n",
       "    </tr>\n",
       "    <tr>\n",
       "      <th>3</th>\n",
       "      <td>2018-01</td>\n",
       "      <td>769</td>\n",
       "      <td>354</td>\n",
       "      <td>71528</td>\n",
       "      <td>42663674.0</td>\n",
       "      <td>31666</td>\n",
       "      <td>8049</td>\n",
       "      <td>19512</td>\n",
       "      <td>12301</td>\n",
       "      <td>64710</td>\n",
       "      <td>6818</td>\n",
       "      <td>113</td>\n",
       "      <td>4</td>\n",
       "      <td>111</td>\n",
       "      <td>113</td>\n",
       "      <td>0</td>\n",
       "    </tr>\n",
       "    <tr>\n",
       "      <th>4</th>\n",
       "      <td>2018-02</td>\n",
       "      <td>920</td>\n",
       "      <td>441</td>\n",
       "      <td>90093</td>\n",
       "      <td>63904084.0</td>\n",
       "      <td>38238</td>\n",
       "      <td>6166</td>\n",
       "      <td>23249</td>\n",
       "      <td>22440</td>\n",
       "      <td>79099</td>\n",
       "      <td>10994</td>\n",
       "      <td>159</td>\n",
       "      <td>7</td>\n",
       "      <td>159</td>\n",
       "      <td>159</td>\n",
       "      <td>0</td>\n",
       "    </tr>\n",
       "  </tbody>\n",
       "</table>\n",
       "</div>"
      ],
      "text/plain": [
       "  calendar-year-week  client-ip-unique-count  cs-username-unique-count  \\\n",
       "0            2017-50                     925                       415   \n",
       "1            2017-51                     866                       386   \n",
       "2            2017-52                     475                       179   \n",
       "3            2018-01                     769                       354   \n",
       "4            2018-02                     920                       441   \n",
       "\n",
       "   client-connections-count  time-taken(ms)-sum  Chrome-count  Firefox-count  \\\n",
       "0                     89497          52520170.0         38500           7784   \n",
       "1                     81378          44703569.0         39664           6585   \n",
       "2                     30843          14199684.0          9978            553   \n",
       "3                     71528          42663674.0         31666           8049   \n",
       "4                     90093          63904084.0         38238           6166   \n",
       "\n",
       "   Other-count  Safari-count  Desktop-count  Mobile-count  PlacementCount  \\\n",
       "0        27741         15472          80440          9057             246   \n",
       "1        21274         13855          72925          8453             198   \n",
       "2        14279          6033          27735          3108             116   \n",
       "3        19512         12301          64710          6818             113   \n",
       "4        23249         22440          79099         10994             159   \n",
       "\n",
       "   PlacementCompletedCount  PlacementAllocatedInProgressCount  \\\n",
       "0                       48                                234   \n",
       "1                       77                                196   \n",
       "2                        3                                115   \n",
       "3                        4                                111   \n",
       "4                        7                                159   \n",
       "\n",
       "   PlacementAllocatedCount  PlacementNotAllocatedCount  \n",
       "0                      238                           8  \n",
       "1                      197                           1  \n",
       "2                      116                           0  \n",
       "3                      113                           0  \n",
       "4                      159                           0  "
      ]
     },
     "execution_count": 17,
     "metadata": {},
     "output_type": "execute_result"
    }
   ],
   "source": [
    "log_and_placements_aggregated_per_week_df.reset_index(inplace=True)\n",
    "log_and_placements_aggregated_per_week_df.head()"
   ]
  },
  {
   "cell_type": "code",
   "execution_count": 18,
   "metadata": {},
   "outputs": [],
   "source": [
    "df_train = log_and_placements_aggregated_per_week_df.loc[:39,['client-ip-unique-count']]\n",
    "df_test= log_and_placements_aggregated_per_week_df.loc[40:,['client-ip-unique-count']]"
   ]
  },
  {
   "cell_type": "code",
   "execution_count": 19,
   "metadata": {},
   "outputs": [
    {
     "data": {
      "image/png": "[encoded data removed]",
      "text/plain": [
       "<Figure size 1584x504 with 1 Axes>"
      ]
     },
     "execution_count": 19,
     "metadata": {},
     "output_type": "execute_result"
    },
    {
     "data": {
      "image/png": "[encoded data removed]",
      "text/plain": [
       "<Figure size 1584x504 with 1 Axes>"
      ]
     },
     "metadata": {},
     "output_type": "display_data"
    }
   ],
   "source": [
    "plot_acf(df_train,lags=30)"
   ]
  },
  {
   "cell_type": "code",
   "execution_count": 20,
   "metadata": {},
   "outputs": [
    {
     "data": {
      "text/html": [
       "<div>\n",
       "<style scoped>\n",
       "    .dataframe tbody tr th:only-of-type {\n",
       "        vertical-align: middle;\n",
       "    }\n",
       "\n",
       "    .dataframe tbody tr th {\n",
       "        vertical-align: top;\n",
       "    }\n",
       "\n",
       "    .dataframe thead th {\n",
       "        text-align: right;\n",
       "    }\n",
       "</style>\n",
       "<table border=\"1\" class=\"dataframe\">\n",
       "  <thead>\n",
       "    <tr style=\"text-align: right;\">\n",
       "      <th></th>\n",
       "      <th>client-ip-unique-count</th>\n",
       "    </tr>\n",
       "  </thead>\n",
       "  <tbody>\n",
       "    <tr>\n",
       "      <th>40</th>\n",
       "      <td>1062</td>\n",
       "    </tr>\n",
       "    <tr>\n",
       "      <th>41</th>\n",
       "      <td>879</td>\n",
       "    </tr>\n",
       "    <tr>\n",
       "      <th>42</th>\n",
       "      <td>1037</td>\n",
       "    </tr>\n",
       "  </tbody>\n",
       "</table>\n",
       "</div>"
      ],
      "text/plain": [
       "    client-ip-unique-count\n",
       "40                    1062\n",
       "41                     879\n",
       "42                    1037"
      ]
     },
     "execution_count": 20,
     "metadata": {},
     "output_type": "execute_result"
    }
   ],
   "source": [
    "df_test.tail()\n"
   ]
  },
  {
   "cell_type": "code",
   "execution_count": 21,
   "metadata": {},
   "outputs": [
    {
     "data": {
      "text/plain": [
       "40    1296.814730\n",
       "41    1309.370824\n",
       "42    1320.012632\n",
       "dtype: float64"
      ]
     },
     "execution_count": 21,
     "metadata": {},
     "output_type": "execute_result"
    }
   ],
   "source": [
    "model = sm.tsa.ARIMA(df_train,(1,0,0)).fit()\n",
    "\n",
    "predictions = model.predict(40,42,dynamic=True)\n",
    "\n",
    "predictions"
   ]
  },
  {
   "cell_type": "code",
   "execution_count": 22,
   "metadata": {},
   "outputs": [
    {
     "name": "stdout",
     "output_type": "stream",
     "text": [
      "Mean absolute error:  316.0660620981716\n"
     ]
    },
    {
     "data": {
      "text/html": [
       "<table class=\"simpletable\">\n",
       "<caption>ARMA Model Results</caption>\n",
       "<tr>\n",
       "  <th>Dep. Variable:</th> <td>client-ip-unique-count</td> <th>  No. Observations:  </th>    <td>40</td>   \n",
       "</tr>\n",
       "<tr>\n",
       "  <th>Model:</th>               <td>ARMA(1, 0)</td>       <th>  Log Likelihood     </th> <td>-285.609</td>\n",
       "</tr>\n",
       "<tr>\n",
       "  <th>Method:</th>                <td>css-mle</td>        <th>  S.D. of innovations</th>  <td>300.499</td>\n",
       "</tr>\n",
       "<tr>\n",
       "  <th>Date:</th>             <td>Mon, 12 Nov 2018</td>    <th>  AIC                </th>  <td>577.218</td>\n",
       "</tr>\n",
       "<tr>\n",
       "  <th>Time:</th>                 <td>21:21:23</td>        <th>  BIC                </th>  <td>582.284</td>\n",
       "</tr>\n",
       "<tr>\n",
       "  <th>Sample:</th>                   <td>0</td>           <th>  HQIC               </th>  <td>579.050</td>\n",
       "</tr>\n",
       "<tr>\n",
       "  <th></th>                          <td> </td>           <th>                     </th>     <td> </td>   \n",
       "</tr>\n",
       "</table>\n",
       "<table class=\"simpletable\">\n",
       "<tr>\n",
       "                <td></td>                  <th>coef</th>     <th>std err</th>      <th>z</th>      <th>P>|z|</th>  <th>[0.025</th>    <th>0.975]</th>  \n",
       "</tr>\n",
       "<tr>\n",
       "  <th>const</th>                        <td> 1379.1720</td> <td>  278.000</td> <td>    4.961</td> <td> 0.000</td> <td>  834.303</td> <td> 1924.041</td>\n",
       "</tr>\n",
       "<tr>\n",
       "  <th>ar.L1.client-ip-unique-count</th> <td>    0.8475</td> <td>    0.077</td> <td>   11.049</td> <td> 0.000</td> <td>    0.697</td> <td>    0.998</td>\n",
       "</tr>\n",
       "</table>\n",
       "<table class=\"simpletable\">\n",
       "<caption>Roots</caption>\n",
       "<tr>\n",
       "    <td></td>   <th>            Real</th>  <th>         Imaginary</th> <th>         Modulus</th>  <th>        Frequency</th>\n",
       "</tr>\n",
       "<tr>\n",
       "  <th>AR.1</th> <td>           1.1799</td> <td>          +0.0000j</td> <td>           1.1799</td> <td>           0.0000</td>\n",
       "</tr>\n",
       "</table>"
      ],
      "text/plain": [
       "<class 'statsmodels.iolib.summary.Summary'>\n",
       "\"\"\"\n",
       "                                ARMA Model Results                                \n",
       "==================================================================================\n",
       "Dep. Variable:     client-ip-unique-count   No. Observations:                   40\n",
       "Model:                         ARMA(1, 0)   Log Likelihood                -285.609\n",
       "Method:                           css-mle   S.D. of innovations            300.499\n",
       "Date:                    Mon, 12 Nov 2018   AIC                            577.218\n",
       "Time:                            21:21:23   BIC                            582.284\n",
       "Sample:                                 0   HQIC                           579.050\n",
       "                                                                                  \n",
       "================================================================================================\n",
       "                                   coef    std err          z      P>|z|      [0.025      0.975]\n",
       "------------------------------------------------------------------------------------------------\n",
       "const                         1379.1720    278.000      4.961      0.000     834.303    1924.041\n",
       "ar.L1.client-ip-unique-count     0.8475      0.077     11.049      0.000       0.697       0.998\n",
       "                                    Roots                                    \n",
       "=============================================================================\n",
       "                  Real          Imaginary           Modulus         Frequency\n",
       "-----------------------------------------------------------------------------\n",
       "AR.1            1.1799           +0.0000j            1.1799            0.0000\n",
       "-----------------------------------------------------------------------------\n",
       "\"\"\""
      ]
     },
     "execution_count": 22,
     "metadata": {},
     "output_type": "execute_result"
    }
   ],
   "source": [
    "print(\"Mean absolute error: \", mean_absolute_error(df_test, predictions))\n",
    "model.summary()"
   ]
  },
  {
   "cell_type": "code",
   "execution_count": null,
   "metadata": {},
   "outputs": [],
   "source": []
  }
 ],
 "metadata": {
  "kernelspec": {
   "display_name": "Python 3",
   "language": "python",
   "name": "python3"
  },
  "language_info": {
   "codemirror_mode": {
    "name": "ipython",
    "version": 3
   },
   "file_extension": ".py",
   "mimetype": "text/x-python",
   "name": "python",
   "nbconvert_exporter": "python",
   "pygments_lexer": "ipython3",
   "version": "3.6.5"
  }
 },
 "nbformat": 4,
 "nbformat_minor": 2
}
