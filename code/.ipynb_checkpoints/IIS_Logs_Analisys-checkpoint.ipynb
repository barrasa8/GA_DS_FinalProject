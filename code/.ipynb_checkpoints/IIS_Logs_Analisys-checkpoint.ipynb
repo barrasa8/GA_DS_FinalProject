{
 "cells": [
  {
   "cell_type": "code",
   "execution_count": 1,
   "metadata": {},
   "outputs": [],
   "source": [
    "import pandas as pd\n",
    "import statsmodels.api as sm\n",
    "import numpy as np\n",
    "import seaborn as sns\n",
    "import matplotlib.pyplot as plt\n",
    "import geoip2.database\n",
    "import myLogReader as mlr\n",
    "import re\n",
    "import os\n",
    "import sys\n",
    "import datetime as dt\n",
    "\n",
    "%matplotlib inline"
   ]
  },
  {
   "cell_type": "markdown",
   "metadata": {},
   "source": [
    "## Automate - Read and Prep log data into DF"
   ]
  },
  {
   "cell_type": "code",
   "execution_count": 2,
   "metadata": {},
   "outputs": [],
   "source": [
    "logsPath = '../data/logs'\n",
    "geoLiteIPDBPath = '../data/GeoLite2-City_20181009/GeoLite2-City.mmdb'\n",
    "\n",
    "#Create a myLogReader object\n",
    "myLogReader = mlr.log()\n",
    "#Open Reader\n",
    "myLogReader.openReader(geoLiteIPDBPath)"
   ]
  },
  {
   "cell_type": "code",
   "execution_count": 3,
   "metadata": {},
   "outputs": [
    {
     "name": "stdout",
     "output_type": "stream",
     "text": [
      "../data/logs\\u_ex171211.log\n",
      "../data/logs\\u_ex171212.log\n",
      "../data/logs\\u_ex171213.log\n",
      "../data/logs\\u_ex171214.log\n",
      "../data/logs\\u_ex171215.log\n",
      "../data/logs\\u_ex171216.log\n",
      "../data/logs\\u_ex171217.log\n",
      "../data/logs\\u_ex171218.log\n",
      "../data/logs\\u_ex171219.log\n",
      "../data/logs\\u_ex171220.log\n",
      "../data/logs\\u_ex171221.log\n",
      "../data/logs\\u_ex171222.log\n",
      "../data/logs\\u_ex171223.log\n",
      "../data/logs\\u_ex171224.log\n",
      "../data/logs\\u_ex171225.log\n",
      "../data/logs\\u_ex171226.log\n",
      "../data/logs\\u_ex171227.log\n",
      "../data/logs\\u_ex171228.log\n",
      "../data/logs\\u_ex171229.log\n",
      "../data/logs\\u_ex171230.log\n",
      "../data/logs\\u_ex171231.log\n",
      "../data/logs\\u_ex180101.log\n",
      "../data/logs\\u_ex180102.log\n",
      "../data/logs\\u_ex180103.log\n",
      "../data/logs\\u_ex180104.log\n",
      "../data/logs\\u_ex180105.log\n",
      "../data/logs\\u_ex180106.log\n",
      "../data/logs\\u_ex180107.log\n",
      "../data/logs\\u_ex180108.log\n",
      "../data/logs\\u_ex180109.log\n",
      "../data/logs\\u_ex180110.log\n",
      "../data/logs\\u_ex180111.log\n",
      "../data/logs\\u_ex180112.log\n",
      "../data/logs\\u_ex180113.log\n",
      "../data/logs\\u_ex180114.log\n",
      "../data/logs\\u_ex180115.log\n",
      "../data/logs\\u_ex180116.log\n",
      "../data/logs\\u_ex180117.log\n",
      "../data/logs\\u_ex180118.log\n",
      "../data/logs\\u_ex180119.log\n",
      "../data/logs\\u_ex180120.log\n",
      "../data/logs\\u_ex180121.log\n",
      "../data/logs\\u_ex180122.log\n",
      "../data/logs\\u_ex180131.log\n",
      "../data/logs\\u_ex180201.log\n",
      "../data/logs\\u_ex180202.log\n",
      "../data/logs\\u_ex180203.log\n",
      "../data/logs\\u_ex180204.log\n",
      "../data/logs\\u_ex180205.log\n",
      "../data/logs\\u_ex180206.log\n",
      "../data/logs\\u_ex180207.log\n",
      "../data/logs\\u_ex180208.log\n",
      "../data/logs\\u_ex180209.log\n",
      "../data/logs\\u_ex180210.log\n",
      "../data/logs\\u_ex180211.log\n",
      "../data/logs\\u_ex180212.log\n",
      "../data/logs\\u_ex180213.log\n",
      "../data/logs\\u_ex180214.log\n",
      "../data/logs\\u_ex180215.log\n",
      "../data/logs\\u_ex180216.log\n",
      "../data/logs\\u_ex180217.log\n",
      "../data/logs\\u_ex180218.log\n",
      "../data/logs\\u_ex180219.log\n",
      "../data/logs\\u_ex180220.log\n",
      "../data/logs\\u_ex180221.log\n",
      "../data/logs\\u_ex180222.log\n",
      "../data/logs\\u_ex180223.log\n",
      "../data/logs\\u_ex180224.log\n",
      "../data/logs\\u_ex180225.log\n",
      "../data/logs\\u_ex180226.log\n",
      "../data/logs\\u_ex180227.log\n",
      "../data/logs\\u_ex180228.log\n",
      "../data/logs\\u_ex180301.log\n",
      "../data/logs\\u_ex180302.log\n",
      "../data/logs\\u_ex180303.log\n",
      "../data/logs\\u_ex180304.log\n",
      "../data/logs\\u_ex180305.log\n",
      "../data/logs\\u_ex180306.log\n",
      "../data/logs\\u_ex180307.log\n",
      "../data/logs\\u_ex180308.log\n",
      "../data/logs\\u_ex180309.log\n",
      "../data/logs\\u_ex180310.log\n",
      "../data/logs\\u_ex180311.log\n",
      "../data/logs\\u_ex180312.log\n",
      "../data/logs\\u_ex180313.log\n",
      "../data/logs\\u_ex180314.log\n",
      "../data/logs\\u_ex180315.log\n",
      "../data/logs\\u_ex180316.log\n",
      "../data/logs\\u_ex180317.log\n",
      "../data/logs\\u_ex180318.log\n",
      "../data/logs\\u_ex180319.log\n",
      "../data/logs\\u_ex180320.log\n",
      "../data/logs\\u_ex180321.log\n",
      "../data/logs\\u_ex180322.log\n",
      "../data/logs\\u_ex180323.log\n",
      "../data/logs\\u_ex180324.log\n",
      "../data/logs\\u_ex180325.log\n",
      "../data/logs\\u_ex180326.log\n",
      "../data/logs\\u_ex180327.log\n",
      "../data/logs\\u_ex180328.log\n",
      "../data/logs\\u_ex180329.log\n",
      "../data/logs\\u_ex180330.log\n",
      "../data/logs\\u_ex180331.log\n",
      "../data/logs\\u_ex180401.log\n",
      "../data/logs\\u_ex180402.log\n",
      "../data/logs\\u_ex180403.log\n",
      "../data/logs\\u_ex180404.log\n",
      "../data/logs\\u_ex180405.log\n",
      "../data/logs\\u_ex180406.log\n",
      "../data/logs\\u_ex180407.log\n",
      "../data/logs\\u_ex180408.log\n",
      "../data/logs\\u_ex180409.log\n"
     ]
    }
   ],
   "source": [
    "df =  myLogReader.readLogs(logsPath,112)"
   ]
  },
  {
   "cell_type": "code",
   "execution_count": 4,
   "metadata": {},
   "outputs": [],
   "source": [
    "#Close Reader\n",
    "myLogReader.closeReader()"
   ]
  },
  {
   "cell_type": "code",
   "execution_count": 8,
   "metadata": {},
   "outputs": [
    {
     "data": {
      "text/html": [
       "<div>\n",
       "<style scoped>\n",
       "    .dataframe tbody tr th:only-of-type {\n",
       "        vertical-align: middle;\n",
       "    }\n",
       "\n",
       "    .dataframe tbody tr th {\n",
       "        vertical-align: top;\n",
       "    }\n",
       "\n",
       "    .dataframe thead th {\n",
       "        text-align: right;\n",
       "    }\n",
       "</style>\n",
       "<table border=\"1\" class=\"dataframe\">\n",
       "  <thead>\n",
       "    <tr style=\"text-align: right;\">\n",
       "      <th></th>\n",
       "      <th>client-ip-unique-count</th>\n",
       "      <th>cs-username-unique-count</th>\n",
       "      <th>client-connections-count</th>\n",
       "      <th>time-taken(ms)-sum</th>\n",
       "      <th>Chrome-count</th>\n",
       "      <th>Firefox-count</th>\n",
       "      <th>Other-count</th>\n",
       "      <th>Safari-count</th>\n",
       "      <th>Desktop-count</th>\n",
       "      <th>Mobile-count</th>\n",
       "    </tr>\n",
       "    <tr>\n",
       "      <th>calendar-year-week</th>\n",
       "      <th></th>\n",
       "      <th></th>\n",
       "      <th></th>\n",
       "      <th></th>\n",
       "      <th></th>\n",
       "      <th></th>\n",
       "      <th></th>\n",
       "      <th></th>\n",
       "      <th></th>\n",
       "      <th></th>\n",
       "    </tr>\n",
       "  </thead>\n",
       "  <tbody>\n",
       "    <tr>\n",
       "      <th>2017-50</th>\n",
       "      <td>925</td>\n",
       "      <td>415</td>\n",
       "      <td>89497</td>\n",
       "      <td>52520170.0</td>\n",
       "      <td>38500</td>\n",
       "      <td>7784</td>\n",
       "      <td>27741</td>\n",
       "      <td>15472</td>\n",
       "      <td>80440</td>\n",
       "      <td>9057</td>\n",
       "    </tr>\n",
       "    <tr>\n",
       "      <th>2017-51</th>\n",
       "      <td>866</td>\n",
       "      <td>386</td>\n",
       "      <td>81378</td>\n",
       "      <td>44703569.0</td>\n",
       "      <td>39664</td>\n",
       "      <td>6585</td>\n",
       "      <td>21274</td>\n",
       "      <td>13855</td>\n",
       "      <td>72925</td>\n",
       "      <td>8453</td>\n",
       "    </tr>\n",
       "    <tr>\n",
       "      <th>2017-52</th>\n",
       "      <td>475</td>\n",
       "      <td>179</td>\n",
       "      <td>30843</td>\n",
       "      <td>14199684.0</td>\n",
       "      <td>9978</td>\n",
       "      <td>553</td>\n",
       "      <td>14279</td>\n",
       "      <td>6033</td>\n",
       "      <td>27735</td>\n",
       "      <td>3108</td>\n",
       "    </tr>\n",
       "    <tr>\n",
       "      <th>2018-1</th>\n",
       "      <td>769</td>\n",
       "      <td>354</td>\n",
       "      <td>71528</td>\n",
       "      <td>42663674.0</td>\n",
       "      <td>31666</td>\n",
       "      <td>8049</td>\n",
       "      <td>19512</td>\n",
       "      <td>12301</td>\n",
       "      <td>64710</td>\n",
       "      <td>6818</td>\n",
       "    </tr>\n",
       "    <tr>\n",
       "      <th>2018-2</th>\n",
       "      <td>920</td>\n",
       "      <td>441</td>\n",
       "      <td>90093</td>\n",
       "      <td>63904084.0</td>\n",
       "      <td>38238</td>\n",
       "      <td>6166</td>\n",
       "      <td>23249</td>\n",
       "      <td>22440</td>\n",
       "      <td>79099</td>\n",
       "      <td>10994</td>\n",
       "    </tr>\n",
       "  </tbody>\n",
       "</table>\n",
       "</div>"
      ],
      "text/plain": [
       "                    client-ip-unique-count  cs-username-unique-count  \\\n",
       "calendar-year-week                                                     \n",
       "2017-50                                925                       415   \n",
       "2017-51                                866                       386   \n",
       "2017-52                                475                       179   \n",
       "2018-1                                 769                       354   \n",
       "2018-2                                 920                       441   \n",
       "\n",
       "                    client-connections-count  time-taken(ms)-sum  \\\n",
       "calendar-year-week                                                 \n",
       "2017-50                                89497          52520170.0   \n",
       "2017-51                                81378          44703569.0   \n",
       "2017-52                                30843          14199684.0   \n",
       "2018-1                                 71528          42663674.0   \n",
       "2018-2                                 90093          63904084.0   \n",
       "\n",
       "                    Chrome-count  Firefox-count  Other-count  Safari-count  \\\n",
       "calendar-year-week                                                           \n",
       "2017-50                    38500           7784        27741         15472   \n",
       "2017-51                    39664           6585        21274         13855   \n",
       "2017-52                     9978            553        14279          6033   \n",
       "2018-1                     31666           8049        19512         12301   \n",
       "2018-2                     38238           6166        23249         22440   \n",
       "\n",
       "                    Desktop-count  Mobile-count  \n",
       "calendar-year-week                               \n",
       "2017-50                     80440          9057  \n",
       "2017-51                     72925          8453  \n",
       "2017-52                     27735          3108  \n",
       "2018-1                      64710          6818  \n",
       "2018-2                      79099         10994  "
      ]
     },
     "execution_count": 8,
     "metadata": {},
     "output_type": "execute_result"
    }
   ],
   "source": [
    "df.head()"
   ]
  },
  {
   "cell_type": "markdown",
   "metadata": {},
   "source": [
    "#### 2- Automate load logs and aggregate data"
   ]
  },
  {
   "cell_type": "code",
   "execution_count": 6,
   "metadata": {},
   "outputs": [],
   "source": [
    "df.to_csv('../data/AggregatedData_112_days.csv')"
   ]
  },
  {
   "cell_type": "code",
   "execution_count": null,
   "metadata": {},
   "outputs": [],
   "source": [
    "pd.concat([df_devicecount,df_browsercount,df_totalconnections_timetaken,df_uniqueUsername,df_uniqueIP],axis=1)"
   ]
  },
  {
   "cell_type": "code",
   "execution_count": null,
   "metadata": {},
   "outputs": [],
   "source": [
    "df.info()"
   ]
  },
  {
   "cell_type": "code",
   "execution_count": null,
   "metadata": {},
   "outputs": [],
   "source": [
    "df['client-ip'].describe()"
   ]
  },
  {
   "cell_type": "code",
   "execution_count": null,
   "metadata": {},
   "outputs": [],
   "source": [
    "df.loc[:, df.dtypes == object].describe()"
   ]
  },
  {
   "cell_type": "code",
   "execution_count": null,
   "metadata": {},
   "outputs": [],
   "source": [
    "df.isna().sum()"
   ]
  },
  {
   "cell_type": "code",
   "execution_count": null,
   "metadata": {},
   "outputs": [],
   "source": [
    "test_df =  myLogReader.readLog('../data/logs/u_ex180131.log')\n",
    "\n",
    "myLogReader.deriveClientCountry(test_df)"
   ]
  },
  {
   "cell_type": "code",
   "execution_count": null,
   "metadata": {},
   "outputs": [],
   "source": [
    "#df_ip = groupbyCalendarYearWeek_ClientIp(df)\n",
    "df_ip"
   ]
  },
  {
   "cell_type": "code",
   "execution_count": null,
   "metadata": {},
   "outputs": [],
   "source": []
  }
 ],
 "metadata": {
  "kernelspec": {
   "display_name": "Python 3",
   "language": "python",
   "name": "python3"
  },
  "language_info": {
   "codemirror_mode": {
    "name": "ipython",
    "version": 3
   },
   "file_extension": ".py",
   "mimetype": "text/x-python",
   "name": "python",
   "nbconvert_exporter": "python",
   "pygments_lexer": "ipython3",
   "version": "3.7.0"
  }
 },
 "nbformat": 4,
 "nbformat_minor": 2
}
