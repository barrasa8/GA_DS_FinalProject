{
 "cells": [
  {
   "cell_type": "code",
   "execution_count": 12,
   "metadata": {},
   "outputs": [],
   "source": [
    "import pandas as pd\n",
    "import statsmodels.api as sm\n",
    "import numpy as np\n",
    "import seaborn as sns\n",
    "import matplotlib.pyplot as plt\n",
    "import geoip2.database\n",
    "\n",
    "%matplotlib inline"
   ]
  },
  {
   "cell_type": "code",
   "execution_count": 13,
   "metadata": {},
   "outputs": [],
   "source": [
    "reader = geoip2.database.Reader('../data/GeoLite2-City_20181009/GeoLite2-City.mmdb')\n",
    "\n",
    "response = reader.city(ip_address='137.92.20.94')\n",
    "\n",
    "reader.close()\n"
   ]
  },
  {
   "cell_type": "code",
   "execution_count": 14,
   "metadata": {},
   "outputs": [
    {
     "data": {
      "text/plain": [
       "geoip2.records.Postal(confidence=None, code='2600')"
      ]
     },
     "execution_count": 14,
     "metadata": {},
     "output_type": "execute_result"
    }
   ],
   "source": [
    "response.postal"
   ]
  },
  {
   "cell_type": "code",
   "execution_count": 31,
   "metadata": {},
   "outputs": [],
   "source": [
    "iis_logs_df = pd.read_csv(\"../data/logs/u_ex181010.log\"\n",
    "            #,skiprows=[0,1,2,3]\n",
    "            , comment='#'\n",
    "            , sep=' ' \n",
    "            , usecols=[0,1, 2, 5, 6, 7, 8, 9, 10,11,12,14]\n",
    "            , na_values='-'\n",
    "            , names=['date'\n",
    "                    ,'time'\n",
    "                    ,'server-ip'\n",
    "                    ,'cs-uri-query'\n",
    "                    ,'server-port'\n",
    "                    ,'cs-username'\n",
    "                    ,'client-ip'\n",
    "                    ,'cs(User-Agent)'\n",
    "                    ,'cs(Referer)'\n",
    "                    ,'sc-status'\n",
    "                    ,'sc-substatus'\n",
    "                   ,'time-taken(ms)'])"
   ]
  },
  {
   "cell_type": "code",
   "execution_count": 36,
   "metadata": {},
   "outputs": [
    {
     "data": {
      "text/html": [
       "<div>\n",
       "<style scoped>\n",
       "    .dataframe tbody tr th:only-of-type {\n",
       "        vertical-align: middle;\n",
       "    }\n",
       "\n",
       "    .dataframe tbody tr th {\n",
       "        vertical-align: top;\n",
       "    }\n",
       "\n",
       "    .dataframe thead th {\n",
       "        text-align: right;\n",
       "    }\n",
       "</style>\n",
       "<table border=\"1\" class=\"dataframe\">\n",
       "  <thead>\n",
       "    <tr style=\"text-align: right;\">\n",
       "      <th></th>\n",
       "      <th>date</th>\n",
       "      <th>time</th>\n",
       "      <th>server-ip</th>\n",
       "      <th>cs-uri-query</th>\n",
       "      <th>server-port</th>\n",
       "      <th>cs-username</th>\n",
       "      <th>client-ip</th>\n",
       "      <th>cs(User-Agent)</th>\n",
       "      <th>cs(Referer)</th>\n",
       "      <th>sc-status</th>\n",
       "      <th>sc-substatus</th>\n",
       "      <th>time-taken(ms)</th>\n",
       "    </tr>\n",
       "  </thead>\n",
       "  <tbody>\n",
       "    <tr>\n",
       "      <th>0</th>\n",
       "      <td>2018-10-10</td>\n",
       "      <td>00:00:19</td>\n",
       "      <td>192.168.2.210</td>\n",
       "      <td>NaN</td>\n",
       "      <td>80</td>\n",
       "      <td>NaN</td>\n",
       "      <td>58.167.88.59</td>\n",
       "      <td>Mozilla/5.0+(Windows+NT+10.0;+Win64;+x64)+Appl...</td>\n",
       "      <td>NaN</td>\n",
       "      <td>301</td>\n",
       "      <td>0</td>\n",
       "      <td>93</td>\n",
       "    </tr>\n",
       "    <tr>\n",
       "      <th>1</th>\n",
       "      <td>2018-10-10</td>\n",
       "      <td>00:00:19</td>\n",
       "      <td>192.168.2.210</td>\n",
       "      <td>NaN</td>\n",
       "      <td>443</td>\n",
       "      <td>NaN</td>\n",
       "      <td>58.167.88.59</td>\n",
       "      <td>Mozilla/5.0+(Windows+NT+10.0;+Win64;+x64)+Appl...</td>\n",
       "      <td>NaN</td>\n",
       "      <td>302</td>\n",
       "      <td>0</td>\n",
       "      <td>93</td>\n",
       "    </tr>\n",
       "    <tr>\n",
       "      <th>2</th>\n",
       "      <td>2018-10-10</td>\n",
       "      <td>00:00:19</td>\n",
       "      <td>192.168.2.210</td>\n",
       "      <td>ReturnUrl=%2f</td>\n",
       "      <td>443</td>\n",
       "      <td>NaN</td>\n",
       "      <td>58.167.88.59</td>\n",
       "      <td>Mozilla/5.0+(Windows+NT+10.0;+Win64;+x64)+Appl...</td>\n",
       "      <td>NaN</td>\n",
       "      <td>302</td>\n",
       "      <td>0</td>\n",
       "      <td>93</td>\n",
       "    </tr>\n",
       "    <tr>\n",
       "      <th>3</th>\n",
       "      <td>2018-10-10</td>\n",
       "      <td>00:00:19</td>\n",
       "      <td>192.168.2.210</td>\n",
       "      <td>ReturnUrl=%2f</td>\n",
       "      <td>443</td>\n",
       "      <td>NaN</td>\n",
       "      <td>58.167.88.59</td>\n",
       "      <td>Mozilla/5.0+(Windows+NT+10.0;+Win64;+x64)+Appl...</td>\n",
       "      <td>NaN</td>\n",
       "      <td>200</td>\n",
       "      <td>0</td>\n",
       "      <td>171</td>\n",
       "    </tr>\n",
       "    <tr>\n",
       "      <th>4</th>\n",
       "      <td>2018-10-10</td>\n",
       "      <td>00:00:20</td>\n",
       "      <td>192.168.2.210</td>\n",
       "      <td>v=pIhLJRZ-i9xD3brYZ6I5pZD6973WqBDt6kYnAg5j20E1</td>\n",
       "      <td>443</td>\n",
       "      <td>NaN</td>\n",
       "      <td>58.167.88.59</td>\n",
       "      <td>Mozilla/5.0+(Windows+NT+10.0;+Win64;+x64)+Appl...</td>\n",
       "      <td>https://inplace.canberra.edu.au/Security/Accou...</td>\n",
       "      <td>200</td>\n",
       "      <td>0</td>\n",
       "      <td>265</td>\n",
       "    </tr>\n",
       "  </tbody>\n",
       "</table>\n",
       "</div>"
      ],
      "text/plain": [
       "         date      time      server-ip  \\\n",
       "0  2018-10-10  00:00:19  192.168.2.210   \n",
       "1  2018-10-10  00:00:19  192.168.2.210   \n",
       "2  2018-10-10  00:00:19  192.168.2.210   \n",
       "3  2018-10-10  00:00:19  192.168.2.210   \n",
       "4  2018-10-10  00:00:20  192.168.2.210   \n",
       "\n",
       "                                     cs-uri-query  server-port cs-username  \\\n",
       "0                                             NaN           80         NaN   \n",
       "1                                             NaN          443         NaN   \n",
       "2                                   ReturnUrl=%2f          443         NaN   \n",
       "3                                   ReturnUrl=%2f          443         NaN   \n",
       "4  v=pIhLJRZ-i9xD3brYZ6I5pZD6973WqBDt6kYnAg5j20E1          443         NaN   \n",
       "\n",
       "      client-ip                                     cs(User-Agent)  \\\n",
       "0  58.167.88.59  Mozilla/5.0+(Windows+NT+10.0;+Win64;+x64)+Appl...   \n",
       "1  58.167.88.59  Mozilla/5.0+(Windows+NT+10.0;+Win64;+x64)+Appl...   \n",
       "2  58.167.88.59  Mozilla/5.0+(Windows+NT+10.0;+Win64;+x64)+Appl...   \n",
       "3  58.167.88.59  Mozilla/5.0+(Windows+NT+10.0;+Win64;+x64)+Appl...   \n",
       "4  58.167.88.59  Mozilla/5.0+(Windows+NT+10.0;+Win64;+x64)+Appl...   \n",
       "\n",
       "                                         cs(Referer)  sc-status  sc-substatus  \\\n",
       "0                                                NaN        301             0   \n",
       "1                                                NaN        302             0   \n",
       "2                                                NaN        302             0   \n",
       "3                                                NaN        200             0   \n",
       "4  https://inplace.canberra.edu.au/Security/Accou...        200             0   \n",
       "\n",
       "   time-taken(ms)  \n",
       "0              93  \n",
       "1              93  \n",
       "2              93  \n",
       "3             171  \n",
       "4             265  "
      ]
     },
     "execution_count": 36,
     "metadata": {},
     "output_type": "execute_result"
    }
   ],
   "source": [
    "iis_logs_df.head()"
   ]
  },
  {
   "cell_type": "code",
   "execution_count": 32,
   "metadata": {},
   "outputs": [
    {
     "name": "stdout",
     "output_type": "stream",
     "text": [
      "<class 'pandas.core.frame.DataFrame'>\n",
      "RangeIndex: 12334 entries, 0 to 12333\n",
      "Data columns (total 12 columns):\n",
      "date              12334 non-null object\n",
      "time              12334 non-null object\n",
      "server-ip         12334 non-null object\n",
      "cs-uri-query      5510 non-null object\n",
      "server-port       12334 non-null int64\n",
      "cs-username       7275 non-null object\n",
      "client-ip         12334 non-null object\n",
      "cs(User-Agent)    12138 non-null object\n",
      "cs(Referer)       9206 non-null object\n",
      "sc-status         12334 non-null int64\n",
      "sc-substatus      12334 non-null int64\n",
      "time-taken(ms)    12334 non-null int64\n",
      "dtypes: int64(4), object(8)\n",
      "memory usage: 1.1+ MB\n"
     ]
    }
   ],
   "source": [
    "iis_logs_df.info()"
   ]
  },
  {
   "cell_type": "code",
   "execution_count": 33,
   "metadata": {},
   "outputs": [
    {
     "data": {
      "text/html": [
       "<div>\n",
       "<style scoped>\n",
       "    .dataframe tbody tr th:only-of-type {\n",
       "        vertical-align: middle;\n",
       "    }\n",
       "\n",
       "    .dataframe tbody tr th {\n",
       "        vertical-align: top;\n",
       "    }\n",
       "\n",
       "    .dataframe thead th {\n",
       "        text-align: right;\n",
       "    }\n",
       "</style>\n",
       "<table border=\"1\" class=\"dataframe\">\n",
       "  <thead>\n",
       "    <tr style=\"text-align: right;\">\n",
       "      <th></th>\n",
       "      <th>server-port</th>\n",
       "      <th>sc-status</th>\n",
       "      <th>sc-substatus</th>\n",
       "      <th>time-taken(ms)</th>\n",
       "    </tr>\n",
       "  </thead>\n",
       "  <tbody>\n",
       "    <tr>\n",
       "      <th>count</th>\n",
       "      <td>12334.000000</td>\n",
       "      <td>12334.000000</td>\n",
       "      <td>12334.0</td>\n",
       "      <td>12334.000000</td>\n",
       "    </tr>\n",
       "    <tr>\n",
       "      <th>mean</th>\n",
       "      <td>442.323091</td>\n",
       "      <td>215.232447</td>\n",
       "      <td>0.0</td>\n",
       "      <td>532.415518</td>\n",
       "    </tr>\n",
       "    <tr>\n",
       "      <th>std</th>\n",
       "      <td>15.661410</td>\n",
       "      <td>38.194092</td>\n",
       "      <td>0.0</td>\n",
       "      <td>2264.506444</td>\n",
       "    </tr>\n",
       "    <tr>\n",
       "      <th>min</th>\n",
       "      <td>80.000000</td>\n",
       "      <td>200.000000</td>\n",
       "      <td>0.0</td>\n",
       "      <td>0.000000</td>\n",
       "    </tr>\n",
       "    <tr>\n",
       "      <th>25%</th>\n",
       "      <td>443.000000</td>\n",
       "      <td>200.000000</td>\n",
       "      <td>0.0</td>\n",
       "      <td>62.000000</td>\n",
       "    </tr>\n",
       "    <tr>\n",
       "      <th>50%</th>\n",
       "      <td>443.000000</td>\n",
       "      <td>200.000000</td>\n",
       "      <td>0.0</td>\n",
       "      <td>187.000000</td>\n",
       "    </tr>\n",
       "    <tr>\n",
       "      <th>75%</th>\n",
       "      <td>443.000000</td>\n",
       "      <td>200.000000</td>\n",
       "      <td>0.0</td>\n",
       "      <td>330.000000</td>\n",
       "    </tr>\n",
       "    <tr>\n",
       "      <th>max</th>\n",
       "      <td>443.000000</td>\n",
       "      <td>404.000000</td>\n",
       "      <td>0.0</td>\n",
       "      <td>82662.000000</td>\n",
       "    </tr>\n",
       "  </tbody>\n",
       "</table>\n",
       "</div>"
      ],
      "text/plain": [
       "        server-port     sc-status  sc-substatus  time-taken(ms)\n",
       "count  12334.000000  12334.000000       12334.0    12334.000000\n",
       "mean     442.323091    215.232447           0.0      532.415518\n",
       "std       15.661410     38.194092           0.0     2264.506444\n",
       "min       80.000000    200.000000           0.0        0.000000\n",
       "25%      443.000000    200.000000           0.0       62.000000\n",
       "50%      443.000000    200.000000           0.0      187.000000\n",
       "75%      443.000000    200.000000           0.0      330.000000\n",
       "max      443.000000    404.000000           0.0    82662.000000"
      ]
     },
     "execution_count": 33,
     "metadata": {},
     "output_type": "execute_result"
    }
   ],
   "source": [
    "iis_logs_df.describe()"
   ]
  },
  {
   "cell_type": "code",
   "execution_count": 34,
   "metadata": {},
   "outputs": [
    {
     "data": {
      "text/plain": [
       "count    12334.000000\n",
       "mean       442.323091\n",
       "std         15.661410\n",
       "min         80.000000\n",
       "25%        443.000000\n",
       "50%        443.000000\n",
       "75%        443.000000\n",
       "max        443.000000\n",
       "Name: server-port, dtype: float64"
      ]
     },
     "execution_count": 34,
     "metadata": {},
     "output_type": "execute_result"
    }
   ],
   "source": [
    "iis_logs_df[\"server-port\"].describe()"
   ]
  },
  {
   "cell_type": "code",
   "execution_count": 35,
   "metadata": {},
   "outputs": [
    {
     "data": {
      "text/plain": [
       "443    12311\n",
       "80        23\n",
       "Name: server-port, dtype: int64"
      ]
     },
     "execution_count": 35,
     "metadata": {},
     "output_type": "execute_result"
    }
   ],
   "source": [
    "iis_logs_df[\"server-port\"].value_counts()"
   ]
  },
  {
   "cell_type": "code",
   "execution_count": 42,
   "metadata": {},
   "outputs": [
    {
     "data": {
      "text/plain": [
       "0    58.167.88.59\n",
       "1    58.167.88.59\n",
       "2    58.167.88.59\n",
       "3    58.167.88.59\n",
       "4    58.167.88.59\n",
       "Name: client-ip, dtype: object"
      ]
     },
     "execution_count": 42,
     "metadata": {},
     "output_type": "execute_result"
    }
   ],
   "source": [
    "iis_logs_df['client-ip'].head()"
   ]
  },
  {
   "cell_type": "code",
   "execution_count": 43,
   "metadata": {},
   "outputs": [
    {
     "ename": "ValueError",
     "evalue": "mmap closed or invalid",
     "output_type": "error",
     "traceback": [
      "\u001b[1;31m---------------------------------------------------------------------------\u001b[0m",
      "\u001b[1;31mValueError\u001b[0m                                Traceback (most recent call last)",
      "\u001b[1;32m<ipython-input-43-f9833022bb30>\u001b[0m in \u001b[0;36m<module>\u001b[1;34m()\u001b[0m\n\u001b[1;32m----> 1\u001b[1;33m \u001b[0miis_logs_df\u001b[0m\u001b[1;33m[\u001b[0m\u001b[1;34m'client-ip'\u001b[0m\u001b[1;33m]\u001b[0m\u001b[1;33m.\u001b[0m\u001b[0mapply\u001b[0m\u001b[1;33m(\u001b[0m\u001b[1;32mlambda\u001b[0m \u001b[0mx\u001b[0m\u001b[1;33m:\u001b[0m \u001b[0mreader\u001b[0m\u001b[1;33m.\u001b[0m\u001b[0mcity\u001b[0m\u001b[1;33m(\u001b[0m\u001b[0mip_address\u001b[0m\u001b[1;33m=\u001b[0m\u001b[0mx\u001b[0m\u001b[1;33m)\u001b[0m\u001b[1;33m)\u001b[0m\u001b[1;33m\u001b[0m\u001b[0m\n\u001b[0m",
      "\u001b[1;32m~\\Anaconda3\\lib\\site-packages\\pandas\\core\\series.py\u001b[0m in \u001b[0;36mapply\u001b[1;34m(self, func, convert_dtype, args, **kwds)\u001b[0m\n\u001b[0;32m   3190\u001b[0m             \u001b[1;32melse\u001b[0m\u001b[1;33m:\u001b[0m\u001b[1;33m\u001b[0m\u001b[0m\n\u001b[0;32m   3191\u001b[0m                 \u001b[0mvalues\u001b[0m \u001b[1;33m=\u001b[0m \u001b[0mself\u001b[0m\u001b[1;33m.\u001b[0m\u001b[0mastype\u001b[0m\u001b[1;33m(\u001b[0m\u001b[0mobject\u001b[0m\u001b[1;33m)\u001b[0m\u001b[1;33m.\u001b[0m\u001b[0mvalues\u001b[0m\u001b[1;33m\u001b[0m\u001b[0m\n\u001b[1;32m-> 3192\u001b[1;33m                 \u001b[0mmapped\u001b[0m \u001b[1;33m=\u001b[0m \u001b[0mlib\u001b[0m\u001b[1;33m.\u001b[0m\u001b[0mmap_infer\u001b[0m\u001b[1;33m(\u001b[0m\u001b[0mvalues\u001b[0m\u001b[1;33m,\u001b[0m \u001b[0mf\u001b[0m\u001b[1;33m,\u001b[0m \u001b[0mconvert\u001b[0m\u001b[1;33m=\u001b[0m\u001b[0mconvert_dtype\u001b[0m\u001b[1;33m)\u001b[0m\u001b[1;33m\u001b[0m\u001b[0m\n\u001b[0m\u001b[0;32m   3193\u001b[0m \u001b[1;33m\u001b[0m\u001b[0m\n\u001b[0;32m   3194\u001b[0m         \u001b[1;32mif\u001b[0m \u001b[0mlen\u001b[0m\u001b[1;33m(\u001b[0m\u001b[0mmapped\u001b[0m\u001b[1;33m)\u001b[0m \u001b[1;32mand\u001b[0m \u001b[0misinstance\u001b[0m\u001b[1;33m(\u001b[0m\u001b[0mmapped\u001b[0m\u001b[1;33m[\u001b[0m\u001b[1;36m0\u001b[0m\u001b[1;33m]\u001b[0m\u001b[1;33m,\u001b[0m \u001b[0mSeries\u001b[0m\u001b[1;33m)\u001b[0m\u001b[1;33m:\u001b[0m\u001b[1;33m\u001b[0m\u001b[0m\n",
      "\u001b[1;32mpandas/_libs/src\\inference.pyx\u001b[0m in \u001b[0;36mpandas._libs.lib.map_infer\u001b[1;34m()\u001b[0m\n",
      "\u001b[1;32m<ipython-input-43-f9833022bb30>\u001b[0m in \u001b[0;36m<lambda>\u001b[1;34m(x)\u001b[0m\n\u001b[1;32m----> 1\u001b[1;33m \u001b[0miis_logs_df\u001b[0m\u001b[1;33m[\u001b[0m\u001b[1;34m'client-ip'\u001b[0m\u001b[1;33m]\u001b[0m\u001b[1;33m.\u001b[0m\u001b[0mapply\u001b[0m\u001b[1;33m(\u001b[0m\u001b[1;32mlambda\u001b[0m \u001b[0mx\u001b[0m\u001b[1;33m:\u001b[0m \u001b[0mreader\u001b[0m\u001b[1;33m.\u001b[0m\u001b[0mcity\u001b[0m\u001b[1;33m(\u001b[0m\u001b[0mip_address\u001b[0m\u001b[1;33m=\u001b[0m\u001b[0mx\u001b[0m\u001b[1;33m)\u001b[0m\u001b[1;33m)\u001b[0m\u001b[1;33m\u001b[0m\u001b[0m\n\u001b[0m",
      "\u001b[1;32m~\\Anaconda3\\lib\\site-packages\\geoip2\\database.py\u001b[0m in \u001b[0;36mcity\u001b[1;34m(self, ip_address)\u001b[0m\n\u001b[0;32m    112\u001b[0m \u001b[1;33m\u001b[0m\u001b[0m\n\u001b[0;32m    113\u001b[0m         \"\"\"\n\u001b[1;32m--> 114\u001b[1;33m         \u001b[1;32mreturn\u001b[0m \u001b[0mself\u001b[0m\u001b[1;33m.\u001b[0m\u001b[0m_model_for\u001b[0m\u001b[1;33m(\u001b[0m\u001b[0mgeoip2\u001b[0m\u001b[1;33m.\u001b[0m\u001b[0mmodels\u001b[0m\u001b[1;33m.\u001b[0m\u001b[0mCity\u001b[0m\u001b[1;33m,\u001b[0m \u001b[1;34m'City'\u001b[0m\u001b[1;33m,\u001b[0m \u001b[0mip_address\u001b[0m\u001b[1;33m)\u001b[0m\u001b[1;33m\u001b[0m\u001b[0m\n\u001b[0m\u001b[0;32m    115\u001b[0m \u001b[1;33m\u001b[0m\u001b[0m\n\u001b[0;32m    116\u001b[0m     \u001b[1;32mdef\u001b[0m \u001b[0manonymous_ip\u001b[0m\u001b[1;33m(\u001b[0m\u001b[0mself\u001b[0m\u001b[1;33m,\u001b[0m \u001b[0mip_address\u001b[0m\u001b[1;33m)\u001b[0m\u001b[1;33m:\u001b[0m\u001b[1;33m\u001b[0m\u001b[0m\n",
      "\u001b[1;32m~\\Anaconda3\\lib\\site-packages\\geoip2\\database.py\u001b[0m in \u001b[0;36m_model_for\u001b[1;34m(self, model_class, types, ip_address)\u001b[0m\n\u001b[0;32m    193\u001b[0m \u001b[1;33m\u001b[0m\u001b[0m\n\u001b[0;32m    194\u001b[0m     \u001b[1;32mdef\u001b[0m \u001b[0m_model_for\u001b[0m\u001b[1;33m(\u001b[0m\u001b[0mself\u001b[0m\u001b[1;33m,\u001b[0m \u001b[0mmodel_class\u001b[0m\u001b[1;33m,\u001b[0m \u001b[0mtypes\u001b[0m\u001b[1;33m,\u001b[0m \u001b[0mip_address\u001b[0m\u001b[1;33m)\u001b[0m\u001b[1;33m:\u001b[0m\u001b[1;33m\u001b[0m\u001b[0m\n\u001b[1;32m--> 195\u001b[1;33m         \u001b[0mrecord\u001b[0m \u001b[1;33m=\u001b[0m \u001b[0mself\u001b[0m\u001b[1;33m.\u001b[0m\u001b[0m_get\u001b[0m\u001b[1;33m(\u001b[0m\u001b[0mtypes\u001b[0m\u001b[1;33m,\u001b[0m \u001b[0mip_address\u001b[0m\u001b[1;33m)\u001b[0m\u001b[1;33m\u001b[0m\u001b[0m\n\u001b[0m\u001b[0;32m    196\u001b[0m         \u001b[0mrecord\u001b[0m\u001b[1;33m.\u001b[0m\u001b[0msetdefault\u001b[0m\u001b[1;33m(\u001b[0m\u001b[1;34m'traits'\u001b[0m\u001b[1;33m,\u001b[0m \u001b[1;33m{\u001b[0m\u001b[1;33m}\u001b[0m\u001b[1;33m)\u001b[0m\u001b[1;33m[\u001b[0m\u001b[1;34m'ip_address'\u001b[0m\u001b[1;33m]\u001b[0m \u001b[1;33m=\u001b[0m \u001b[0mip_address\u001b[0m\u001b[1;33m\u001b[0m\u001b[0m\n\u001b[0;32m    197\u001b[0m         \u001b[1;32mreturn\u001b[0m \u001b[0mmodel_class\u001b[0m\u001b[1;33m(\u001b[0m\u001b[0mrecord\u001b[0m\u001b[1;33m,\u001b[0m \u001b[0mlocales\u001b[0m\u001b[1;33m=\u001b[0m\u001b[0mself\u001b[0m\u001b[1;33m.\u001b[0m\u001b[0m_locales\u001b[0m\u001b[1;33m)\u001b[0m\u001b[1;33m\u001b[0m\u001b[0m\n",
      "\u001b[1;32m~\\Anaconda3\\lib\\site-packages\\geoip2\\database.py\u001b[0m in \u001b[0;36m_get\u001b[1;34m(self, database_type, ip_address)\u001b[0m\n\u001b[0;32m    186\u001b[0m                             \"%s database\" % (caller,\n\u001b[0;32m    187\u001b[0m                                              self.metadata().database_type))\n\u001b[1;32m--> 188\u001b[1;33m         \u001b[0mrecord\u001b[0m \u001b[1;33m=\u001b[0m \u001b[0mself\u001b[0m\u001b[1;33m.\u001b[0m\u001b[0m_db_reader\u001b[0m\u001b[1;33m.\u001b[0m\u001b[0mget\u001b[0m\u001b[1;33m(\u001b[0m\u001b[0mip_address\u001b[0m\u001b[1;33m)\u001b[0m\u001b[1;33m\u001b[0m\u001b[0m\n\u001b[0m\u001b[0;32m    189\u001b[0m         \u001b[1;32mif\u001b[0m \u001b[0mrecord\u001b[0m \u001b[1;32mis\u001b[0m \u001b[1;32mNone\u001b[0m\u001b[1;33m:\u001b[0m\u001b[1;33m\u001b[0m\u001b[0m\n\u001b[0;32m    190\u001b[0m             raise geoip2.errors.AddressNotFoundError(\n",
      "\u001b[1;32m~\\Anaconda3\\lib\\site-packages\\maxminddb\\reader.py\u001b[0m in \u001b[0;36mget\u001b[1;34m(self, ip_address)\u001b[0m\n\u001b[0;32m    114\u001b[0m                 \u001b[1;34m'Error looking up {0}. You attempted to look up '\u001b[0m\u001b[1;33m\u001b[0m\u001b[0m\n\u001b[0;32m    115\u001b[0m                 'an IPv6 address in an IPv4-only database.'.format(ip_address))\n\u001b[1;32m--> 116\u001b[1;33m         \u001b[0mpointer\u001b[0m \u001b[1;33m=\u001b[0m \u001b[0mself\u001b[0m\u001b[1;33m.\u001b[0m\u001b[0m_find_address_in_tree\u001b[0m\u001b[1;33m(\u001b[0m\u001b[0maddress\u001b[0m\u001b[1;33m)\u001b[0m\u001b[1;33m\u001b[0m\u001b[0m\n\u001b[0m\u001b[0;32m    117\u001b[0m \u001b[1;33m\u001b[0m\u001b[0m\n\u001b[0;32m    118\u001b[0m         \u001b[1;32mreturn\u001b[0m \u001b[0mself\u001b[0m\u001b[1;33m.\u001b[0m\u001b[0m_resolve_data_pointer\u001b[0m\u001b[1;33m(\u001b[0m\u001b[0mpointer\u001b[0m\u001b[1;33m)\u001b[0m \u001b[1;32mif\u001b[0m \u001b[0mpointer\u001b[0m \u001b[1;32melse\u001b[0m \u001b[1;32mNone\u001b[0m\u001b[1;33m\u001b[0m\u001b[0m\n",
      "\u001b[1;32m~\\Anaconda3\\lib\\site-packages\\maxminddb\\reader.py\u001b[0m in \u001b[0;36m_find_address_in_tree\u001b[1;34m(self, ip_address)\u001b[0m\n\u001b[0;32m    128\u001b[0m                 \u001b[1;32mbreak\u001b[0m\u001b[1;33m\u001b[0m\u001b[0m\n\u001b[0;32m    129\u001b[0m             \u001b[0mbit\u001b[0m \u001b[1;33m=\u001b[0m \u001b[1;36m1\u001b[0m \u001b[1;33m&\u001b[0m \u001b[1;33m(\u001b[0m\u001b[0mpacked\u001b[0m\u001b[1;33m[\u001b[0m\u001b[0mi\u001b[0m \u001b[1;33m>>\u001b[0m \u001b[1;36m3\u001b[0m\u001b[1;33m]\u001b[0m \u001b[1;33m>>\u001b[0m \u001b[1;36m7\u001b[0m \u001b[1;33m-\u001b[0m \u001b[1;33m(\u001b[0m\u001b[0mi\u001b[0m \u001b[1;33m%\u001b[0m \u001b[1;36m8\u001b[0m\u001b[1;33m)\u001b[0m\u001b[1;33m)\u001b[0m\u001b[1;33m\u001b[0m\u001b[0m\n\u001b[1;32m--> 130\u001b[1;33m             \u001b[0mnode\u001b[0m \u001b[1;33m=\u001b[0m \u001b[0mself\u001b[0m\u001b[1;33m.\u001b[0m\u001b[0m_read_node\u001b[0m\u001b[1;33m(\u001b[0m\u001b[0mnode\u001b[0m\u001b[1;33m,\u001b[0m \u001b[0mbit\u001b[0m\u001b[1;33m)\u001b[0m\u001b[1;33m\u001b[0m\u001b[0m\n\u001b[0m\u001b[0;32m    131\u001b[0m         \u001b[1;32mif\u001b[0m \u001b[0mnode\u001b[0m \u001b[1;33m==\u001b[0m \u001b[0mself\u001b[0m\u001b[1;33m.\u001b[0m\u001b[0m_metadata\u001b[0m\u001b[1;33m.\u001b[0m\u001b[0mnode_count\u001b[0m\u001b[1;33m:\u001b[0m\u001b[1;33m\u001b[0m\u001b[0m\n\u001b[0;32m    132\u001b[0m             \u001b[1;31m# Record is empty\u001b[0m\u001b[1;33m\u001b[0m\u001b[1;33m\u001b[0m\u001b[0m\n",
      "\u001b[1;32m~\\Anaconda3\\lib\\site-packages\\maxminddb\\reader.py\u001b[0m in \u001b[0;36m_read_node\u001b[1;34m(self, node_number, index)\u001b[0m\n\u001b[0;32m    163\u001b[0m         \u001b[1;32melif\u001b[0m \u001b[0mrecord_size\u001b[0m \u001b[1;33m==\u001b[0m \u001b[1;36m28\u001b[0m\u001b[1;33m:\u001b[0m\u001b[1;33m\u001b[0m\u001b[0m\n\u001b[0;32m    164\u001b[0m             (middle, ) = struct.unpack(\n\u001b[1;32m--> 165\u001b[1;33m                 b'!B', self._buffer[base_offset + 3:base_offset + 4])\n\u001b[0m\u001b[0;32m    166\u001b[0m             \u001b[1;32mif\u001b[0m \u001b[0mindex\u001b[0m\u001b[1;33m:\u001b[0m\u001b[1;33m\u001b[0m\u001b[0m\n\u001b[0;32m    167\u001b[0m                 \u001b[0mmiddle\u001b[0m \u001b[1;33m&=\u001b[0m \u001b[1;36m0x0F\u001b[0m\u001b[1;33m\u001b[0m\u001b[0m\n",
      "\u001b[1;31mValueError\u001b[0m: mmap closed or invalid"
     ]
    }
   ],
   "source": [
    "iis_logs_df['client-ip'].apply(lambda x: reader.city(ip_address=x))"
   ]
  },
  {
   "cell_type": "code",
   "execution_count": null,
   "metadata": {},
   "outputs": [],
   "source": []
  }
 ],
 "metadata": {
  "kernelspec": {
   "display_name": "Python 3",
   "language": "python",
   "name": "python3"
  },
  "language_info": {
   "codemirror_mode": {
    "name": "ipython",
    "version": 3
   },
   "file_extension": ".py",
   "mimetype": "text/x-python",
   "name": "python",
   "nbconvert_exporter": "python",
   "pygments_lexer": "ipython3",
   "version": "3.6.5"
  }
 },
 "nbformat": 4,
 "nbformat_minor": 2
}
