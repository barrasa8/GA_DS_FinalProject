{
 "cells": [
  {
   "cell_type": "code",
   "execution_count": 1,
   "metadata": {},
   "outputs": [],
   "source": [
    "import pandas as pd\n",
    "import statsmodels.api as sm\n",
    "import numpy as np\n",
    "import seaborn as sns\n",
    "import matplotlib.pyplot as plt\n",
    "import geoip2.database\n",
    "import myLogReader as mlr\n",
    "import re\n",
    "import os\n",
    "import sys\n",
    "import datetime as dt\n",
    "\n",
    "%matplotlib inline"
   ]
  },
  {
   "cell_type": "markdown",
   "metadata": {},
   "source": [
    "## Automate - Read and Prep log data into DF"
   ]
  },
  {
   "cell_type": "code",
   "execution_count": 2,
   "metadata": {},
   "outputs": [],
   "source": [
    "logsPath = '../data/logs'\n",
    "geoLiteIPDBPath = '../data/GeoLite2-City_20181009/GeoLite2-City.mmdb'\n",
    "\n",
    "#Create a myLogReader object\n",
    "myLogReader = mlr.log()\n",
    "#Open Reader\n",
    "myLogReader.openReader(geoLiteIPDBPath)"
   ]
  },
  {
   "cell_type": "code",
   "execution_count": 3,
   "metadata": {},
   "outputs": [
    {
     "name": "stdout",
     "output_type": "stream",
     "text": [
      "../data/logs\\u_ex171211.log\n"
     ]
    }
   ],
   "source": [
    "df =  myLogReader.readLogs(logsPath,1)"
   ]
  },
  {
   "cell_type": "code",
   "execution_count": 4,
   "metadata": {},
   "outputs": [],
   "source": [
    "#Close Reader\n",
    "myLogReader.closeReader()"
   ]
  },
  {
   "cell_type": "code",
   "execution_count": 5,
   "metadata": {},
   "outputs": [
    {
     "data": {
      "text/html": [
       "<div>\n",
       "<style scoped>\n",
       "    .dataframe tbody tr th:only-of-type {\n",
       "        vertical-align: middle;\n",
       "    }\n",
       "\n",
       "    .dataframe tbody tr th {\n",
       "        vertical-align: top;\n",
       "    }\n",
       "\n",
       "    .dataframe thead th {\n",
       "        text-align: right;\n",
       "    }\n",
       "</style>\n",
       "<table border=\"1\" class=\"dataframe\">\n",
       "  <thead>\n",
       "    <tr style=\"text-align: right;\">\n",
       "      <th></th>\n",
       "      <th>date</th>\n",
       "      <th>cs-username</th>\n",
       "      <th>client-ip</th>\n",
       "      <th>time-taken(ms)</th>\n",
       "      <th>client-device</th>\n",
       "      <th>client-browser</th>\n",
       "      <th>client-webPage</th>\n",
       "      <th>client-city</th>\n",
       "      <th>client-country</th>\n",
       "      <th>date-IsWeekday</th>\n",
       "      <th>date-calendar-week</th>\n",
       "      <th>date-year</th>\n",
       "    </tr>\n",
       "  </thead>\n",
       "  <tbody>\n",
       "    <tr>\n",
       "      <th>0</th>\n",
       "      <td>2017-12-11</td>\n",
       "      <td>Unknown</td>\n",
       "      <td>137.92.136.50</td>\n",
       "      <td>109</td>\n",
       "      <td>Desktop</td>\n",
       "      <td>Chrome</td>\n",
       "      <td>Security</td>\n",
       "      <td>Unknown</td>\n",
       "      <td>Australia</td>\n",
       "      <td>1</td>\n",
       "      <td>50</td>\n",
       "      <td>2017</td>\n",
       "    </tr>\n",
       "    <tr>\n",
       "      <th>1</th>\n",
       "      <td>2017-12-11</td>\n",
       "      <td>u3118068</td>\n",
       "      <td>137.92.136.50</td>\n",
       "      <td>156</td>\n",
       "      <td>Desktop</td>\n",
       "      <td>Chrome</td>\n",
       "      <td>Security</td>\n",
       "      <td>Unknown</td>\n",
       "      <td>Australia</td>\n",
       "      <td>1</td>\n",
       "      <td>50</td>\n",
       "      <td>2017</td>\n",
       "    </tr>\n",
       "    <tr>\n",
       "      <th>2</th>\n",
       "      <td>2017-12-11</td>\n",
       "      <td>u3118068</td>\n",
       "      <td>137.92.136.50</td>\n",
       "      <td>78</td>\n",
       "      <td>Desktop</td>\n",
       "      <td>Chrome</td>\n",
       "      <td>Security</td>\n",
       "      <td>Unknown</td>\n",
       "      <td>Australia</td>\n",
       "      <td>1</td>\n",
       "      <td>50</td>\n",
       "      <td>2017</td>\n",
       "    </tr>\n",
       "    <tr>\n",
       "      <th>3</th>\n",
       "      <td>2017-12-11</td>\n",
       "      <td>u3118068</td>\n",
       "      <td>137.92.136.50</td>\n",
       "      <td>2593</td>\n",
       "      <td>Desktop</td>\n",
       "      <td>Chrome</td>\n",
       "      <td>Security</td>\n",
       "      <td>Unknown</td>\n",
       "      <td>Australia</td>\n",
       "      <td>1</td>\n",
       "      <td>50</td>\n",
       "      <td>2017</td>\n",
       "    </tr>\n",
       "    <tr>\n",
       "      <th>4</th>\n",
       "      <td>2017-12-11</td>\n",
       "      <td>u3118068</td>\n",
       "      <td>137.92.136.50</td>\n",
       "      <td>46</td>\n",
       "      <td>Desktop</td>\n",
       "      <td>Chrome</td>\n",
       "      <td>Unknown</td>\n",
       "      <td>Unknown</td>\n",
       "      <td>Australia</td>\n",
       "      <td>1</td>\n",
       "      <td>50</td>\n",
       "      <td>2017</td>\n",
       "    </tr>\n",
       "  </tbody>\n",
       "</table>\n",
       "</div>"
      ],
      "text/plain": [
       "         date cs-username      client-ip  time-taken(ms) client-device  \\\n",
       "0  2017-12-11     Unknown  137.92.136.50             109       Desktop   \n",
       "1  2017-12-11    u3118068  137.92.136.50             156       Desktop   \n",
       "2  2017-12-11    u3118068  137.92.136.50              78       Desktop   \n",
       "3  2017-12-11    u3118068  137.92.136.50            2593       Desktop   \n",
       "4  2017-12-11    u3118068  137.92.136.50              46       Desktop   \n",
       "\n",
       "  client-browser client-webPage client-city client-country  date-IsWeekday  \\\n",
       "0         Chrome       Security     Unknown      Australia               1   \n",
       "1         Chrome       Security     Unknown      Australia               1   \n",
       "2         Chrome       Security     Unknown      Australia               1   \n",
       "3         Chrome       Security     Unknown      Australia               1   \n",
       "4         Chrome        Unknown     Unknown      Australia               1   \n",
       "\n",
       "   date-calendar-week  date-year  \n",
       "0                  50       2017  \n",
       "1                  50       2017  \n",
       "2                  50       2017  \n",
       "3                  50       2017  \n",
       "4                  50       2017  "
      ]
     },
     "execution_count": 5,
     "metadata": {},
     "output_type": "execute_result"
    }
   ],
   "source": [
    "df.head()"
   ]
  },
  {
   "cell_type": "markdown",
   "metadata": {},
   "source": [
    "#### 2- Automate load logs and aggregate data"
   ]
  },
  {
   "cell_type": "code",
   "execution_count": null,
   "metadata": {},
   "outputs": [],
   "source": [
    "#df.to_csv('test.csv')"
   ]
  },
  {
   "cell_type": "code",
   "execution_count": 100,
   "metadata": {},
   "outputs": [
    {
     "data": {
      "text/html": [
       "<div>\n",
       "<style scoped>\n",
       "    .dataframe tbody tr th:only-of-type {\n",
       "        vertical-align: middle;\n",
       "    }\n",
       "\n",
       "    .dataframe tbody tr th {\n",
       "        vertical-align: top;\n",
       "    }\n",
       "\n",
       "    .dataframe thead th {\n",
       "        text-align: right;\n",
       "    }\n",
       "</style>\n",
       "<table border=\"1\" class=\"dataframe\">\n",
       "  <thead>\n",
       "    <tr style=\"text-align: right;\">\n",
       "      <th>client-device</th>\n",
       "      <th>Desktop-count</th>\n",
       "      <th>Mobile-count</th>\n",
       "    </tr>\n",
       "    <tr>\n",
       "      <th>calendar-year-week</th>\n",
       "      <th></th>\n",
       "      <th></th>\n",
       "    </tr>\n",
       "  </thead>\n",
       "  <tbody>\n",
       "    <tr>\n",
       "      <th>2017-50</th>\n",
       "      <td>20677</td>\n",
       "      <td>1661</td>\n",
       "    </tr>\n",
       "  </tbody>\n",
       "</table>\n",
       "</div>"
      ],
      "text/plain": [
       "client-device       Desktop-count  Mobile-count\n",
       "calendar-year-week                             \n",
       "2017-50                     20677          1661"
      ]
     },
     "execution_count": 100,
     "metadata": {},
     "output_type": "execute_result"
    }
   ],
   "source": [
    "(df.groupby(by=['calendar-year-week'])\n",
    "            .agg({'client-ip': pd.Series.nunique})\n",
    "            .rename(columns = {'client-ip':'client-ip-unique-count'}))\n",
    "\n",
    "(df.groupby(by=['calendar-year-week'])\n",
    "            .agg({'cs-username': pd.Series.nunique})\n",
    "            .rename(columns = {'cs-username':'cs-username-unique-count'}))\n",
    "\n",
    "(df.groupby(by=['calendar-year-week'])\n",
    "            .agg({'client-ip': pd.Series.count,'time-taken(ms)' : pd.Series.sum})\n",
    "            .rename(columns = {'client-ip':'client-ip-unique-count','time-taken(ms)' :'time-taken(ms)-sum' }))\n",
    "\n",
    "\n",
    "(df.groupby(by=['calendar-year-week','client-browser'])\n",
    "            .agg({'client-browser': pd.Series.count})\n",
    "            .rename(columns = {'client-browser':'client-browser-count'})      \n",
    "            .reset_index(level=1)\n",
    "            .pivot(columns='client-browser',values='client-browser-count')\n",
    "            .rename(columns = {'Chrome':'Chrome-count'\n",
    "                              ,'Firefox':'Firefox-count'\n",
    "                              ,'Other':'Other-count'\n",
    "                              ,'Safari':'Safari-count'}))\n",
    "\n",
    "\n",
    "\n",
    "(df.groupby(by=['calendar-year-week','client-device'])\n",
    "            .agg({'client-device': pd.Series.count})  \n",
    "            .rename(columns = {'client-device':'client-device-count'})      \n",
    "            .reset_index(level=1)\n",
    "            .pivot(columns='client-device',values='client-device-count')\n",
    "            .rename(columns = {'Desktop':'Desktop-count'\n",
    "                              ,'Mobile':'Mobile-count'}))"
   ]
  },
  {
   "cell_type": "code",
   "execution_count": 83,
   "metadata": {},
   "outputs": [
    {
     "data": {
      "text/html": [
       "<div>\n",
       "<style scoped>\n",
       "    .dataframe tbody tr th:only-of-type {\n",
       "        vertical-align: middle;\n",
       "    }\n",
       "\n",
       "    .dataframe tbody tr th {\n",
       "        vertical-align: top;\n",
       "    }\n",
       "\n",
       "    .dataframe thead th {\n",
       "        text-align: right;\n",
       "    }\n",
       "</style>\n",
       "<table border=\"1\" class=\"dataframe\">\n",
       "  <thead>\n",
       "    <tr style=\"text-align: right;\">\n",
       "      <th>client-browser</th>\n",
       "      <th>Chrome</th>\n",
       "      <th>Firefox</th>\n",
       "      <th>Other</th>\n",
       "      <th>Safari</th>\n",
       "    </tr>\n",
       "    <tr>\n",
       "      <th>calendar-year-week</th>\n",
       "      <th></th>\n",
       "      <th></th>\n",
       "      <th></th>\n",
       "      <th></th>\n",
       "    </tr>\n",
       "  </thead>\n",
       "  <tbody>\n",
       "    <tr>\n",
       "      <th>2017-50</th>\n",
       "      <td>9851</td>\n",
       "      <td>2889</td>\n",
       "      <td>6421</td>\n",
       "      <td>3177</td>\n",
       "    </tr>\n",
       "  </tbody>\n",
       "</table>\n",
       "</div>"
      ],
      "text/plain": [
       "client-browser      Chrome  Firefox  Other  Safari\n",
       "calendar-year-week                                \n",
       "2017-50               9851     2889   6421    3177"
      ]
     },
     "execution_count": 83,
     "metadata": {},
     "output_type": "execute_result"
    }
   ],
   "source": [
    "\n",
    "(df.groupby(by=['calendar-year-week','client-browser'])\n",
    "            .agg({'client-browser': pd.Series.count})\n",
    "            .rename(columns = {'client-browser':'client-browser-count'})      \n",
    "            .reset_index(level=1)\n",
    "            .pivot(columns='client-browser',values='client-browser-count')\n",
    ")\n",
    "#df.head()"
   ]
  },
  {
   "cell_type": "code",
   "execution_count": 67,
   "metadata": {},
   "outputs": [
    {
     "name": "stdout",
     "output_type": "stream",
     "text": [
      "<class 'pandas.core.frame.DataFrame'>\n",
      "RangeIndex: 22338 entries, 0 to 22337\n",
      "Data columns (total 12 columns):\n",
      "date                  22338 non-null object\n",
      "cs-username           22338 non-null object\n",
      "client-ip             22338 non-null object\n",
      "time-taken(ms)        22338 non-null int64\n",
      "client-device         22338 non-null object\n",
      "client-browser        22338 non-null object\n",
      "client-webPage        22338 non-null object\n",
      "client-city           22338 non-null object\n",
      "client-country        22338 non-null object\n",
      "date-IsWeekday        22338 non-null int64\n",
      "date-calendar-week    22338 non-null int64\n",
      "date-year             22338 non-null int64\n",
      "dtypes: int64(4), object(8)\n",
      "memory usage: 2.0+ MB\n"
     ]
    }
   ],
   "source": [
    "df.info()"
   ]
  },
  {
   "cell_type": "code",
   "execution_count": 14,
   "metadata": {},
   "outputs": [
    {
     "data": {
      "text/plain": [
       "count            22338\n",
       "unique             265\n",
       "top       137.92.20.63\n",
       "freq              2144\n",
       "Name: client-ip, dtype: object"
      ]
     },
     "execution_count": 14,
     "metadata": {},
     "output_type": "execute_result"
    }
   ],
   "source": [
    "df['client-ip'].describe()"
   ]
  },
  {
   "cell_type": "code",
   "execution_count": 7,
   "metadata": {},
   "outputs": [
    {
     "data": {
      "text/html": [
       "<div>\n",
       "<style scoped>\n",
       "    .dataframe tbody tr th:only-of-type {\n",
       "        vertical-align: middle;\n",
       "    }\n",
       "\n",
       "    .dataframe tbody tr th {\n",
       "        vertical-align: top;\n",
       "    }\n",
       "\n",
       "    .dataframe thead th {\n",
       "        text-align: right;\n",
       "    }\n",
       "</style>\n",
       "<table border=\"1\" class=\"dataframe\">\n",
       "  <thead>\n",
       "    <tr style=\"text-align: right;\">\n",
       "      <th></th>\n",
       "      <th>date</th>\n",
       "      <th>cs-username</th>\n",
       "      <th>client-ip</th>\n",
       "      <th>client-device</th>\n",
       "      <th>client-browser</th>\n",
       "      <th>client-webPage</th>\n",
       "      <th>client-city</th>\n",
       "      <th>client-country</th>\n",
       "    </tr>\n",
       "  </thead>\n",
       "  <tbody>\n",
       "    <tr>\n",
       "      <th>count</th>\n",
       "      <td>22338</td>\n",
       "      <td>22338</td>\n",
       "      <td>22338</td>\n",
       "      <td>22338</td>\n",
       "      <td>22338</td>\n",
       "      <td>22338</td>\n",
       "      <td>22338</td>\n",
       "      <td>22338</td>\n",
       "    </tr>\n",
       "    <tr>\n",
       "      <th>unique</th>\n",
       "      <td>1</td>\n",
       "      <td>145</td>\n",
       "      <td>265</td>\n",
       "      <td>2</td>\n",
       "      <td>4</td>\n",
       "      <td>24</td>\n",
       "      <td>75</td>\n",
       "      <td>11</td>\n",
       "    </tr>\n",
       "    <tr>\n",
       "      <th>top</th>\n",
       "      <td>2017-12-11</td>\n",
       "      <td>Unknown</td>\n",
       "      <td>137.92.20.63</td>\n",
       "      <td>Desktop</td>\n",
       "      <td>Chrome</td>\n",
       "      <td>Unknown</td>\n",
       "      <td>Canberra</td>\n",
       "      <td>Australia</td>\n",
       "    </tr>\n",
       "    <tr>\n",
       "      <th>freq</th>\n",
       "      <td>22338</td>\n",
       "      <td>6875</td>\n",
       "      <td>2144</td>\n",
       "      <td>20677</td>\n",
       "      <td>9851</td>\n",
       "      <td>6336</td>\n",
       "      <td>9449</td>\n",
       "      <td>19538</td>\n",
       "    </tr>\n",
       "  </tbody>\n",
       "</table>\n",
       "</div>"
      ],
      "text/plain": [
       "              date cs-username     client-ip client-device client-browser  \\\n",
       "count        22338       22338         22338         22338          22338   \n",
       "unique           1         145           265             2              4   \n",
       "top     2017-12-11     Unknown  137.92.20.63       Desktop         Chrome   \n",
       "freq         22338        6875          2144         20677           9851   \n",
       "\n",
       "       client-webPage client-city client-country  \n",
       "count           22338       22338          22338  \n",
       "unique             24          75             11  \n",
       "top           Unknown    Canberra      Australia  \n",
       "freq             6336        9449          19538  "
      ]
     },
     "execution_count": 7,
     "metadata": {},
     "output_type": "execute_result"
    }
   ],
   "source": [
    "df.loc[:, df.dtypes == object].describe()"
   ]
  },
  {
   "cell_type": "code",
   "execution_count": 6,
   "metadata": {},
   "outputs": [
    {
     "data": {
      "text/plain": [
       "date                  0\n",
       "cs-username           0\n",
       "client-ip             0\n",
       "time-taken(ms)        0\n",
       "client-device         0\n",
       "client-browser        0\n",
       "client-webPage        0\n",
       "client-city           0\n",
       "client-country        0\n",
       "date-IsWeekday        0\n",
       "date-calendar-week    0\n",
       "date-year             0\n",
       "dtype: int64"
      ]
     },
     "execution_count": 6,
     "metadata": {},
     "output_type": "execute_result"
    }
   ],
   "source": [
    "df.isna().sum()"
   ]
  },
  {
   "cell_type": "code",
   "execution_count": null,
   "metadata": {},
   "outputs": [],
   "source": []
  }
 ],
 "metadata": {
  "kernelspec": {
   "display_name": "Python 3",
   "language": "python",
   "name": "python3"
  },
  "language_info": {
   "codemirror_mode": {
    "name": "ipython",
    "version": 3
   },
   "file_extension": ".py",
   "mimetype": "text/x-python",
   "name": "python",
   "nbconvert_exporter": "python",
   "pygments_lexer": "ipython3",
   "version": "3.6.5"
  }
 },
 "nbformat": 4,
 "nbformat_minor": 2
}
