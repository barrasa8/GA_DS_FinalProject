{
 "cells": [
  {
   "cell_type": "markdown",
   "metadata": {},
   "source": [
    "# Time Series - Active Users "
   ]
  },
  {
   "cell_type": "markdown",
   "metadata": {},
   "source": [
    "## Project problem\n",
    "\n",
    "A web-based application, is used by University's staff members, students and  agencies. At the moment there we keep track on How many active users are connected every month, but there is no forecasting model in place to predict active users in the following weeks. \n",
    "\n",
    "**Goal:** The intention of this notebook is to, using time series, create a model that can predict the active users in the following week.\n",
    "\n",
    "**Impact:** Since the web application is deployed in the cloud, being able to predict active users, could have an impact in how effectively cloud services are provisioned and adjusted to the demand. It could potentially save some money for the company. \n",
    "\n",
    "**Hypothesis:** Based on University placements created, a seasonality component and the number of active users in the previous period, we could predict a higher or lower number of active users."
   ]
  },
  {
   "cell_type": "markdown",
   "metadata": {},
   "source": [
    "## Dataset\n",
    "\n",
    "The dataset is a set of **IIS logs** from a client in Canberra **from 2017-12-07 to 2018-10-10**.\n",
    "\n",
    "Variable | Description | type of variable \n",
    "---|---|---\n",
    " date          | Date of the event logged|continuous\n",
    " time          | Time of the event logged|continuous\n",
    " server-ip     | IP of the server|categorical\n",
    " cs-uri-query  | Part of the URL access by the client|categorical\n",
    " server-port   | Server port used for serving the page|categorical\n",
    " cs-username   | Client user. High percentage of requests are missing the user|categorical \n",
    " client-ip     | IP of the client|categorical\n",
    " cs(User-Agent)| Http response part with information about the browser used and the type of device|categorical\n",
    " cs(Referer)   | Http reponse part with the URL accessed |categorical\n",
    " sc-status     | Http response status|categorical\n",
    " sc-substatus  | Http response sub-status|categorical\n",
    " time-taken(ms)| time taken in ms, to repond|continuous\n",
    " client-city   | City from which the client connected. Derived from the IP|categorical\n",
    " client-country| Country from which the client.Derived from the IP |categorical\n",
    " client-device | Type of deviced used to access the website by the client (Desktop or Mobile). |categorical\n",
    " client-browser| Browser used to access the website by the client. Derived from cs(User-Agent)|categorical\n",
    " client-webPage| Web page accessed by the client, Derived from cs(User-Agent)|categorical\n",
    " \n",
    " **Need to include Placements with students, placement with no students , agreggate per week - also include data related to users if possible, to predict based on type of user, agency, staff, student**"
   ]
  },
  {
   "cell_type": "markdown",
   "metadata": {},
   "source": [
    "## Domain Knowledge\n",
    "\n",
    "This is a new area for me, as I have not being actively involved in the development of this product. But when asking around other collegues from work, the conclusion was that as of now, there is no existing process to forecast active users.\n",
    "\n",
    "There are already tools in the market like google analytics , that will give you insights based on the IIS logs, but I have not seen a tool that out from the box would provide a forecast on active users from the IIS logs."
   ]
  },
  {
   "cell_type": "markdown",
   "metadata": {},
   "source": [
    "## Project concerns\n",
    "**Risks:** \n",
    "\n",
    "1) cs-username is missing in a lot of the observations. It might not be good enough to identify what type of user is connection to the website (staff, agency, student). If that is the case, we will just forecast active users as a whole.\n",
    "\n",
    "2) The features and the model having a very low accuracy, below 60%. \n"
   ]
  },
  {
   "cell_type": "markdown",
   "metadata": {},
   "source": [
    "## Outcomes\n",
    "For the project to be a success , the prediction accuraty should be at least 60%. If the project fail, I will try other features or timeseries models , with the goal to improve the accuracy to at least 60%."
   ]
  },
  {
   "cell_type": "code",
   "execution_count": null,
   "metadata": {},
   "outputs": [],
   "source": []
  }
 ],
 "metadata": {
  "kernelspec": {
   "display_name": "Python 3",
   "language": "python",
   "name": "python3"
  },
  "language_info": {
   "codemirror_mode": {
    "name": "ipython",
    "version": 3
   },
   "file_extension": ".py",
   "mimetype": "text/x-python",
   "name": "python",
   "nbconvert_exporter": "python",
   "pygments_lexer": "ipython3",
   "version": "3.6.5"
  }
 },
 "nbformat": 4,
 "nbformat_minor": 2
}
